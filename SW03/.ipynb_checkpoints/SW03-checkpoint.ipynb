{
 "cells": [
  {
   "cell_type": "markdown",
   "id": "f8edfe32-7c29-46a2-939f-a0d3f4e6fa2b",
   "metadata": {},
   "source": [
    "# <span style=\"color:rgb(160,0,86)\">Datenvisualisierung mit Python</span>\n",
    "\n",
    "***"
   ]
  },
  {
   "cell_type": "markdown",
   "id": "efc2b411-5d0c-45cd-a36d-deb3a678be0e",
   "metadata": {},
   "source": [
    "## <span style=\"color:rgb(160,0,86)\">Lernziele</span>\n",
    "\n",
    "- Sie können mit Python die Verteilung nominaler, ordinaler und metrischer Daten **graphisch darstellen**.\n",
    "- Sie können Informationen aus **Kreisdiagrammen**, **Balkendiagrammen**, **Histogrammen**, **Dichtediagramme** und **Boxplots** herauslesen.  \n",
    "\n",
    "***"
   ]
  },
  {
   "cell_type": "markdown",
   "id": "e1aeb5b2-eafa-4db1-b3d5-9b13de1f83fe",
   "metadata": {},
   "source": [
    "### <span style=\"color:rgb(160,0,86)\">Wie können wir die Verteilung von Daten graphisch darstellen?</span>\n",
    "\n",
    "Lagemasse und Streumasse fassen die Daten mit einem typischen Wert zusammen. Aber es ist auch wertvoll, die **gesamte Verteilung** der Daten zu untersuchen. \n",
    "- Die Verteilung ***nominaler Merkmale*** wird häufig in einem <span style=\"color:rgb(160,0,86)\">**Kreisdiagramm**</span> dargestellt. Die relativen Häufigkeiten aller Werte des Merkmals werden proportional als Kreissektoren abgebiltet.  \n",
    "- Für ***ordinale Markmale*** ist ein <span style=\"color:rgb(160,0,86)\">**Balkendiagramm**</span> besser geeignet, weil die natürliche Reihenfole der Werte von links nach rechts dargestellt werden kann. Die absoluten oder relativen Häufigkeiten der Werte werden proportional zur Höhe eines Balken abgebildet.\n",
    "- Die Verteilung ***metrischer Merkmale*** werden in <span style=\"color:rgb(160,0,86)\">**Histogrammen**</span> oder <span style=\"color:rgb(160,0,86)\">**Dichtediagrammen**</span> dargestellt, in denen die vielen Zahlenwerte des Merkmals in Klassen eingeteilt werden. Eine weitere häufige Visualisierung von metrischen Daten ist der <span style=\"color:rgb(160,0,86)\">**Box-Plot**</span>, in dem neben der *Verteilung* auch ein *Lagemass* (Median) und ein *Streumass* (Quartielsabstand) sichtbar werden."
   ]
  },
  {
   "cell_type": "markdown",
   "id": "2e06298c-4330-47c3-8648-09690e76b5d3",
   "metadata": {},
   "source": [
    "#### <span style=\"color:rgb(160,0,86)\">Beispiel:</span>\n",
    "\n",
    "Wir betrachten wieder die 10 ehemaligen Studierenden:\n",
    "\n",
    "$$\\begin{bmatrix}\n",
    "\\text{Anna}&w&\\text{ausgezeichnet}&27\\\\\n",
    "\\text{Beat}&m&\\text{gut}&34\\\\\n",
    "\\text{Cary}&m&\\text{sehr gut}&29\\\\\n",
    "\\text{Dana}&w&\\text{sehr gut}&24\\\\\n",
    "\\text{Elif}&w&\\text{gut}&25\\\\\n",
    "\\text{Faro}&m&\\text{ausgezeichnet}&27\\\\\n",
    "\\text{Gabi}&w&\\text{sehr gut}&27\\\\\n",
    "\\text{Hans}&m&\\text{genügend}&69\\\\\n",
    "\\text{Ivea}&w&\\text{sehr gut}&26\\\\\n",
    "\\text{Jose}&w&\\text{gut}&31\n",
    "\\end{bmatrix}$$ \n",
    "\n",
    "Wir erstellen wieder mit **pandas** ein DataFrame Objekt mit Namen **df** für diese Daten:"
   ]
  },
  {
   "cell_type": "code",
   "execution_count": null,
   "id": "ce3b7886-853b-4cf7-9507-926562af37fd",
   "metadata": {},
   "outputs": [],
   "source": [
    "namen = [\"Anna\",\"Beat\",\"Cary\",\"Dana\",\"Elif\",\"Faro\",\"Gabi\",\"Hans\",\"Ivea\",\"Jose\"]\n",
    "geschlecht = [\"w\",\"m\",\"m\",\"w\",\"w\",\"m\",\"w\",\"m\",\"w\",\"w\"]\n",
    "prädikat = [\"ausgezeichnet\",\"gut\",\"sehr gut\",\"sehr gut\",\"gut\",\"ausgezeichnet\",\"sehr gut\",\"genügend\",\"sehr gut\",\"gut\"]\n",
    "alter = [27,34,29,24,25,27,27,69,26,31]\n",
    "\n",
    "import numpy as np\n",
    "import pandas as pd\n",
    "df = pd.DataFrame({\"Name\":namen,\"Geschlecht\":geschlecht,\n",
    "                   \"Prädikat\":prädikat,\"Alter\":alter})\n"
   ]
  },
  {
   "cell_type": "markdown",
   "id": "a00b5fb1-4cd6-40f0-b0c8-47d00bb3b99d",
   "metadata": {},
   "source": [
    "#### <span style=\"color:rgb(160,0,86)\">Wie können wir mit Python Diagramme Zeichnen?</span>\n",
    "\n",
    "Das Modul **Matplotlib** ist das wichtigste **Visualisierungsmodul** in Python, es wird oft als ***Standardbibliothek für Plots*** bezeichnet.\n",
    "\n",
    "- Es erlaubt die Erstellung von Diagrammen wie Linien-, Balken-, Punktdiagramme, Histogramme und viele mehr.\n",
    "- Link zur **Modulseite**: https://matplotlib.org/\n",
    "\n",
    "Der Teilbereich **matplotlib.pyplot** stellt eine einfache, an MATLAB angelehnte Schnittstelle bereit:\n",
    "\n",
    "- Jeder Befehl verändert eine aktuelle Figur (engl. ***figure***) oder eine Achse (engl. ***axis***).\n",
    "- Link zur **API-Reference**: https://matplotlib.org/stable/api/pyplot_summary.html\n",
    "\n",
    "#### <span style=\"color:rgb(160,0,86)\">Kreisdiagramme</span>\n",
    "\n",
    "Mit der Funktion **pie()** aus dem Teilbereich **matplotlib.pyplot** können wir die Häufigkeiten des **nominalen** Merkamls **Geschlecht** sehr einfache als **Kreisdiagramm** darstellen:"
   ]
  },
  {
   "cell_type": "code",
   "execution_count": null,
   "id": "7b536d09-3ff3-4d06-aba2-c484fc98c51f",
   "metadata": {},
   "outputs": [],
   "source": [
    "werte,absH = np.unique(df[\"Geschlecht\"],return_counts=True)\n",
    "\n",
    "#pip install matplotlib\n",
    "import matplotlib.pyplot as plt\n",
    "\n",
    "plt.pie(absH,labels=werte,startangle=90,autopct=\"%1.1f%%\")\n",
    "plt.show()"
   ]
  },
  {
   "cell_type": "markdown",
   "id": "1b0caa9b-a9ba-4ae1-8797-b3b55bd3ccc1",
   "metadata": {},
   "source": [
    "#### <span style=\"color:rgb(160,0,86)\">Brauchen wir nur Matplotlib?</span>\n",
    "\n",
    "Das Modul **Matplotlib** ist ein sehr flexibler ***Werkzeugkasten***, aber man muss viel selbst einstellen.\n",
    "\n",
    "Das Modul **Seaborn** erlaubt ***Design out of the box*** mit weniger Aufwand und ist besonders praktisch für **Datenanalyse mit pandas**.\n",
    "\n",
    "- **Seaborn** ist ein auf **Matplotlib** aufbauendes Visualisierungsmodul, das für statistische Datenanalyse entwickelt wurde.\n",
    "- Es bietet eine einfachere Syntax, sinnvolle Standarddesigns und unterstützt direkt den Umgang mit **pandas DataFrames**.\n",
    "- Link zur **Modulseite**: https://seaborn.pydata.org/ \n",
    "\n",
    "Typische Eigenschaften von **Seaborn** Methoden sind die automatische Achsenbeschriftung aus DataFrame-Spalten, eingebaute Diagrammtypen wie ***scatterplot***, ***boxplot***, ***violinplot***, ***heatmap***, etc.\n",
    "\n",
    "#### <span style=\"color:rgb(160,0,86)\">Balkendagramme</span>\n",
    "Die Verteilung des **ordinalen** Merkamls **Prädikat** können wir mit einem **Balkendiagramm** darstellen:"
   ]
  },
  {
   "cell_type": "code",
   "execution_count": null,
   "id": "98828d46-fc83-44a9-b957-85472d54916b",
   "metadata": {},
   "outputs": [],
   "source": [
    "# pip install seaborn\n",
    "import seaborn as sns\n",
    "import matplotlib.pyplot as plt\n",
    "\n",
    "fig = plt.figure()\n",
    "\n",
    "ax = fig.add_subplot(1,1,1) \n",
    "# 1.Zahl -> Zeile, 2. Zahl -> Spalte, 3. Zahl -> Position\n",
    "sns.countplot(data=df,x=\"Prädikat\",\n",
    "              order=[\"genügend\",\"gut\",\"sehr gut\",\"ausgezeichnet\"],ax = ax)\n",
    "ax.set_title(\"Balkendiagramm\")\n",
    "ax.set_ylabel(\"Absolute Häufigkeit\")\n",
    "\n",
    "plt.show()"
   ]
  },
  {
   "cell_type": "markdown",
   "id": "91552d0b-24cb-4c14-99a7-f3d2bcf0e477",
   "metadata": {},
   "source": [
    "***Wie weit*** die Werte des Markmals **Prädikat** auseinander liegen, ist ***nicht relevant***. Sie sind nur von <tt>'genügend'</tt> bis <tt>'ausgezeichnet'</tt> geordnet.\n",
    "\n",
    "Die ***Abstände zwischen Werten*** eines **metrischen** Merkmales sind hingegen eindeutig gegeben. \n",
    "\n",
    "Oft haben metrische Merkmale auch ***viele verschiedene Werte***, so dass ein Balkendiagramm die Charakteristik einer Verteilung nicht mehr sinnvoll abbildet. \n",
    "\n",
    "Daher ***unterteilen wir die Werte*** eines metrischen Merkmals in Abschitte, sogenannte ***Klassen***, und bilden die absoluten oder relativen Häufigkeiten der Werte in diesen Klassen mit Rechtecken ab, deren Höhe proportional zu diesen Häufigkeiten ist. \n",
    "\n",
    "#### <span style=\"color:rgb(160,0,86)\">Histogramme und Dichtediagramme</span>\n",
    "\n",
    "Wenn also Häufigkeiten über einer Unterteilung der Zahlenachse abgebildet werden, entsteht ein **Histogramm**:  "
   ]
  },
  {
   "cell_type": "code",
   "execution_count": null,
   "id": "02c90706-86c8-4615-9f44-95dbb64e0673",
   "metadata": {},
   "outputs": [],
   "source": [
    "import seaborn as sns\n",
    "import matplotlib.pyplot as plt\n",
    "\n",
    "fig = plt.figure(figsize=(12,12))\n",
    "\n",
    "ax1 = fig.add_subplot(2,2,1) # 1.Zahl -> Zeile, 2. Zahl -> Spalte, 3. Zahl -> Position\n",
    "sns.histplot(data=df,x=\"Alter\",bins=2,ax=ax1)\n",
    "ax1.set_title(\"Histogramm mit 2 Klassen\")\n",
    "ax1.set_ylabel(\"Absolute Häufigkeit\")\n",
    "\n",
    "ax2 = fig.add_subplot(2,2,2)\n",
    "sns.histplot(data=df,x=\"Alter\",bins=3,ax=ax2)\n",
    "ax2.set_title(\"Histogramm mit 3 Klassen\")\n",
    "ax2.set_ylabel(\"Absolute Häufigkeit\")\n",
    "\n",
    "ax3 = fig.add_subplot(2,2,3)\n",
    "sns.histplot(data=df,x=\"Alter\",bins=5,ax=ax3)\n",
    "ax3.set_title(\"Histogramm mit 5 Klassen\")\n",
    "ax3.set_ylabel(\"Absolute Häufigkeit\")\n",
    "\n",
    "ax4 = fig.add_subplot(2,2,4)\n",
    "sns.histplot(data=df,x=\"Alter\",ax=ax4)\n",
    "ax4.set_title(\"Automatische Klasseneinteilung\")\n",
    "ax4.set_ylabel(\"Absolute Häufigkeit\")\n",
    "\n",
    "plt.show()"
   ]
  },
  {
   "cell_type": "markdown",
   "id": "c5dd54e6-7f16-42ec-af3b-4849100adc7a",
   "metadata": {},
   "source": [
    "- In **Histogrammen** werden die Häufigkeiten der Klassen ***proportional zur Höhe der Rechtecke*** abgebildet.\n",
    "- In **Dichtediagrammen** werden die relativen Häufgikeiten der Klassen ***proportional zur Fläche der Rechtecke*** abgebildet: "
   ]
  },
  {
   "cell_type": "code",
   "execution_count": null,
   "id": "613b267d-0eea-4d24-9093-e80d046f3098",
   "metadata": {},
   "outputs": [],
   "source": [
    "import seaborn as sns\n",
    "import matplotlib.pyplot as plt\n",
    "\n",
    "fig = plt.figure(figsize=(12,5))\n",
    "\n",
    "ax1 = fig.add_subplot(1,2,1)\n",
    "sns.histplot(data=df,x=\"Alter\",bins=2,stat=\"density\",color=\"red\",ax=ax1)\n",
    "ax1.set_title(\"Dichtediagramm mit 2 Klassen\")\n",
    "ax1.set_ylabel(\"Dichte\")\n",
    "\n",
    "ax2 = fig.add_subplot(1,2,2)\n",
    "sns.histplot(data=df,x=\"Alter\",bins=np.arange(23,70),stat=\"density\",color=\"red\",ax=ax2)\n",
    "ax2.set_title(\"Dichtediagramm mit Klassen der Breite 1 Jahr\")\n",
    "ax2.set_ylabel(\"Dichte\")\n",
    "\n",
    "plt.show()"
   ]
  },
  {
   "cell_type": "markdown",
   "id": "49abf466-4749-4b92-aa5b-e78f29c4527c",
   "metadata": {},
   "source": [
    "#### <span style=\"color:rgb(160,0,86)\">Typische Formen von Verteilungen</span>\n",
    "\n",
    "Ein Histogramm oder Dichtediagramm heisst:\n",
    "- **symmetrisch**, wenn die meisten Daten um den Mittelwert liegen und ungefähr die hälfte der Daten unter beziehungsweise über dieser mittleren Lage sind.\n",
    "- **linksschief**, wenn die Daten weiter nach links abfallen. Es gibt also auf der linken Seiten extreme Werte.\n",
    "- **rechtsschief**, wenn die Daten weiter nach rechts abfallen. Es gibt also auf der rechten Seiten extreme Werte.\n",
    "\n",
    "Das Merkmal **Alter** hat demnach eine ***rechtsschiefe*** Verteilung.\n",
    "\n",
    "#### <span style=\"color:rgb(160,0,86)\">Box-Plots</span>\n",
    "\n",
    "Um die Lage der Daten und die Symmetrie eines metrischen Merkmals graphsich darzustellen, können wir einen sogenannten **Box-Plot** zeichen:\n",
    "- mit einem Rechteck, dessen Höhe dem Quartilsabstand $Q$ enspricht\n",
    "- der Median $x_{50}$ unterteil das Rechteck in zwei Teile\n",
    "- unten und oben wird mit einem *Whisker* der kleinest beziehungsweise der grösste noch normale Wert angegeben.\n",
    "- Werte, die $1.5Q$-mal weiter vom unteren beziehungsweise vom oberen Quartil enfernt sind, heissen **Ausreisser** und sind nicht mehr innerhalb der beiden Whisker. Solche extreme Werte werden im Box-Plot mit einzelnen Punkten abgebildet.   "
   ]
  },
  {
   "cell_type": "code",
   "execution_count": null,
   "id": "398473ba-b341-4ea2-b905-40b3da163637",
   "metadata": {},
   "outputs": [],
   "source": [
    "import seaborn as sns\n",
    "import matplotlib.pyplot as plt\n",
    "\n",
    "fig = plt.figure(figsize=(5,8))\n",
    "\n",
    "ax = fig.add_subplot(1,1,1)\n",
    "# Über dieser Linie sind Werte Ausreisser nach oben\n",
    "ax.axhline(30.5+1.5*(30.5-26), color=\"red\",alpha=0.3)\n",
    "# Unter dieser Linie sind Wert Ausreisser nach unten\n",
    "ax.axhline(26-1.5*(30.5-26), color=\"red\",alpha=0.3)\n",
    "# Das obere Quartil (75%-Quantil)\n",
    "ax.axhline(30.5, color=\"red\",alpha=0.3, dashes=(2,2))\n",
    "# Der Median (50%-Quantil)\n",
    "ax.axhline(27, color=\"blue\",alpha=0.3, dashes=(2,2))\n",
    "# Das untere Quartil (25%-Quantil)\n",
    "ax.axhline(26, color=\"red\",alpha = 0.3, dashes=(2,2))\n",
    "# Box-Plot erstellen\n",
    "sns.boxplot(y=\"Alter\",data=df,\n",
    "            width=0.25,\n",
    "            color=\"lightblue\",\n",
    "            flierprops={\"marker\":\"x\"},\n",
    "            ax=ax)\n",
    "# Zusätzlich die Daten als Punkte in einem angeordneten Schwarm\n",
    "#ax = sns.swarmplot(y=\"Alter\",data=df,color=\"black\") \n",
    "# Zusätzlich die Daten als Punkte horizontal zufällig angeordnet\n",
    "#sns.stripplot(y=\"Alter\",data=df,color=\"black\",ax = ax) \n",
    "ax.set_title(\"Box-Plot\")\n",
    "\n",
    "plt.show()"
   ]
  },
  {
   "cell_type": "markdown",
   "id": "edeb6bb7-3540-4474-8c59-b1eee585b880",
   "metadata": {},
   "source": [
    "#### <span style=\"color:rgb(160,0,86)\">Regenwolken-Plot:</span>\n",
    "\n",
    "Wenn in einem **Box-Plot** die Daten ***zusätzlich als Punkte*** dargestellt werden, entsteht ein sogenannter **Regenwolken-Plot**.\n",
    "\n",
    "Über diese Punkte können zudem auch mit ***unterschiedlichen Farben*** und ***Symbolen*** **weite Merkamle** abgebildet werden. \n",
    "\n",
    "\n",
    "#### <span style=\"color:rgb(160,0,86)\">Beispiel: Palmer Penguins</span>\n",
    "\n",
    "Das **Palmer Penguins** Dataset ist ein offener Datensatz aus der Antarktis. Die Daten stammen von ökologischen Feldstudien auf den ***Palmer-Stationen*** in der Antarktis und enthalten Messungen an **drei Pinguinarten**: <tt>'Adelie'</tt>, <tt>'Chinstrap'</tt> und <tt>'Gentoo'</tt>. \n",
    "\n",
    "Erfasst wurden **biologische Merkmale** wie:\n",
    "- **Körpergewicht**\n",
    "- **Flossenlänge**\n",
    "- **Schnabellänge**\n",
    "- **Schnabeltiefe**\n",
    "- **Geschlecht**\n",
    "- **Insel** (Lebensraum)\n",
    "\n",
    "Der Palmer Penguins Datensatz ist direkt in Seaborn enthalten und kann mit der Funktion **sns.load_dataset()** aus dem **seaborn** Modul geladen werden:"
   ]
  },
  {
   "cell_type": "code",
   "execution_count": null,
   "id": "24b52b2f-a937-461f-a9df-053fba787600",
   "metadata": {},
   "outputs": [],
   "source": [
    "import seaborn as sns\n",
    "import matplotlib.pyplot as plt\n",
    "\n",
    "penguins = sns.load_dataset(\"penguins\")\n",
    "penguins.head()"
   ]
  },
  {
   "cell_type": "markdown",
   "id": "249082c1-713c-4877-b60f-8d4546a291c4",
   "metadata": {},
   "source": [
    "Wir löschen mit der Methode **dropna()** Spalten und Zeilen mit unbekannten Werten:"
   ]
  },
  {
   "cell_type": "code",
   "execution_count": null,
   "id": "9f3852f4-4b2f-4efa-b316-fbf373954ae5",
   "metadata": {},
   "outputs": [],
   "source": [
    "penguins.dropna(inplace=True)\n",
    "penguins.head()"
   ]
  },
  {
   "cell_type": "markdown",
   "id": "d45b070c-6b39-4e97-a6bc-7bbd8ffd488b",
   "metadata": {},
   "source": [
    "Zu herauszufinden, welche **(species, island) Kombinationen** es im Datensatz gibt, können wir mit der Methode **drop_duplicates()** im Datesatz in diesen Spalten die Duplikate löschen: "
   ]
  },
  {
   "cell_type": "code",
   "execution_count": null,
   "id": "e41fe45b-d3f6-4dd5-bdd3-c7105a0c89ba",
   "metadata": {},
   "outputs": [],
   "source": [
    "penguins[[\"species\",\"island\"]].drop_duplicates()"
   ]
  },
  {
   "cell_type": "markdown",
   "id": "dde3ec55-ffc8-48e3-9f90-d517855efb2e",
   "metadata": {},
   "source": [
    "Für diese ***fünf Kombinationen*** erstellen wir nun ***eigene DataFrames*** mit je den Merkmalen **Schnabellänge**, **Schnabeltiefe**, **Flossenlänge**, **Körpergewicht** und **Geschlecht**:"
   ]
  },
  {
   "cell_type": "code",
   "execution_count": null,
   "id": "ac5bdca7-b34e-4c29-a2e2-3aabca63b788",
   "metadata": {},
   "outputs": [],
   "source": [
    "Merkmale = [\"bill_length_mm\",\"bill_depth_mm\",\n",
    "            \"flipper_length_mm\",\"body_mass_g\",\"sex\"]\n",
    "AdelieBiscoe = penguins[Merkmale][(penguins[\"species\"]==\"Adelie\") &\n",
    "                                  (penguins[\"island\"]==\"Biscoe\")]\n",
    "AdelieDream = penguins[Merkmale][(penguins[\"species\"]==\"Adelie\") &\n",
    "                                  (penguins[\"island\"]==\"Dream\")]\n",
    "AdelieTorgersen = penguins[Merkmale][(penguins[\"species\"]==\"Adelie\") &\n",
    "                                  (penguins[\"island\"]==\"Torgersen\")]\n",
    "ChinstrapDream = penguins[Merkmale][(penguins[\"species\"]==\"Chinstrap\") &\n",
    "                                     (penguins[\"island\"]==\"Dream\")]\n",
    "GentooBiscoe = penguins[Merkmale][(penguins[\"species\"]==\"Gentoo\") &\n",
    "                                  (penguins[\"island\"]==\"Biscoe\")]"
   ]
  },
  {
   "cell_type": "markdown",
   "id": "2ead52fd-309b-4c1b-a804-731c6b830479",
   "metadata": {},
   "source": [
    "Nun erstellen wir **Box-Plots** für die Merkmale **Schnabellänge**, **Schnabeltiefe**, **Flossenlänge** und **Körpergewicht**. Für all diese Merkmale zeichen wir je einen Box-Plot für die Werte <tt>'male'</tt> und <tt>'female'</tt> und brauchen die folgende **Farb-** und **Symbolcodierung**:\n",
    "- Daten von der Art ***Adelie*** werden <span style=\"color: red;\">***rot***</span> dargestellt\n",
    "- Daten von der Art ***Chinstrap*** werden <span style=\"color: green;\">***grün***</span> dargestellt\n",
    "- Daten von der Art ***Gentoo*** werden <span style=\"color: blue;\">***blau***</span> dargestellt\n",
    "- Daten von der Insel ***Biscoe*** werden mit ***Kreisen*** $\\Large\\circ$ dargestellt\n",
    "- Daten von der Insel ***Dream*** werden mit ***Dreiecken*** $\\small\\triangle$ dargestellt\n",
    "- Daten von der Insel ***Torgersen*** werden mit ***Sternen*** $\\large\\ast$ dargestellt"
   ]
  },
  {
   "cell_type": "code",
   "execution_count": null,
   "id": "6fe5406f-f950-429b-b2a2-d7c6ccfbc3ef",
   "metadata": {},
   "outputs": [],
   "source": [
    "import matplotlib.pyplot as plt\n",
    "import numpy as np\n",
    "import seaborn as sns\n",
    "\n",
    "fig = plt.figure(figsize=(15,15))\n",
    "# Schnabellänge\n",
    "ax1 = fig.add_subplot(2,2,1)\n",
    "sns.boxplot(x=\"sex\",y=\"bill_length_mm\",data=penguins,\n",
    "            width=0.7,flierprops={\"marker\":\"x\"},color=\".9\",ax=ax1)\n",
    "ax1.tick_params(axis=\"x\",labelsize=15)\n",
    "# Datenpunkte Adelie - Biscoe\n",
    "sns.stripplot(x=\"sex\",y=\"bill_length_mm\",order=[\"Male\",\"Female\"],\n",
    "              data=AdelieBiscoe[[\"sex\",\"bill_length_mm\"]],\n",
    "              color=\"red\",marker=\"o\",alpha=0.5,size=4,ax=ax1)\n",
    "# Datenpunkte Adelie - Dream\n",
    "sns.stripplot(x=\"sex\",y=\"bill_length_mm\",order=[\"Male\",\"Female\"],\n",
    "              data=AdelieDream[[\"sex\",\"bill_length_mm\"]],\n",
    "              color=\"red\",marker=\"^\",alpha=0.5,size=5,ax=ax1)\n",
    "# Datenpunkte Adelie - Torgersen\n",
    "sns.stripplot(x=\"sex\",y=\"bill_length_mm\",order=[\"Male\",\"Female\"],\n",
    "              data=AdelieTorgersen[[\"sex\",\"bill_length_mm\"]],\n",
    "              color=\"red\",marker=\"*\",alpha=0.5,size=5,ax=ax1)\n",
    "# Datenpunkte Chinstrap - Dream\n",
    "sns.stripplot(x=\"sex\",y=\"bill_length_mm\",order=[\"Male\",\"Female\"],\n",
    "              data=ChinstrapDream[[\"sex\",\"bill_length_mm\"]],\n",
    "              color=\"green\",marker=\"^\",alpha=0.5,size=5,ax=ax1)\n",
    "# Datenpunkte Gentoo - Biscoe\n",
    "sns.stripplot(x=\"sex\",y=\"bill_length_mm\",order=[\"Male\",\"Female\"],\n",
    "              data=GentooBiscoe[[\"sex\",\"bill_length_mm\"]],\n",
    "              color=\"blue\",marker=\"o\",alpha=0.5,size=4,ax=ax1)\n",
    "ax1.set_title(\"Schnabellänge\",fontsize=15,pad=10)\n",
    "plt.xlabel(\"\")\n",
    "plt.ylabel(\"\")\n",
    "\n",
    "# Schnabeltiefe\n",
    "ax2 = fig.add_subplot(2,2,2)\n",
    "sns.boxplot(x=\"sex\",y=\"bill_depth_mm\",data=penguins,\n",
    "            width=0.7,flierprops={\"marker\":\"x\"},color=\".9\",ax=ax2)\n",
    "ax2.tick_params(axis=\"x\",labelsize=15)\n",
    "# Datenpunkte Adelie - Biscoe\n",
    "sns.stripplot(x=\"sex\",y=\"bill_depth_mm\",order=[\"Male\",\"Female\"],\n",
    "              data=AdelieBiscoe[[\"sex\",\"bill_depth_mm\"]],\n",
    "              color=\"red\",marker=\"o\",alpha=0.5,size=4,ax=ax2)\n",
    "# Datenpunkte Adelie - Dream\n",
    "sns.stripplot(x=\"sex\",y=\"bill_depth_mm\",order=[\"Male\",\"Female\"],\n",
    "              data=AdelieDream[[\"sex\",\"bill_depth_mm\"]],\n",
    "              color=\"red\",marker=\"^\",alpha=0.5,size=5,ax=ax2)\n",
    "# Datenpunkte Adelie - Torgersen\n",
    "sns.stripplot(x=\"sex\",y=\"bill_depth_mm\",order=[\"Male\",\"Female\"],\n",
    "              data=AdelieTorgersen[[\"sex\",\"bill_depth_mm\"]],\n",
    "              color=\"red\",marker=\"*\",alpha=0.5,size=5,ax=ax2)\n",
    "# Datenpunkte Chinstrap - Dream\n",
    "sns.stripplot(x=\"sex\",y=\"bill_depth_mm\",order=[\"Male\",\"Female\"],\n",
    "              data=ChinstrapDream[[\"sex\",\"bill_depth_mm\"]],\n",
    "              color=\"green\",marker=\"^\",alpha=0.5,size=5,ax=ax2)\n",
    "# Datenpunkte Gentoo - Biscoe\n",
    "sns.stripplot(x=\"sex\",y=\"bill_depth_mm\",order=[\"Male\",\"Female\"],\n",
    "              data=GentooBiscoe[[\"sex\",\"bill_depth_mm\"]],\n",
    "              color=\"blue\",marker=\"o\",alpha=0.5,size=4,ax=ax2)\n",
    "ax2.set_title(\"Schnabeltiefe\",fontsize=15,pad=10)\n",
    "plt.xlabel(\"\")\n",
    "plt.ylabel(\"\")\n",
    "\n",
    "# Flossenlänge\n",
    "ax3 = fig.add_subplot(2,2,3)\n",
    "sns.boxplot(x=\"sex\",y=\"flipper_length_mm\",data=penguins,\n",
    "            width=0.7,flierprops={\"marker\":\"x\"},color=\".9\",ax=ax3)\n",
    "ax3.tick_params(axis=\"x\",labelsize=15)\n",
    "# Datenpunkte Adelie - Biscoe\n",
    "sns.stripplot(x=\"sex\",y=\"flipper_length_mm\",order=[\"Male\",\"Female\"],\n",
    "              data=AdelieBiscoe[[\"sex\",\"flipper_length_mm\"]],\n",
    "              color=\"red\",marker=\"o\",alpha=0.5,size=4,ax=ax3)\n",
    "# Datenpunkte Adelie - Dream\n",
    "sns.stripplot(x=\"sex\",y=\"flipper_length_mm\",order=[\"Male\",\"Female\"],\n",
    "              data=AdelieDream[[\"sex\",\"flipper_length_mm\"]],\n",
    "              color=\"red\",marker=\"^\",alpha=0.5,size=5,ax=ax3)\n",
    "# Datenpunkte Adelie - Torgersen\n",
    "sns.stripplot(x=\"sex\",y=\"flipper_length_mm\",order=[\"Male\",\"Female\"],\n",
    "              data=AdelieTorgersen[[\"sex\",\"flipper_length_mm\"]],\n",
    "              color=\"red\",marker=\"*\",alpha=0.5,size=5,ax=ax3)\n",
    "# Datenpunkte Chinstrap - Dream\n",
    "sns.stripplot(x=\"sex\",y=\"flipper_length_mm\",order=[\"Male\",\"Female\"],\n",
    "              data=ChinstrapDream[[\"sex\",\"flipper_length_mm\"]],\n",
    "              color=\"green\",marker=\"^\",alpha=0.5,size=5,ax=ax3)\n",
    "# Datenpunkte Gentoo - Biscoe\n",
    "sns.stripplot(x=\"sex\",y=\"flipper_length_mm\",order=[\"Male\",\"Female\"],\n",
    "              data=GentooBiscoe[[\"sex\",\"flipper_length_mm\"]],\n",
    "              color=\"blue\",marker=\"o\",alpha=0.5,size=4,ax=ax3)\n",
    "ax3.set_title(\"Flügellänge\",fontsize=15,pad=10)\n",
    "plt.xlabel(\"\")\n",
    "plt.ylabel(\"\")\n",
    "\n",
    "# Körpergewicht\n",
    "ax4 = fig.add_subplot(2,2,4)\n",
    "sns.boxplot(x=\"sex\",y=\"body_mass_g\",data=penguins,\n",
    "            width=0.7,flierprops={\"marker\":\"x\"},color=\".9\",ax=ax4)\n",
    "ax4.tick_params(axis=\"x\",labelsize=15)\n",
    "# Datenpunkte Adelie - Biscoe\n",
    "sns.stripplot(x=\"sex\",y=\"body_mass_g\",order=[\"Male\",\"Female\"],\n",
    "              data=AdelieBiscoe[[\"sex\",\"body_mass_g\"]],\n",
    "              color=\"red\",marker=\"o\",alpha=0.5,size=4,ax=ax4)\n",
    "# Datenpunkte Adelie - Dream\n",
    "sns.stripplot(x=\"sex\",y=\"body_mass_g\",order=[\"Male\",\"Female\"],\n",
    "              data=AdelieDream[[\"sex\",\"body_mass_g\"]],\n",
    "              color=\"red\",marker=\"^\",alpha=0.5,size=5,ax=ax4)\n",
    "# Datenpunkte Adelie - Torgersen\n",
    "sns.stripplot(x=\"sex\",y=\"body_mass_g\",order=[\"Male\",\"Female\"],\n",
    "              data=AdelieTorgersen[[\"sex\",\"body_mass_g\"]],\n",
    "              color=\"red\", marker=\"*\",alpha=0.5,size=5,ax=ax4)\n",
    "# Datenpunkte Chinstrap - Dream\n",
    "sns.stripplot(x=\"sex\",y=\"body_mass_g\",order=[\"Male\",\"Female\"],\n",
    "              data=ChinstrapDream[[\"sex\",\"body_mass_g\"]],\n",
    "              color=\"green\",marker=\"^\",alpha=0.5,size=5,ax=ax4)\n",
    "# Datenpunkte Gentoo - Biscoe\n",
    "sns.stripplot(x=\"sex\",y=\"body_mass_g\",order=[\"Male\",\"Female\"],\n",
    "              data=GentooBiscoe[[\"sex\",\"body_mass_g\"]],\n",
    "              color=\"blue\",marker=\"o\",alpha=0.5,size=4,ax=ax4)\n",
    "ax4.set_title(\"Körpergewicht\",fontsize=15,pad=10)\n",
    "plt.xlabel(\"\")\n",
    "plt.ylabel(\"\")\n",
    "\n",
    "plt.show()"
   ]
  },
  {
   "cell_type": "markdown",
   "id": "a8daca1a-9c4b-455c-a814-e6048778edb1",
   "metadata": {},
   "source": [
    "***Weitere*** interessante ***Möglichkeiten*** mit dem Python Modul **Matplotlib** finden wir auf der \n",
    "\n",
    "- **Modulseite** unter Beispiele: https://matplotlib.org/stable/gallery/index.html"
   ]
  },
  {
   "cell_type": "markdown",
   "id": "f1b22231-13dc-49cd-836a-fdaf5021da43",
   "metadata": {},
   "source": [
    "### <span style=\"color:rgb(160,0,86)\">Aufgabe 1</span>\n",
    "\n",
    "Laden Sie die Daten *2021_Personalerhebung.csv* und zeichnen Sie für alle Merkmale passende Diagramme, die die Verteilung der Daten abbilden."
   ]
  },
  {
   "cell_type": "code",
   "execution_count": null,
   "id": "1528b131-f566-4002-8800-84d6d65c5dea",
   "metadata": {},
   "outputs": [],
   "source": [
    "# To do!"
   ]
  },
  {
   "cell_type": "markdown",
   "id": "ed1b2e3c-3f43-4547-ad7f-a38bb32e27ef",
   "metadata": {},
   "source": [
    "### <span style=\"color:rgb(160,0,86)\">Aufgabe 2</span>\n",
    "\n",
    "Laden Sie die Daten *Gesundheitskosten.csv* und zeichnen Sie für alle Merkmale passende Diagramme, die die Verteilung der Daten abbilden."
   ]
  },
  {
   "cell_type": "code",
   "execution_count": null,
   "id": "51bf0f43-9118-4e1e-bd06-15ffa32948c7",
   "metadata": {},
   "outputs": [],
   "source": [
    "# To do!"
   ]
  },
  {
   "cell_type": "markdown",
   "id": "97f04709-f782-4989-945f-173591248207",
   "metadata": {},
   "source": [
    "### <span style=\"color:rgb(160,0,86)\">Aufgabe 3</span>\n",
    "\n",
    "Laden Sie die Daten *2022_Mathematik 1 WiSo Urliste* und zeichnen Sie für die Punkteverteilung der Aufgaben passende Diagramme. \n",
    "\n",
    "Bestimmen Sie gemäss der Formel $$\\frac{\\text{Erreichte Anzahl Punkte}}{\\text{maximale Anzahl Punkte}}\\cdot 5 + 1$$ für alle Studierende die Note und stellen Sie die Verteilung der Noten graphisch dar. Bestimmen Sie auch passende Lage- und Streumasse für die Noten."
   ]
  },
  {
   "cell_type": "code",
   "execution_count": null,
   "id": "b00f694b",
   "metadata": {},
   "outputs": [],
   "source": [
    "# To do!"
   ]
  },
  {
   "cell_type": "markdown",
   "id": "afc58872-4e9b-44ca-97e9-2b7c5f4e62f7",
   "metadata": {},
   "source": [
    "![HSLU](Bilder/LogoHSLU.png)"
   ]
  }
 ],
 "metadata": {
  "kernelspec": {
   "display_name": "Python 3 (ipykernel)",
   "language": "python",
   "name": "python3"
  },
  "language_info": {
   "codemirror_mode": {
    "name": "ipython",
    "version": 3
   },
   "file_extension": ".py",
   "mimetype": "text/x-python",
   "name": "python",
   "nbconvert_exporter": "python",
   "pygments_lexer": "ipython3",
   "version": "3.10.6"
  }
 },
 "nbformat": 4,
 "nbformat_minor": 5
}
