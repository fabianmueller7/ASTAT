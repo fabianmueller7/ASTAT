{
 "cells": [
  {
   "cell_type": "markdown",
   "id": "f8edfe32-7c29-46a2-939f-a0d3f4e6fa2b",
   "metadata": {},
   "source": [
    "# <span style=\"color:rgb(160,0,86)\">Datenmanipulation mit Python</span>\n",
    "\n",
    "***"
   ]
  },
  {
   "cell_type": "markdown",
   "id": "efc2b411-5d0c-45cd-a36d-deb3a678be0e",
   "metadata": {},
   "source": [
    "## <span style=\"color:rgb(160,0,86)\">Lernziele</span>\n",
    "\n",
    "- Sie wissen was eine statistische Einheit ist und können ihre Merkmale bezüglich ihrer Ausprägungen unterscheiden.\n",
    "- Sie kennen die Python Module *numpy* und *pandas*.  \n",
    "- Sie können Daten laden und einfache Operationen ausführen.  \n",
    "\n",
    "***"
   ]
  },
  {
   "cell_type": "markdown",
   "id": "e1aeb5b2-eafa-4db1-b3d5-9b13de1f83fe",
   "metadata": {},
   "source": [
    "### <span style=\"color:rgb(160,0,86)\">Was ist eine statistische Einheit?</span>\n",
    "\n",
    "- Eine **statistische Einheit** ist Träger von Informationen und Eigenschaften, die für eine statistische Untersuchung von Interesse ist.\n",
    "- Eine Eigenschaft einer statistischen Einheit, die von Interesse ist, heisst **statistisches Merkmal**.  "
   ]
  },
  {
   "cell_type": "markdown",
   "id": "2e06298c-4330-47c3-8648-09690e76b5d3",
   "metadata": {},
   "source": [
    "#### <span style=\"color:rgb(160,0,86)\">Beispiele:</span>\n",
    "\n",
    "- In einer Notenstatistik für das Modul ASTAT ist jede Studentin und jeder Student des Moduls eine statistische Einheit. Das statistische Merkmal ist die Abschlussnote an der MEP.\n",
    "- In einer schweizer Unfallstatistik im Jahr 2024 ist jeder Verkehrsunfall auf schweizer Strassen in diesem Jahr eine statistische Einheit. Statistische Merkmale können zum Beispiel Anzahl Todesopfer, Unfallkosten, Unfallstelle etc. sein.\n",
    "\n",
    "***"
   ]
  },
  {
   "cell_type": "markdown",
   "id": "87a56651-f044-45ad-a333-32eeb46b4cd5",
   "metadata": {
    "jp-MarkdownHeadingCollapsed": true
   },
   "source": [
    "### <span style=\"color:rgb(160,0,86)\">Welche Typen von Merkmalen gibt es?</span>\n",
    "\n",
    "- **Nominale Merkmale**: Die Ausprägungen des Merkmals können lediglich auf *Gleichheit* ($=$) oder *Ungleichheit* ($\\neq$) untersucht werden. <br> Zum Beispiel das Geschlecht, die Nationalität oder der Beruf einer Person.\n",
    "- **Ordinale Merkmale**: Die Ausprägungen des Merkmals haben zu der *Gleichheit* und *Ungleichheit* eine natürliche *Reihenfolge* ($>$, $<$). <br> Zum Beispiel das Gesamtprädikat eines Hochschulabschlusses mit den Auspägungen *ungenügend*, *genügend*, *befriedigend*, *gut*, *sehr gut* und *ausgezeichnet*. \n",
    "- **Metrische Merkmale**: Die Ausprägungen des Merkmals sind Zahlen. Neben dem Betrachen von *Gleichheit*, *Ungleichheit* und *Reihenfolge* kann mit diesen Ausprägungen auch *gerechnet* werden ($+\\;$, $\\,-\\;$, $\\,\\cdot\\;$, $\\,/\\;$ usw.). <br> Zum Beispiel die Temperatur (beliebige reelle Zahlen), der Umsatz (gerundete nicht negative reelle Zahlen), die Anzahl Mausklicks (nicht negative ganze Zahlen).\n"
   ]
  },
  {
   "cell_type": "markdown",
   "id": "06772c2d-197f-487b-b28c-c463e098ef17",
   "metadata": {
    "jp-MarkdownHeadingCollapsed": true
   },
   "source": [
    "### <span style=\"color:rgb(160,0,86)\">Wie werden statistische Einheiten zusammengefasst?</span>\n",
    "\n",
    "Häufig werden statistische Einheiten mit ihren Merkmalen in einem rechteckigen Schema (einer Matrix, einer Tabelle) zusammengefasst. Die Einheiten werden über die Zeilen und ihre Merkmale in den Spalten erfasst. Zum Beispiel: \n",
    "\n",
    "$$\\begin{bmatrix}\n",
    "\\text{Anna}&1981&w&176\\\\\n",
    "\\text{Beat}&2005&m&181\\\\\n",
    "\\text{Cary}&2011& &169\\\\\n",
    "\\text{Dana}&1991&w&165\\\\\n",
    "\\text{Edin}&1964&m&194\n",
    "\\end{bmatrix}$$\n"
   ]
  },
  {
   "cell_type": "markdown",
   "id": "d99f2aef-e919-408b-89ad-d0973cde4d82",
   "metadata": {},
   "source": [
    "### <span style=\"color:rgb(160,0,86)\">Sind Listen in Python eine passende Datenstruktur?</span>\n"
   ]
  },
  {
   "cell_type": "markdown",
   "id": "1587f7f2-a0f5-419a-a0f3-2c47df3dce6a",
   "metadata": {},
   "source": [
    "Wir definieren zwei Listen:"
   ]
  },
  {
   "cell_type": "code",
   "execution_count": null,
   "id": "4fc8ab8f-15b2-4571-948c-67aa5939c151",
   "metadata": {},
   "outputs": [],
   "source": [
    "Person_1 = [5.0,5.0,5.5]\n",
    "Person_2 = [4.5,4.0,4.5]"
   ]
  },
  {
   "cell_type": "markdown",
   "id": "5853d4ff-4774-4d2e-b010-d49c4c6a8f50",
   "metadata": {},
   "source": [
    "Die Summe $+$ hängt die zwei Listen zusammen (Konkatenation).  "
   ]
  },
  {
   "cell_type": "code",
   "execution_count": null,
   "id": "4589122a-3fec-4974-b6a6-a186d6194896",
   "metadata": {},
   "outputs": [],
   "source": [
    "Person_1 + Person_2"
   ]
  },
  {
   "cell_type": "markdown",
   "id": "4d725215-14ab-4a5d-9135-8776dec3d929",
   "metadata": {},
   "source": [
    "Das Produkt $\\,\\ast\\,$ liefert eine Fehlermeldung.  "
   ]
  },
  {
   "cell_type": "code",
   "execution_count": null,
   "id": "1d106b47-0c19-42d5-84bc-b56a3ec0f9d0",
   "metadata": {},
   "outputs": [],
   "source": [
    "Person_1 * Person_2"
   ]
  },
  {
   "cell_type": "markdown",
   "id": "5dcaaca9-cf42-4a79-9920-c07558e92293",
   "metadata": {},
   "source": [
    "Nein, mit **NumPy** (Numerical Python) geht das besser! Das NumPy-Modul bietet eine Sammlung mathematischer Operationen für mehrdimensionale Arrays.\n",
    "\n",
    "- Mit dem Befehl $\\;\\mathtt{import}\\;\\mathtt{ModulName}\\;$ können wir ganze Module in das Programm laden und mit dem **Punktoperator** $\\;\\cdot\\;$ Attribute, Funktionen und Methoden aufrufen. Zum Beispiel $$\\mathtt{numpy.array([1,2,3])}$$\n",
    "- Oft ist es übersichtlicher, wenn wir mit dem Befehl $\\;\\mathtt{as}\\; \\mathtt{Kurzname}\\;$ dem Modul ein Alias zuweisen. Dann können wir Attribute, Funktionen und Methoden über dieses Alias aufrufen. Zum Beispiel $$\\mathtt{np.array([1,2,3])}$$"
   ]
  },
  {
   "cell_type": "markdown",
   "id": "1ad4f6f6-c3cf-47a9-a9b5-77271998df70",
   "metadata": {},
   "source": [
    "Wir machen aus den Listen **numpy arrays**:"
   ]
  },
  {
   "cell_type": "code",
   "execution_count": null,
   "id": "9f4e8b06-e218-415b-b42b-d94ec8df8392",
   "metadata": {},
   "outputs": [],
   "source": [
    "import numpy as np\n",
    "P_1 = np.array(Person_1)\n",
    "P_2 = np.array(Person_2)"
   ]
  },
  {
   "cell_type": "markdown",
   "id": "048b71e7-2896-48f0-a024-42d81e695188",
   "metadata": {},
   "source": [
    "Nun können wir **elementweise** rechnen:"
   ]
  },
  {
   "cell_type": "code",
   "execution_count": null,
   "id": "ca29065f-f901-4acb-8e89-d1a363fc9a4e",
   "metadata": {},
   "outputs": [],
   "source": [
    "(P_1 + P_2)/2"
   ]
  },
  {
   "cell_type": "markdown",
   "id": "2e8d601a-7d2a-4656-adb2-3c214472a514",
   "metadata": {},
   "source": [
    "Aus verschachtelten Listen entstehen **zwei dimensionale Arrays**:"
   ]
  },
  {
   "cell_type": "code",
   "execution_count": null,
   "id": "0645359f-a194-4da8-ac40-8dda0eb72197",
   "metadata": {},
   "outputs": [],
   "source": [
    "Noten = np.array([P_1,P_2])\n",
    "Noten"
   ]
  },
  {
   "cell_type": "markdown",
   "id": "2f3dc517-2930-42a6-9e22-dfa88da74506",
   "metadata": {},
   "source": [
    "Mit dem **Attribut** $\\,\\mathtt{shape}\\,$ können wir die Anzahl **Zeilen** und **Spalten** als Paar ausgeben:"
   ]
  },
  {
   "cell_type": "code",
   "execution_count": null,
   "id": "fc4526e4-5206-4ce6-acf5-5f48a3f090c3",
   "metadata": {},
   "outputs": [],
   "source": [
    "Noten.shape"
   ]
  },
  {
   "cell_type": "markdown",
   "id": "d472b5de-edeb-422e-a088-0e61e75d511c",
   "metadata": {},
   "source": [
    "Oder mit dem **Indexoperator** $\\pmb{[\\;\\;]}$ direkt die Anzahl **Zeilen** bzw. die **Spalten**:"
   ]
  },
  {
   "cell_type": "code",
   "execution_count": null,
   "id": "14e91d2f-0f6d-4b61-8a9a-d055146d167e",
   "metadata": {},
   "outputs": [],
   "source": [
    "print(\"Anzahl Zeilen:\",Noten.shape[0])\n",
    "print(\"Anzahl Spalten:\",Noten.shape[1])"
   ]
  },
  {
   "cell_type": "markdown",
   "id": "5492f1f7-ac04-40c5-ac1d-b6d99b6436e1",
   "metadata": {},
   "source": [
    "Mit dem **Indexoperator** können wir auch ein Elemente im Array ausgeben:"
   ]
  },
  {
   "cell_type": "code",
   "execution_count": null,
   "id": "b2b2eed1-9498-4ab0-9199-ae5379a51f81",
   "metadata": {},
   "outputs": [],
   "source": [
    "Noten[0,2]"
   ]
  },
  {
   "cell_type": "markdown",
   "id": "69d0622a-1fcc-4ece-9533-2a651b4e73f1",
   "metadata": {},
   "source": [
    "Mit der **Slicing-Operation** $\\pmb{[\\;,\\;]}$ können wir einen Teil im Array ausschneiden:"
   ]
  },
  {
   "cell_type": "code",
   "execution_count": null,
   "id": "dd649359-1940-4912-bc07-651a38a7732d",
   "metadata": {},
   "outputs": [],
   "source": [
    "Noten[1,:] # 2. Zeile"
   ]
  },
  {
   "cell_type": "code",
   "execution_count": null,
   "id": "840ef981-a3af-4e77-9e87-2c4c7f90805a",
   "metadata": {},
   "outputs": [],
   "source": [
    "Noten[:,2] # 3. Spalte"
   ]
  },
  {
   "cell_type": "code",
   "execution_count": null,
   "id": "e3119b38-6357-4330-8bd8-4b17f5b61c03",
   "metadata": {},
   "outputs": [],
   "source": [
    "Noten[0:2,1:3] # 1. und 2. Zeile mit 2. und 3. Spalte "
   ]
  },
  {
   "cell_type": "markdown",
   "id": "e205b926-6b5b-4d64-a0d5-d04a1c19b2b6",
   "metadata": {},
   "source": [
    "Für numpy Arrays gibt es viele **Methoden** $\\;\\mathtt{methodenName()}\\;$, die mit dem **Punkt-Operator** $\\pmb{\\;\\cdot\\;}$ aufgerufen werden:"
   ]
  },
  {
   "cell_type": "code",
   "execution_count": null,
   "id": "0477efff-95bd-4360-8c77-9b592bb1d0af",
   "metadata": {},
   "outputs": [],
   "source": [
    "Noten[0,:].max()"
   ]
  },
  {
   "cell_type": "code",
   "execution_count": null,
   "id": "2d09da90-42a8-4a02-b9a0-daab0562888e",
   "metadata": {},
   "outputs": [],
   "source": [
    "Noten[:,2].min()"
   ]
  },
  {
   "cell_type": "code",
   "execution_count": null,
   "id": "773ba1fb-a64f-4b1d-83ea-7532249aebf7",
   "metadata": {},
   "outputs": [],
   "source": [
    "Noten[1,:].sum()"
   ]
  },
  {
   "cell_type": "code",
   "execution_count": null,
   "id": "abd64751-7d1d-4fd5-ba4a-89f77334d991",
   "metadata": {},
   "outputs": [],
   "source": [
    "Noten.min()"
   ]
  },
  {
   "cell_type": "code",
   "execution_count": null,
   "id": "7df3ecdc-9040-4c90-b43c-e5b853533e66",
   "metadata": {},
   "outputs": [],
   "source": [
    "Noten.sum()"
   ]
  },
  {
   "cell_type": "code",
   "execution_count": null,
   "id": "1263ef0d-fb89-4d9d-9337-d084cefcb819",
   "metadata": {},
   "outputs": [],
   "source": [
    "Noten.mean()"
   ]
  },
  {
   "cell_type": "markdown",
   "id": "208f6bf3-b7e8-422b-bd1f-0c404f17720b",
   "metadata": {},
   "source": [
    "Mit dem **Parameter** $\\;\\mathtt{axis}\\;$ können wir angeben, ob die Methode entlang der Spalten (Wert 0) oder entlang der Zeilen (Wert 1) angewendet werden soll:"
   ]
  },
  {
   "cell_type": "code",
   "execution_count": null,
   "id": "7ccf0549-00d3-4b9d-b2cd-f497b6a9c6d1",
   "metadata": {},
   "outputs": [],
   "source": [
    "Noten.sum(axis=0)"
   ]
  },
  {
   "cell_type": "code",
   "execution_count": null,
   "id": "600684dd-6882-43c1-a5f0-cad27fe4beaf",
   "metadata": {},
   "outputs": [],
   "source": [
    "Noten.sum(axis=1)"
   ]
  },
  {
   "cell_type": "code",
   "execution_count": null,
   "id": "0edc5627-fc1a-4bc5-80d2-cabcfe6122f8",
   "metadata": {},
   "outputs": [],
   "source": [
    "Noten.mean(axis=0)"
   ]
  },
  {
   "cell_type": "code",
   "execution_count": null,
   "id": "43c5dd80-55eb-4063-b5f3-4e4759e02d1c",
   "metadata": {},
   "outputs": [],
   "source": [
    "Noten.mean(axis=1)"
   ]
  },
  {
   "cell_type": "markdown",
   "id": "707fcc3a-3210-46ad-9d12-f3c19bd8260d",
   "metadata": {},
   "source": [
    "Mit der numpy **Funktion** $\\;\\mathtt{unique}\\;$ können wir ausgeben, was für Elemente im Array vorhanden sind. Der Array-Elemente werden in einem eindimensionalen Array ohne Dublikate zurückgegeben:"
   ]
  },
  {
   "cell_type": "code",
   "execution_count": null,
   "id": "5be32667-3797-4443-949f-7f1025ea7674",
   "metadata": {},
   "outputs": [],
   "source": [
    "np.unique(Noten)"
   ]
  },
  {
   "cell_type": "markdown",
   "id": "df381993-962a-4915-9532-e924a750ccf2",
   "metadata": {},
   "source": [
    "Wenn wir zusätzlich dem Parameter $\\;\\mathtt{return\\_counts}\\;$ den Wert $\\;\\mathtt{True}\\;$ zuweisen, erhalten wir in einem weiteren Array die Angaben, wie oft die entsprechenden Elemente vorkommen:   "
   ]
  },
  {
   "cell_type": "code",
   "execution_count": null,
   "id": "fbf0293d-b8a4-4df6-ac67-9eea0e2d1cfa",
   "metadata": {},
   "outputs": [],
   "source": [
    "np.unique(Noten,return_counts=True)"
   ]
  },
  {
   "cell_type": "markdown",
   "id": "6013ddbe-2793-4f77-ae48-54e4b6747331",
   "metadata": {},
   "source": [
    "Wenn wir in der **Funktion** $\\;\\mathtt{unique}\\;$ auch noch den Parameter $\\;\\mathtt{axis}\\;$ auf 0 bzw. 1 setzen, können wir alle unterschiedlichen Zeilen bzw. alle Spalten ausgeben:"
   ]
  },
  {
   "cell_type": "code",
   "execution_count": null,
   "id": "6cafc9d1-f018-4f91-b479-97c6157fcd82",
   "metadata": {},
   "outputs": [],
   "source": [
    "Noten"
   ]
  },
  {
   "cell_type": "code",
   "execution_count": null,
   "id": "24f59d4d-fc2c-4117-8eaf-085249411e37",
   "metadata": {},
   "outputs": [],
   "source": [
    "np.unique(Noten,axis=0)"
   ]
  },
  {
   "cell_type": "code",
   "execution_count": null,
   "id": "ca6014aa-55c9-4ce7-b4a7-c757e7726c9d",
   "metadata": {},
   "outputs": [],
   "source": [
    "np.unique(Noten,axis=1)"
   ]
  },
  {
   "cell_type": "markdown",
   "id": "b08b0e99-136b-4b36-af61-549c74e8bb0c",
   "metadata": {},
   "source": [
    "Mit den Parameter $\\;\\mathtt{return\\_counts}\\;$ wird dann auch noch zurückgegeben, wie oft die Zeilen bzw. Spalten vorkommen.\n",
    "\n",
    "Damit wir das demonstrieren können, machen wir zuerst einen grösseren Array: "
   ]
  },
  {
   "cell_type": "code",
   "execution_count": null,
   "id": "bf3cb6d3-0d2f-45d5-81f2-f85b23b20e60",
   "metadata": {},
   "outputs": [],
   "source": [
    "marks = np.array([Person_1,Person_1,Person_1,Person_2])\n",
    "marks"
   ]
  },
  {
   "cell_type": "code",
   "execution_count": null,
   "id": "c65b2deb-b36b-4e31-b577-6dcaa1b81044",
   "metadata": {},
   "outputs": [],
   "source": [
    "np.unique(marks,return_counts=True,axis=0)"
   ]
  },
  {
   "cell_type": "code",
   "execution_count": null,
   "id": "992088c8-e73e-4bb9-84ad-0868a2666793",
   "metadata": {},
   "outputs": [],
   "source": [
    "np.unique(marks,return_counts=True,axis=1)"
   ]
  },
  {
   "cell_type": "markdown",
   "id": "b896af3a-560f-4863-8919-63360ce8160a",
   "metadata": {},
   "source": [
    "### <span style=\"color:rgb(160,0,86)\">Wie können grosse Datenmengen verarbeitet werden?</span>\n",
    "\n",
    "Häufige Formate für Daten in Matrix-Form sind:\n",
    "\n",
    "- **csv**-Dateien (Tabulator-,Komma- oder Spalten getrennte Textdateien)\n",
    "- **ods**-, **xls**-, **xlsx**-, **mdb**-Dateien (Tabellendokumente)\n",
    "- **sav**-Dateien für SPSS\n",
    "- **dta**-Dateien für STATA\n",
    "\n",
    "**Pandas** (Panel Data) ist ein Python-Modul, das schnelle und flexible Datenstrukturen bereitstellt, die das Arbeiten mit Daten in Matrix-Form einfach und intuitiv macht."
   ]
  },
  {
   "cell_type": "markdown",
   "id": "f918750d-37ef-4ef9-8594-b0472758fcd9",
   "metadata": {},
   "source": [
    "#### <span style=\"color:rgb(160,0,86)\">Beispiel:</span>\n",
    "\n",
    "Wir wollen die folgenden Daten mit Pandas verarbeiten:\n",
    "\n",
    "$$\\begin{bmatrix}\n",
    "\\text{Greater London}&8663300&1572\\\\\n",
    "\\text{Tokyo}&9272565&627\\\\\n",
    "\\text{Paris}&2229621&105\\\\\n",
    "\\text{New York}&8491079&784\\\\\n",
    "\\end{bmatrix}$$"
   ]
  },
  {
   "cell_type": "markdown",
   "id": "050e2e58-e13d-4566-a342-4cf6fc5667e7",
   "metadata": {},
   "source": [
    "Zuerste definieren wir drei Arrays mit den Werten der Spalten:"
   ]
  },
  {
   "cell_type": "code",
   "execution_count": null,
   "id": "c4a9a291-0ee5-4720-a50e-0bd9c756c64f",
   "metadata": {},
   "outputs": [],
   "source": [
    "names = [\"Greater London\",\"Tokyo\",\"Paris\",\"New York\"]\n",
    "population = [8663300,9272565,2229621,8491079]\n",
    "area = [1572,627,105,784]"
   ]
  },
  {
   "cell_type": "markdown",
   "id": "620635c2-7b0d-4fb1-b143-b111ca1d6217",
   "metadata": {},
   "source": [
    "Nun laden wir das Modul $\\;\\mathtt{pandas}\\;$ unter dem Alias\n",
    "$\\;\\mathtt{pd}\\;$: "
   ]
  },
  {
   "cell_type": "code",
   "execution_count": null,
   "id": "14607dcd-a3ee-4aca-8ff4-905e1ff49bc1",
   "metadata": {},
   "outputs": [],
   "source": [
    "import pandas as pd"
   ]
  },
  {
   "cell_type": "markdown",
   "id": "a3307d8d-6e74-4e7c-a568-2194db6fd4bf",
   "metadata": {},
   "source": [
    "Mit der $\\;\\mathtt{pandas}\\;$ Funktion $\\;\\mathtt{DataFrame}\\;$ können wir die drei Spalten zu einem **Datenrahmen** (eine zweidimensionale, tabellarische Datenstruktur) zusammenfassen: "
   ]
  },
  {
   "cell_type": "code",
   "execution_count": null,
   "id": "466b2004-1ab4-41bb-a9a2-f7a53b195914",
   "metadata": {},
   "outputs": [],
   "source": [
    "df = pd.DataFrame({\"cities\":names,\"population\":population,\"area\":area})\n",
    "df"
   ]
  },
  {
   "cell_type": "markdown",
   "id": "4cd6ac9d-cd2d-450c-9d0c-9bb0c9ab76c0",
   "metadata": {},
   "source": [
    "Mit den Methoden $\\;\\mathtt{head()}\\;$ bzw. $\\;\\mathtt{tail()}\\;$ können wir den Anfang bzw. das Ende des Datenrahmens anzeigen: "
   ]
  },
  {
   "cell_type": "code",
   "execution_count": null,
   "id": "d7dc384a-44ec-4d82-8748-94e9e6196460",
   "metadata": {},
   "outputs": [],
   "source": [
    "df.head(2)"
   ]
  },
  {
   "cell_type": "code",
   "execution_count": null,
   "id": "bd84dfee-c89e-4b95-a9a4-58ee8e61472b",
   "metadata": {},
   "outputs": [],
   "source": [
    "df.tail(2)"
   ]
  },
  {
   "cell_type": "markdown",
   "id": "1f652228-4c65-4c81-8e5c-c3e311ea3e4f",
   "metadata": {},
   "source": [
    "Auch die $\\;\\mathtt{DataFrame}\\;$ Objekte haben das Attribut $\\;\\mathtt{shape}\\,$: "
   ]
  },
  {
   "cell_type": "code",
   "execution_count": null,
   "id": "af4823f5-4599-48a7-8d20-0dfe396e8ef9",
   "metadata": {},
   "outputs": [],
   "source": [
    "df.shape"
   ]
  },
  {
   "cell_type": "markdown",
   "id": "3ec00f59-d54d-4fcf-a6bc-46a29c6b2fd5",
   "metadata": {},
   "source": [
    "Die Namen der Spalten können wir mit dem Attribut $\\;\\mathtt{columns}\\;$ ausgeben:"
   ]
  },
  {
   "cell_type": "code",
   "execution_count": null,
   "id": "8bb4f66f-d30c-4005-ac30-6c0cc0fe7ca3",
   "metadata": {},
   "outputs": [],
   "source": [
    "df.columns"
   ]
  },
  {
   "cell_type": "markdown",
   "id": "eba07d42-3525-4546-9ecf-400f4d51a079",
   "metadata": {},
   "source": [
    "Über die **Namen der Spalten** und dem üblichen **Slicing** können wir Teile des Datenrahmens ausgeben:"
   ]
  },
  {
   "cell_type": "code",
   "execution_count": null,
   "id": "e837e7ee-f65d-413e-8e58-2934d67c062a",
   "metadata": {},
   "outputs": [],
   "source": [
    "df[[\"population\"]][2:4]"
   ]
  },
  {
   "cell_type": "code",
   "execution_count": null,
   "id": "def24327-ff62-45d7-b428-daf2dc324c19",
   "metadata": {},
   "outputs": [],
   "source": [
    "df[[\"cities\",\"area\"]][0:1]"
   ]
  },
  {
   "cell_type": "markdown",
   "id": "01bb1d80-a185-4e25-b76e-64ae6df641d8",
   "metadata": {},
   "source": [
    "Standardmässig werden die Zeilen mit einem **Index** numeriert. Wir können aber mit der Methode $\\;\\mathtt{set\\_index()}\\;$ einen eigenen Index setzen:"
   ]
  },
  {
   "cell_type": "code",
   "execution_count": null,
   "id": "22497bc7-2552-4c7c-b453-f0465f90d74f",
   "metadata": {},
   "outputs": [],
   "source": [
    "df.set_index(\"cities\")"
   ]
  },
  {
   "cell_type": "markdown",
   "id": "83d2db37-2f9e-4a57-b738-5f0a7b4a18c5",
   "metadata": {},
   "source": [
    "Allerdings wird dieser Index im Datenrahmen **nicht fix** festgesetzt. Die Methode $\\;\\mathtt{set\\_index()}\\;$ wird nur für die einmalige Ausgabe angewendet:  "
   ]
  },
  {
   "cell_type": "code",
   "execution_count": null,
   "id": "bb423a34-13b5-4ac7-a350-a68a356780b3",
   "metadata": {},
   "outputs": [],
   "source": [
    "df"
   ]
  },
  {
   "cell_type": "markdown",
   "id": "8af3fb38-3933-4113-b3ea-8f58da2a01f1",
   "metadata": {},
   "source": [
    "Erst wenn wir den Parameter $\\;\\mathtt{inplace}\\;$ auf $\\;\\mathtt{True}\\;$ setzen, bleibt der neue Index erhalten:"
   ]
  },
  {
   "cell_type": "code",
   "execution_count": null,
   "id": "b67391ca-e400-46bc-b63b-65412a38755b",
   "metadata": {},
   "outputs": [],
   "source": [
    "df.set_index(\"cities\",inplace=True)"
   ]
  },
  {
   "cell_type": "code",
   "execution_count": null,
   "id": "dc756ca4-8a1b-4d4f-91eb-117f06b085c9",
   "metadata": {},
   "outputs": [],
   "source": [
    "df"
   ]
  },
  {
   "cell_type": "markdown",
   "id": "52599323-e84a-46e7-979b-9b3015c23319",
   "metadata": {},
   "source": [
    "Mit der Methode $\\;\\mathtt{loc}[\\mathtt{Zeilen},\\mathtt{Spalten}]\\;$ können wir Zeilen und Spalten **anhand von Labels** (also den Indexwerten und Spaltennamen) auszuwählen:"
   ]
  },
  {
   "cell_type": "code",
   "execution_count": null,
   "id": "d6b991f6-34ba-459e-a8dd-35f6076121bb",
   "metadata": {},
   "outputs": [],
   "source": [
    "df.loc[\"Tokyo\"] # Rückgabe ist ein Series"
   ]
  },
  {
   "cell_type": "code",
   "execution_count": null,
   "id": "195bdf85-c9a6-41bd-be96-7c16495e9f40",
   "metadata": {},
   "outputs": [],
   "source": [
    "df.loc[[\"Tokyo\",\"Paris\"]] # Rückkgabe ist ein DataFrame"
   ]
  },
  {
   "cell_type": "code",
   "execution_count": null,
   "id": "f2a1d422-0857-45e8-84e2-f23c072fbf84",
   "metadata": {},
   "outputs": [],
   "source": [
    "df.loc[\"Tokyo\",\"population\"] # Rückgabe ist ein int64"
   ]
  },
  {
   "cell_type": "markdown",
   "id": "1dba7e37-05bf-47d9-b4d2-35b967bdc5a0",
   "metadata": {},
   "source": [
    "Über den Index-Operator können wir direkt neue Spalten erstellen:"
   ]
  },
  {
   "cell_type": "code",
   "execution_count": null,
   "id": "18fc6709-a293-42f5-b240-338f22a0bbd4",
   "metadata": {},
   "outputs": [],
   "source": [
    "df[\"pop_density\"] = df[\"population\"]/df[\"area\"]\n",
    "df"
   ]
  },
  {
   "cell_type": "markdown",
   "id": "d104fc5d-0749-4346-84bd-56f27af3d181",
   "metadata": {},
   "source": [
    "Meistens werden wir die Daten nicht selbst als Arrays definieren und dann ein Datenrahmen über die Spalten und Spaltennamen aufbauen. Oft werden wir Daten aus eine Datei einlesen.\n",
    "\n",
    "Mit der **Funktion** $\\;\\mathtt{read\\_csv()}\\;$ können wir zum Beispiel $\\;\\mathtt{csv}$-Dateien einlesen. Als **Argument** braucht diese Funktion den **Dateipfad als Zeichenkette**:"
   ]
  },
  {
   "cell_type": "code",
   "execution_count": null,
   "id": "15519874-2bff-4bf3-8b47-e49d1fb353c6",
   "metadata": {},
   "outputs": [],
   "source": [
    "gla_cities = pd.read_csv(\"Daten/GLA_World_Cities_2016.csv\")\n",
    "gla_cities.head(3)"
   ]
  },
  {
   "cell_type": "code",
   "execution_count": null,
   "id": "b47bb35d-4abb-411c-8ca6-09bcacf0680a",
   "metadata": {},
   "outputs": [],
   "source": [
    "gla_cities.shape"
   ]
  },
  {
   "cell_type": "markdown",
   "id": "adf9a08f-48d2-465b-8fa0-9ae36cea53b4",
   "metadata": {},
   "source": [
    "Wenn in einer Datei in Zeilen oder Spalten Werte fehlen (fehlende Werte = **Not Available**), können wir diese mit der Methode $\\;\\mathtt{dropna()}\\;$ aus dem Datenrahmen löschen. \n",
    "\n",
    "Mit dem Parameter $\\;\\mathtt{how}\\;$ können angeben, ob nur Zeilen bzw. Spalten gelöscht werden sollen, in denen alle Werte fehlen (Leerzeilen bzw. Leerspalten):\n",
    "- \"$\\mathtt{any}$\"$\\;$: Löscht alle Zeilen/Spalten, die mindestens einen NaN-Wert enthalten\n",
    "- \"$\\mathtt{all}$\"$\\;$ : Löscht nur Zeilen/Spalten, die nur aus NaN-Werten bestehen"
   ]
  },
  {
   "cell_type": "code",
   "execution_count": null,
   "id": "b868224d-a8cc-4352-b17d-aee5c202474c",
   "metadata": {},
   "outputs": [],
   "source": [
    "gla_cities.dropna(how=\"all\")"
   ]
  },
  {
   "cell_type": "code",
   "execution_count": null,
   "id": "3b4504db-3a3c-4a79-820a-5bc841f9b62b",
   "metadata": {},
   "outputs": [],
   "source": [
    "gla_cities.shape"
   ]
  },
  {
   "cell_type": "markdown",
   "id": "8498a779-e1cd-4c50-921e-26dfeb1eef03",
   "metadata": {},
   "source": [
    "Auch hier müssen wir den Parameter $\\;\\mathtt{inplace}\\;$ auf $\\;\\mathtt{True}\\;$ setzen, wenn wir die Zeilen bzw. Spalten fix löschen wollen:"
   ]
  },
  {
   "cell_type": "code",
   "execution_count": null,
   "id": "3a468f46-32d2-447e-afc9-1b308312a9be",
   "metadata": {},
   "outputs": [],
   "source": [
    "gla_cities.dropna(how=\"all\",inplace=True)"
   ]
  },
  {
   "cell_type": "code",
   "execution_count": null,
   "id": "37066a5c-fad5-4677-95fd-a87c1173df9c",
   "metadata": {},
   "outputs": [],
   "source": [
    "gla_cities.shape"
   ]
  },
  {
   "cell_type": "markdown",
   "id": "9bbb9b9e-cbb9-4e76-b006-681557d0634c",
   "metadata": {},
   "source": [
    "Die Namen der Spalten können wir mit der Methode $\\;\\mathtt{rename()}\\;$ ändern:"
   ]
  },
  {
   "cell_type": "code",
   "execution_count": null,
   "id": "f2735da3-6c31-4437-b3b8-0753da719265",
   "metadata": {},
   "outputs": [],
   "source": [
    "gla_cities.columns"
   ]
  },
  {
   "cell_type": "code",
   "execution_count": null,
   "id": "d9e30049-d1a7-4dc2-b4dc-daa2af272514",
   "metadata": {},
   "outputs": [],
   "source": [
    "renamecols = {\"Inland area in km2\":\"Area km2\"}\n",
    "gla_cities.rename(columns=renamecols,inplace=True)\n",
    "gla_cities.columns"
   ]
  },
  {
   "cell_type": "markdown",
   "id": "26684e8b-3381-4aec-a7fc-b1b5998183f1",
   "metadata": {},
   "source": [
    "Nun ergänzen wir im Datenrahmen eine Spalten ***pop_density*** für die Populationsdichte:"
   ]
  },
  {
   "cell_type": "code",
   "execution_count": null,
   "id": "5c142e40-efcf-4a9c-a5ad-fce9335762f4",
   "metadata": {},
   "outputs": [],
   "source": [
    "gla_cities[\"pop_density\"] = gla_cities[\"Population\"]/gla_cities[\"Area km2\"]"
   ]
  },
  {
   "cell_type": "markdown",
   "id": "0d0ca55e-b729-48a8-8e90-ff66a897430c",
   "metadata": {},
   "source": [
    "Dabei entsteht eine Fehlermeldung, weil die Werte in den Spalten ***Population*** und ***Area km2*** Zeichenketten sind.\n",
    "- Den Tausenderstrich $\\,\\pmb{,}\\,$ können wir mit der Methode $\\;\\mathtt{str.replace()}\\;$ durch eine leere Zeichenkette ersetzen\n",
    "- Den Typ String können wir mit der Methode $\\;\\mathtt{astype()}\\;$ in eine Kommazahl umwandeln"
   ]
  },
  {
   "cell_type": "code",
   "execution_count": null,
   "id": "a7eca0d5-d470-4ca5-9c51-0af882a8adf5",
   "metadata": {},
   "outputs": [],
   "source": [
    "gla_cities[\"Population\"] = gla_cities[\"Population\"].str.replace(\",\",\"\").astype(float)\n",
    "gla_cities.head(3)"
   ]
  },
  {
   "cell_type": "code",
   "execution_count": null,
   "id": "abc17411-5481-4d4f-b771-c83840f11fb5",
   "metadata": {},
   "outputs": [],
   "source": [
    "gla_cities[\"Area km2\"] = gla_cities[\"Area km2\"].str.replace(\",\",\"\").astype(float)\n",
    "gla_cities[\"Dwellings\"] = gla_cities[\"Dwellings\"].str.replace(\",\",\"\").astype(float)"
   ]
  },
  {
   "cell_type": "code",
   "execution_count": null,
   "id": "6209a873-c5d7-46d3-9bfb-1c5a3fc81dd3",
   "metadata": {},
   "outputs": [],
   "source": [
    "gla_cities[\"pop_density\"] = gla_cities[\"Population\"]/gla_cities[\"Area km2\"]\n",
    "gla_cities[\"pop_density\"].head(3)"
   ]
  },
  {
   "cell_type": "markdown",
   "id": "781c008b-b073-4d4e-9eba-dc3bc845096a",
   "metadata": {},
   "source": [
    "Oft ist es auch sinnvoll Werte in eine besser geeignete Einheit umzurechen:"
   ]
  },
  {
   "cell_type": "code",
   "execution_count": null,
   "id": "a70657be-ad9b-4f09-9a20-7cfa5edfa3bf",
   "metadata": {},
   "outputs": [],
   "source": [
    "gla_cities[\"Population (M)\"] = gla_cities[\"Population\"]/1000000 \n",
    "gla_cities.head(3)"
   ]
  },
  {
   "cell_type": "markdown",
   "id": "87a7a1e1-545c-4d33-9554-b28a46cb55d0",
   "metadata": {},
   "source": [
    "Mit der Methode $\\;\\mathtt{apply()}\\;$ können wir bestehende oder selbst definierte Funktion auf die Werte einer Spalte anwenden: "
   ]
  },
  {
   "cell_type": "code",
   "execution_count": null,
   "id": "caf6c4bf-6d23-4097-87e9-678a89cc5370",
   "metadata": {},
   "outputs": [],
   "source": [
    "def city_size(x):\n",
    "    if x < 1.5:\n",
    "        s = \"Small\"\n",
    "    elif 1.5 <= x < 3:\n",
    "        s = \"Medium\"\n",
    "    elif 3 <= x < 5:\n",
    "        s = \"Large\"\n",
    "    else:\n",
    "        s = \"Mega\"\n",
    "    return s"
   ]
  },
  {
   "cell_type": "code",
   "execution_count": null,
   "id": "56bf0e1c-d89f-4564-8b37-37f4ed173d52",
   "metadata": {},
   "outputs": [],
   "source": [
    "gla_cities[\"City Size\"] = gla_cities[\"Population (M)\"].apply(city_size)\n",
    "gla_cities.head(3)"
   ]
  },
  {
   "cell_type": "markdown",
   "id": "1a0ca408-ad6b-4753-a0b9-9b54969dbc5f",
   "metadata": {},
   "source": [
    "Mit der Syntax $\\;\\mathtt{dataFrame}[\\mathtt{Bedingung}]\\;$ können Zeilen im Datenrahmen **filtern**:"
   ]
  },
  {
   "cell_type": "code",
   "execution_count": null,
   "id": "423ac954-be81-4e5f-bafe-2aff60e92690",
   "metadata": {},
   "outputs": [],
   "source": [
    "gla_cities[gla_cities[\"City Size\"]==\"Small\"]"
   ]
  },
  {
   "cell_type": "markdown",
   "id": "c7455684-4fae-4ac0-8026-ce3f15584384",
   "metadata": {},
   "source": [
    "Auch die Kombination von **Spaltenwahl und Zeilenfiltern** in einer Zeile ist möglich:"
   ]
  },
  {
   "cell_type": "code",
   "execution_count": null,
   "id": "ac1f6836-425f-4060-bf19-47084f29eb62",
   "metadata": {},
   "outputs": [],
   "source": [
    "gla_cities[[\"City\",\"Population (M)\"]][gla_cities[\"Population (M)\"]>8]"
   ]
  },
  {
   "cell_type": "markdown",
   "id": "22d753ce-35f2-4e8c-af70-b941b44ad017",
   "metadata": {},
   "source": [
    "Mit der Methode $\\;\\mathtt{groupby()}\\;$ können wir einen Datenrahmen über die Werte einer Spalte **gruppieren** und dann in den Gruppen eine Anwendung auf die Werte ausführen:"
   ]
  },
  {
   "cell_type": "code",
   "execution_count": null,
   "id": "f89ab9f1-77bc-42d1-ab03-fc77e0fd5c72",
   "metadata": {},
   "outputs": [],
   "source": [
    "gla_grouped = gla_cities.groupby(\"City Size\")\n",
    "gla_grouped.size() # Grösse der Gruppen"
   ]
  },
  {
   "cell_type": "code",
   "execution_count": null,
   "id": "c5cd31c7-d3c0-4ac2-9859-409274aec9fa",
   "metadata": {},
   "outputs": [],
   "source": [
    "gla_grouped[\"Population (M)\"].mean() # Mittelwerte der Gruppen"
   ]
  },
  {
   "cell_type": "code",
   "execution_count": null,
   "id": "9c4586ca-085a-48aa-83c3-2d141147f04f",
   "metadata": {},
   "outputs": [],
   "source": [
    "gla_grouped[\"Population (M)\"].min() # Kleinste Werte in den Gruppen"
   ]
  },
  {
   "cell_type": "markdown",
   "id": "f1b22231-13dc-49cd-836a-fdaf5021da43",
   "metadata": {},
   "source": [
    "### <span style=\"color:rgb(160,0,86)\">Aufgabe 1</span>\n",
    "\n",
    "Diese Aufgabe befasst wir uns mit dem Datensatz **weather.csv** im Ordner Daten.\n",
    "\n",
    "- Laden Sie den Datensatz und speichern Sie diesen unter der Variable **data**.\n",
    "- Wählen Sie den Wert der zweiten Zeile und dritten Spalte aus.\n",
    "- Wählen Sie die 4. Zeile aus.\n",
    "- Wählen Sie die 1. und die 4. Spalte aus.\n",
    "- Ersetzen Sie den Spaltennamen Basel durch Genf.\n",
    "- Bestimmen Sie die mittleren Temperaturen aller Städte.\n",
    "- Bestimmen Sie die mittleren Temperaturen aller Monate.\n",
    "- Ergänzen Sie eine Spalte mit den mittleren monatlichen Temperaturen."
   ]
  },
  {
   "cell_type": "code",
   "execution_count": null,
   "id": "1528b131-f566-4002-8800-84d6d65c5dea",
   "metadata": {},
   "outputs": [],
   "source": [
    "# To do!"
   ]
  },
  {
   "cell_type": "markdown",
   "id": "940af48f-22e1-4363-a5ed-5e21db3fc721",
   "metadata": {},
   "source": [
    "### <span style=\"color:rgb(160,0,86)\">Aufgabe 2</span>\n",
    "\n",
    "Das Dataframe **d.fuel** im Ordner Daten enthält die Daten verschiedener Fahrzeuge aus einer amerikanischen Untersuchung der 80er-Jahre. Jede Zeile enthält die Daten eines\n",
    "Fahrzeuges (ein Fahrzeug entspricht einer statistischen Einheit).\n",
    "\n",
    "- Laden Sie das Dataframe.\n",
    "- Beschreiben Sie die Ausprägung der Merkmale.\n",
    "- Wählen Sie die fünfte Zeile des Dataframe aus. Welche Werte stehen in der fünften Zeile?\n",
    "- Wählen Sie die erste bis fünfte Beobachtung des Dataframes aus.\n",
    "- Zeigen Sie gleichzeitig die 1. bis 3. und die 57. bis 60. Beobachtung des Dataframes an.\n",
    "- Berechnen Sie den Mittelwert der Reichweiten aller Autos in Miles/Gallon.\n",
    "- Berechnen Sie den Mittelwert der Reichweiten der Autos 7 bis 22.\n",
    "- Ergänzen Sie eine Spalte **t.kml**, die alle Reichweiten in km/l, und\n",
    "eine Spalte **t.kg**, die alle Gewichte in kg enthält.\n",
    "- Berechnen Sie den Mittelwert der Reichweiten in km/l und denjenigen der Fahrzeuggewichte in kg.\n",
    "- Bestimmen Sie das mittlere Gewicht der Sportwagen (*Sporty*)."
   ]
  },
  {
   "cell_type": "code",
   "execution_count": null,
   "id": "51bf0f43-9118-4e1e-bd06-15ffa32948c7",
   "metadata": {},
   "outputs": [],
   "source": [
    "# To do!"
   ]
  },
  {
   "cell_type": "markdown",
   "id": "afc58872-4e9b-44ca-97e9-2b7c5f4e62f7",
   "metadata": {},
   "source": [
    "![HSLU](Bilder/LogoHSLU.png)"
   ]
  }
 ],
 "metadata": {
  "kernelspec": {
   "display_name": "Python 3 (ipykernel)",
   "language": "python",
   "name": "python3"
  },
  "language_info": {
   "codemirror_mode": {
    "name": "ipython",
    "version": 3
   },
   "file_extension": ".py",
   "mimetype": "text/x-python",
   "name": "python",
   "nbconvert_exporter": "python",
   "pygments_lexer": "ipython3",
   "version": "3.10.6"
  }
 },
 "nbformat": 4,
 "nbformat_minor": 5
}
