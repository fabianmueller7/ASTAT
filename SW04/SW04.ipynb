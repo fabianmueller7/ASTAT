{
 "cells": [
  {
   "cell_type": "markdown",
   "id": "f8edfe32-7c29-46a2-939f-a0d3f4e6fa2b",
   "metadata": {},
   "source": [
    "# <span style=\"color:rgb(160,0,86)\">Modelle für zufällige Ereignisse mit Python</span>\n",
    "\n",
    "***"
   ]
  },
  {
   "cell_type": "markdown",
   "id": "efc2b411-5d0c-45cd-a36d-deb3a678be0e",
   "metadata": {},
   "source": [
    "## <span style=\"color:rgb(160,0,86)\">Lernziele</span>\n",
    "\n",
    "- Sie wissen was eine **Zufallsvariable** ist und verstehen den Unterschied zwischen der **Wahrscheinlichkeitsverteilung** und der Häufigkeitsverteilung.\n",
    "- Sie kennen das Python Module *scipy*.\n",
    "- Sie können den **Erwartungswert** und die **Standardabweichung** einer Zufallsvariablen mit Python berechnen.\n",
    "- Sie können mit Hilfe der kumulativen Wahrscheinlichkeitsverteilung mit Python **Wahrscheinlichkeiten** berechnen.  \n",
    "- Sie kennen die wichtigsten **diskreten** und **stetigen** Verteilungen.  \n",
    "\n",
    "***"
   ]
  },
  {
   "cell_type": "markdown",
   "id": "e1aeb5b2-eafa-4db1-b3d5-9b13de1f83fe",
   "metadata": {},
   "source": [
    "### <span style=\"color:rgb(160,0,86)\">Warum brauchen wir in der Statistik mathematische Modell für Zufall?</span>\n",
    "\n",
    "**Daten** und **Zufallsprozesse** sind eng miteinander verbunden, weil Daten oft als Beobachtungen von zufälligen Vorgängen betrachtet werden.    \n",
    "- Ein **Zufallsvariable** $X$ beschreibt die möglichen Werte eines Zufallsexperiments (z.B. die Körpergrösse einer zufällig gewählten Person). Wenn wir Messungen durchführen, erhalten wir konkrete Werte $x$, die als Realisierungen der Zufallsvariable $X$ gelten.\n",
    "- Die zugrunde liegende **Wahrscheinlichkeitsverteilung** einer Zufallsvariablen hilft, die Struktur der Daten zu verstehen. Statistische Modelle nutzen diese Verteilungen, um Vorhersagen oder Schlussfolgerungen zu ermöglichen.\n",
    "- Aus Stichprobendaten werden Parameter geschätzt, um Rückschlüsse auf die zugrunde liegende Zufallsvariable und deren Verteilung zu ziehen.\n",
    "\n",
    "Zusammenfassend sind **Zufallsvariablen** mathematische **Modelle** für die Prozesse, die **Daten erzeugen**. Daten wiederum liefern beobachtbare Werte, die helfen, die zugrunde liegenden Wahrscheinlichkeitsverteilungen zu verstehen und in der Statistik zu nutzen."
   ]
  },
  {
   "cell_type": "markdown",
   "id": "2e06298c-4330-47c3-8648-09690e76b5d3",
   "metadata": {},
   "source": [
    "#### <span style=\"color:rgb(160,0,86)\">Beispiele:</span>\n",
    "\n",
    "Wenn wir **mehrmals einen Würfel werfen**, erzeugen wir Daten. Wir können zählen, wie oft jede Zahl erscheint und die relative Häufigkeit für jede Zahl bestimmen:\n"
   ]
  },
  {
   "cell_type": "code",
   "execution_count": 127,
   "id": "f8436ae0-3e9e-420c-85dc-f3f90104986c",
   "metadata": {},
   "outputs": [
    {
     "data": {
      "text/plain": [
       "[2, 2, 2, 6, 1, 3, 2, 5, 3, 3, 1, 4, 5, 3, 2, 3, 2, 3, 4, 2]"
      ]
     },
     "execution_count": 127,
     "metadata": {},
     "output_type": "execute_result"
    }
   ],
   "source": [
    "import numpy as np\n",
    "\n",
    "[np.random.randint(1,7) for _ in range(20)]"
   ]
  },
  {
   "cell_type": "code",
   "execution_count": 129,
   "id": "3e2a3b07-26ed-4be3-bbe6-9280550a46e0",
   "metadata": {},
   "outputs": [
    {
     "name": "stdout",
     "output_type": "stream",
     "text": [
      "relative Häufigkeit der Augenzahl 1 : 0.166423\n",
      "relative Häufigkeit der Augenzahl 2 : 0.166986\n",
      "relative Häufigkeit der Augenzahl 3 : 0.166355\n",
      "relative Häufigkeit der Augenzahl 4 : 0.166348\n",
      "relative Häufigkeit der Augenzahl 5 : 0.166923\n",
      "relative Häufigkeit der Augenzahl 6 : 0.166965\n"
     ]
    }
   ],
   "source": [
    "anzWürfe = 1000000\n",
    "würfe = np.array([np.random.randint(1,7) for _ in range(anzWürfe)])\n",
    "werte, absH = np.unique(würfe,return_counts=True)\n",
    "relH = absH/anzWürfe\n",
    "for i in werte:\n",
    "    print(\"relative Häufigkeit der Augenzahl\",i,\":\",relH[i-1])"
   ]
  },
  {
   "cell_type": "markdown",
   "id": "0c019952-466a-4576-ba0e-a33c49aa252a",
   "metadata": {},
   "source": [
    "Wenn wir davon ausgehen, dass wir einen **fairen Würfel** werfen, können wir dieses Zufallsexperiment mit einer **Zufallsvariablen** modelieren:\n",
    "- Das Zufallsexperiment hat sechs mögliche Ergebnisse, die Augenzahlen *Eins*, *Zwei*, *Drei*, *Vier*, *Fünf* und *Sechs*.\n",
    "- Eine Zufallsvariable $X$ ordnet nun all diesen Ergebnissen **Zahlenwerte** zu:\n",
    "$$\\begin{align*}&X(\\textit{Eins})=1\\\\&X(\\textit{Zwei})=2\\\\&X(\\textit{Drei})=3\\\\&X(\\textit{Vier})=4\\\\&X(\\textit{Fünf})=5\\\\&X(\\textit{Sechs})=6\\end{align*}$$\n",
    "- Weil wir von einem fairen Würfel ausgehen, können wir die relativen Häufigkeiten wegen der Symmetrie vorgeben. Wenn alle Augenzahlen gleich gewichtet werden, verteilt sich die $100$\\% Summenhäufigkeit gleichmässig auf alle Zahlenwerte: $$\\begin{array}{c|cccccc}x&1&2&3&4&5&6\\\\ \\hline P(X=x)&16.\\overline{6}\\%&16.\\overline{6}\\%&16.\\overline{6}\\%&16.\\overline{6}\\%&16.\\overline{6}\\%&16.\\overline{6}\\%\\end{array}$$ Die zugeordneten Werte $16.\\overline{6}\\%$ heissen **Wahrscheinlichkeiten**, sie werden aus dem gegebenen Modell mathematische berechnet und die gesamte Zuordung $P$ bezeichnen wir als **Wahrscheinlichkeitsverteilung**.<br>\n",
    "Genau so, wie wir die Summenhäufigkeiten berechnet haben, können wir nun auch für diese Wahrscheinlichkeiten die **kumulative Wahrscheinlichkeitsverteiliung** angeben: $$\\begin{array}{c|cccccc}x&1&2&3&4&5&6\\\\ \\hline P(X\\leqslant x)&16.\\overline{6}\\%&33.\\overline{3}\\%&50\\%&66.\\overline{6}\\%&83.\\overline{3}\\% &100\\%\\end{array}$$ <br> Mit diesen Verteilungen können wir auch angeben, wie gross zum Beispiel die Wahrscheinlichkeit ist, dass wir eine Zahl zwischen 2 und 5 würfeln:\n",
    "$$P(2<X<5) = P(X=3) + P(X=4) = 16.\\overline{6}\\% + 16.\\overline{6}\\% = 33.\\overline{3}\\%$$\n",
    "oder mit den kumulativen Wahrscheinlichkeiten\n",
    "$$P(2<X<5) = P(X\\leqslant 4) - P(X\\leqslant 2) = 66.\\overline{6}\\% - 33.\\overline{3}\\% = 33.\\overline{3}\\%\\;.$$\n",
    "- Aus den Daten haben wir die ***mittlere Lage*** und die ***Streuung*** berechnet. Diese Masse können wir auch im Modell bestimmen. Dem arithmetischen Mittel für die Lage entspricht der sogenannte **Erwartungswert** $\\mu$ der Zufallsvariablen $X$\n",
    "$$ \\begin{align*}\\mu &= P(X=1)\\cdot 1 + P(X=2)\\cdot 2 + \\ldots + P(X=6)\\cdot 6 \\\\\n",
    "&=\\frac{1}{6}\\cdot 1 +\\frac{1}{6}\\cdot 2 + \\frac{1}{6}\\cdot 3 + \\frac{1}{6}\\cdot 4 + \\frac{1}{6}\\cdot 5 + \\frac{1}{6}\\cdot 6  = 3.5\\end{align*}$$  \n",
    "und der mittleren Quadratischen Abweichung entspricht die sogenannte **Varianz** $\\sigma^2$ der Zufallsvariablen $X$\n",
    "$$ \\begin{align*}\\sigma^2 &= P(X=1)\\cdot (1-\\mu)^2 + P(X=2)\\cdot (2-\\mu)^2 + \\ldots + P(X=6)\\cdot (6-\\mu)^2 \\\\\n",
    "&=\\frac{1}{6}\\cdot (1-3.5)^2 +\\frac{1}{6}\\cdot (2-3.5)^2 + \\ldots + \\frac{1}{6}\\cdot (6-3.5)^2  = 2.91\\overline{6}\\end{align*}$$ beziehungsweise die **Standardabweichung** $$\\sigma = \\sqrt{2.91\\overline{6}} = 1.7078\\dots\\;.$$"
   ]
  },
  {
   "cell_type": "markdown",
   "id": "3f21dd51-5b3d-4809-b08b-80c502e64f11",
   "metadata": {},
   "source": [
    "In den *Würfeldaten* **würfe** oben können wir die **Lage und Streuung** berechnen: "
   ]
  },
  {
   "cell_type": "code",
   "execution_count": 130,
   "id": "71d0a7e4-c01f-4526-acf3-1356fb1c04b7",
   "metadata": {},
   "outputs": [
    {
     "name": "stdout",
     "output_type": "stream",
     "text": [
      "arithmetisches Mittel: 3.501257\n",
      "MQD: 2.9181444199395905\n",
      "Standardabweichung: 1.7082577147314717\n"
     ]
    }
   ],
   "source": [
    "mittel = sum(würfe)/anzWürfe\n",
    "MQD = sum((würfe-mittel)**2)/anzWürfe\n",
    "std = np.sqrt(MQD) \n",
    "\n",
    "print(\"arithmetisches Mittel:\",mittel)\n",
    "print(\"MQD:\",MQD)\n",
    "print(\"Standardabweichung:\",std)"
   ]
  },
  {
   "cell_type": "markdown",
   "id": "f0ed0460-5ca4-4380-94dd-e72ee1c40363",
   "metadata": {},
   "source": [
    "Wir erkennen, dass die **empirischen Kennzahlen** aus den Daten mit den **theoretischen Kennzahlen** der Zufallsvariablen $\\,X\\,$ für einen fairen Würfel gut übereinstimmt. \n",
    "\n",
    "Die Funktion **np.random.randint()** scheint in der Tat <span style=\"color:rgb(160,0,86)\">**einen fairen Würfel zu simulieren**</span>!"
   ]
  },
  {
   "cell_type": "markdown",
   "id": "0cf79352-e860-4b18-a302-9370e3291143",
   "metadata": {},
   "source": [
    "- Auch die $p$-**Quantile** können wir bei Zufallsvariablen $X$ aus der kumulativen Wahrscheinlichkeitsverteilung bestimmen. Das $p$-Quatil $x_p$ ist die Zahl mit der Eigenschaft $$P(X\\leqslant x_p)\\geqslant p \\quad\\text{ und }\\quad P(X\\geqslant x_p)\\geqslant 1-p\\;.$$\n",
    "Also zum Beispiel ist beim Würfel das 75\\%-Quantil die Augenzahl 5, weil\n",
    "$$P(X\\leqslant 5)= 83.\\overline{3}\\%\\geqslant 75\\% \\quad\\text{ und }\\quad P(X\\geqslant 5) = 100\\%-P(X<5) =33.\\overline{3}\\% \\geqslant 25\\%\\;.$$\n",
    "\n",
    "***"
   ]
  },
  {
   "cell_type": "markdown",
   "id": "8f620c29-58f4-497d-9f0f-570349f2cb87",
   "metadata": {},
   "source": [
    "### <span style=\"color:rgb(160,0,86)\">Welche mathematischen Modelle für Zufallsprozesse gibt es?</span>\n",
    "\n",
    "In Python haben wir mit dem **Modul** ***SciPy*** (**Scientific Python**) sämtliche wichtigen Wahrscheinlichkeitsverteilungen für Zufallsvariablen zur Verfügung.\n",
    "\n",
    "Das ermöglicht uns in der Statistik, ohne vertieftes Studium der mathematischen Hintergründe, mit all diesen Wahrscheinlichkeitsverteilungen problemlos zu rechnen. \n",
    "\n",
    "- Zuerst müssen wir die **gewünschte Verteilung** für die Zufallsvariable **laden**: $$\\texttt{from scipy.stats import NAME}$$\n",
    "- Dann können wir die **Zufallsvariable** mit den gewünschten Parameteren **definieren**: $$\\texttt{X = NAME(parameter\\;=\\;,...)}$$\n",
    "\n",
    "Grundsätzlich brauchen wir die folgenden Funktionen und Methoden:\n",
    "\n",
    "- Mit **rvs( )** für ***Radom Variable sample*** können wir zufällige Werte $\\,\\pmb{x}\\,$ aus der Verteilung einer ***diskreten*** oder ***stetigen*** Zufallsvariablen $\\,X\\,$ generieren: $$\\texttt{X.rvs()}$$\n",
    "- Mit **pmf( )** für ***Probability Mass Function*** können wir die Wahrscheinlichkeit $\\,\\pmb{P(X=x)}\\,$ für ein Ergebnis $\\,\\pmb{x}\\,$ einer <span style=\"color:rgb(255,0,0)\">***diskreten***</span> Zufallsvariablen $\\,X\\,$ ausgeben: $$\\texttt{X.pmf(x)}$$\n",
    "- Mit **pdf( )** für ***Probability Density Function*** können wir die Wahrscheinlichkeitsdichte für <span style=\"color:rgb(255,0,0)\">***stetige***</span> Zufallsvariablen $\\,X\\,$ ausgeben: $$\\texttt{X.pdf(x)}$$\n",
    "- Mit **cdf( )** für ***Cumulative Distribution Function*** können wir die Wahrscheinlichkeit $\\,\\pmb{P(X\\leqslant x)}\\,$ für ein Ergebnis $\\,\\pmb{x}\\,$ einer ***diskreten*** oder ***stetigen*** Zufallsvariablen $\\,X\\,$ ausgeben: $$\\texttt{X.cdf(x)}$$\n",
    "- Mit **ppf( )** für ***Percent Point Function*** können wir das $\\,\\pmb{p}\\,$**-Quantil** einer ***diskreten*** oder ***stetigen*** Zufallsvariablen $\\,X\\,$ ausgeben: $$\\texttt{X.ppf(p)}$$\n",
    "- Mit **mean( )** können wir den **Erwartungswert** einer ***diskreten*** oder ***stetigen*** Zufallsvariablen $\\,X\\,$ ausgeben: $$\\texttt{X.mean()}$$\n",
    "- Mit **var( )** können wir die **Varianz** einer ***diskreten*** oder ***stetigen*** Zufallsvariablen $\\,X\\,$ ausgeben: $$\\texttt{X.var()}$$\n",
    "- Mit **std( )** können wir die **Standardabweichung** einer ***diskreten*** oder ***stetigen*** Zufallsvariablen $\\,X\\,$ ausgeben: $$\\texttt{X.std()}$$\n",
    "\n",
    "Auf der Seite https://docs.scipy.org/doc/scipy/reference/stats.html finden wir die verschiedenen Verteilungen von Zufallsvariablen, die **SciPy** zur Verfüngung stellt."
   ]
  },
  {
   "cell_type": "markdown",
   "id": "914800e0-a25a-4c8d-a7a6-3fdf1477bf85",
   "metadata": {},
   "source": [
    "### <span style=\"color:rgb(160,0,86)\">Die diskrete uniforme Verteilung</span>\n",
    "\n",
    "- Eine Zufallsvariable $\\,\\pmb{X}\\,$ mit Werten aus der endlichen Menge $\\{\\texttt{low},\\texttt{low}+1,\\ldots,\\texttt{high}-1\\}$ hat eine **diskrere uniforme Verteilung**, wenn all diese Werte $x$ gleich wahrscheinlich sind: $$P(X=x)=\\frac{1}{\\texttt{high}-\\texttt{low}}$$\n",
    "- Wenn eine Zufallsvariable $\\,\\pmb{X}\\,$ **diskret uniform** verteilt ist, schreiben wir $$X\\sim \\mathsf{dUni}(\\text{low},\\text{high})\\;.$$\n",
    "- In **SciPy** heisst diese Zufallsvariable **randint( )** und sie hat die zwei Parameter <tt>low</tt> und <tt>high</tt>.\n",
    "- ***Zum Beispiel*** ein Wurf mit einem fairen Würfel."
   ]
  },
  {
   "cell_type": "code",
   "execution_count": 18,
   "id": "7f6a26ea-6ee6-4a10-a205-8f0a2944192c",
   "metadata": {},
   "outputs": [
    {
     "data": {
      "image/png": "[encoded data removed]",
      "text/plain": [
       "<Figure size 1000x500 with 2 Axes>"
      ]
     },
     "metadata": {},
     "output_type": "display_data"
    }
   ],
   "source": [
    "import matplotlib.pyplot as plt\n",
    "import numpy as np\n",
    "import seaborn as sns\n",
    "from scipy.stats import randint\n",
    "\n",
    "#Zufallsvariable definieren\n",
    "X = randint(low=1,high=7)\n",
    "\n",
    "#Cumulative Distribution Function\n",
    "x = np.linspace(0.9,6.1,200)\n",
    "X_cdf = X.cdf(x)\n",
    "\n",
    "#Probability Mass Function\n",
    "X_pmf = X.pmf(np.arange(1,7))\n",
    "\n",
    "#5000 zufällige Werte ziehen:\n",
    "sample = X.rvs(size=5000)\n",
    "\n",
    "fig = plt.figure(figsize=(10,5))\n",
    "ax1 = fig.add_subplot(1,2,1)\n",
    "ax1.plot(x,X_cdf,lw=3)\n",
    "plt.ylim(0,1.02)\n",
    "ax1.hlines(0.75,0.9,6.1,color=\"red\",linestyle=\"dashed\")\n",
    "\n",
    "ax2 = fig.add_subplot(1,2,2)\n",
    "sns.histplot(sample,bins=np.arange(0.5,7.5),stat=\"density\",color=\"lightblue\",ax=ax2)\n",
    "ax2.vlines(np.arange(1,7),0,X_pmf,lw=3)\n",
    "plt.ylim(0,1.02)\n",
    "plt.show()"
   ]
  },
  {
   "cell_type": "markdown",
   "id": "87386d6c-8b68-4bc7-a279-ee2c70918585",
   "metadata": {},
   "source": [
    "Das **0.75-Quantil** $\\,\\pmb{x_{0.75}}\\,$ ist:"
   ]
  },
  {
   "cell_type": "markdown",
   "id": "103adc93-cad5-4dc0-81d2-ff9dcb81c9b1",
   "metadata": {},
   "source": [
    "X.ppf(0.75)"
   ]
  },
  {
   "cell_type": "markdown",
   "id": "0d581c9f-66fe-4865-99ea-751a6d766b14",
   "metadata": {},
   "source": [
    "Der **Erwartungswert** $\\,\\pmb{\\mu}\\,$ ist:"
   ]
  },
  {
   "cell_type": "code",
   "execution_count": null,
   "id": "c2537e50-b9ca-4532-9951-39fa78be80e7",
   "metadata": {},
   "outputs": [],
   "source": [
    "X.mean()"
   ]
  },
  {
   "cell_type": "markdown",
   "id": "a6c7e84b-b73c-4abe-91c7-1ac746b68402",
   "metadata": {},
   "source": [
    "Die **Varianz** $\\,\\pmb{\\sigma^2}\\,$ ist:"
   ]
  },
  {
   "cell_type": "code",
   "execution_count": null,
   "id": "27cfd215-1d54-43a7-afe4-8a3de4fe6cfa",
   "metadata": {},
   "outputs": [],
   "source": [
    "X.var()"
   ]
  },
  {
   "cell_type": "markdown",
   "id": "37f9ae77-c404-4a23-af4d-7df141e4e680",
   "metadata": {},
   "source": [
    "Die **Standardabweichung** $\\,\\pmb{\\sigma}\\,$ ist:"
   ]
  },
  {
   "cell_type": "code",
   "execution_count": null,
   "id": "c457c09b-1a66-4047-8940-8fffb7aae701",
   "metadata": {},
   "outputs": [],
   "source": [
    "X.std()"
   ]
  },
  {
   "cell_type": "markdown",
   "id": "09ac6904-bedf-4217-969b-afee35f0a0d3",
   "metadata": {},
   "source": [
    "Die **Wahrscheinlichkeit** $\\,\\pmb{P(2<X<5)}\\,$ ist:"
   ]
  },
  {
   "cell_type": "code",
   "execution_count": null,
   "id": "3c876204-2d90-4d6a-ba45-674c9f0c7f8d",
   "metadata": {},
   "outputs": [],
   "source": [
    "# Mit pmf:\n",
    "X.pmf(3) + X.pmf(4)"
   ]
  },
  {
   "cell_type": "code",
   "execution_count": null,
   "id": "19c404a6-b605-4f43-809c-a8faeb78d11f",
   "metadata": {},
   "outputs": [],
   "source": [
    "# Mit cdf:\n",
    "X.cdf(4) - X.cdf(2)"
   ]
  },
  {
   "cell_type": "markdown",
   "id": "f85e3ab5-e34b-49db-873d-7f0fd15b0fd6",
   "metadata": {},
   "source": [
    "### <span style=\"color:rgb(160,0,86)\">Aufgabe 1</span>\n",
    "Definieren Sie eine Zufallsvariable $X$, die auf den Werten $2,3,4,5,6,7,8,9$ diskret uniform verteilt ist.\n",
    "- Zeichen Sie die Wahrscheinlichkeitsverteiung und die kumulative Wahrscheinlichkeitsverteilung.\n",
    "- Bestimmen Sie die Wahrscheinlichkeit $P(3.5<X\\leqslant 6)$.\n",
    "- Bestimmen Sie den Erwartungswert $\\mu$, die Standardabweichung $\\sigma$ und das 70\\%-Quantil.\n",
    "- Suchen Sie typische Beispiele für Zufallsvariablen, die diskret uniform verteilt sind."
   ]
  },
  {
   "cell_type": "code",
   "execution_count": 62,
   "id": "5b99ecbe-957d-4260-addc-35f15bcb9c41",
   "metadata": {},
   "outputs": [
    {
     "name": "stdout",
     "output_type": "stream",
     "text": [
      "Wahrschienlichkeits P(3.5 < X <=6)0.7777777777777778\n",
      "Erwartungswert: 5.0\n",
      "Standardabweichung: 2.581988897471611\n",
      "70%-Quantil: 7.0\n"
     ]
    },
    {
     "data": {
      "image/png": "[encoded data removed]",
      "text/plain": [
       "<Figure size 1000x500 with 2 Axes>"
      ]
     },
     "metadata": {},
     "output_type": "display_data"
    }
   ],
   "source": [
    "import matplotlib.pyplot as plt\n",
    "import numpy as np\n",
    "import seaborn as sns\n",
    "from scipy.stats import randint\n",
    "\n",
    "#Zufallsvariable definieren\n",
    "X = randint(low=1,high=10)\n",
    "\n",
    "#Cumulative Distribution Function\n",
    "x = np.linspace(0.9,9.1,200)\n",
    "X_cdf = X.cdf(x) # P(3.5 < X < 6)\n",
    "\n",
    "#Probability Mass Function\n",
    "X_pmf = X.pmf(np.arange(1,10))\n",
    "\n",
    "#5000 zufällige Werte ziehen:\n",
    "sample = X.rvs(size=5000)\n",
    "\n",
    "fig = plt.figure(figsize=(10,5))\n",
    "ax1 = fig.add_subplot(1,2,1)\n",
    "ax1.plot(x,X_cdf,lw=3)\n",
    "plt.ylim(0,1.02)\n",
    "ax1.hlines(0.7,0.9,9.1,color=\"red\",linestyle=\"dashed\")\n",
    "\n",
    "ax2 = fig.add_subplot(1,2,2)\n",
    "sns.histplot(sample,bins=np.arange(0.5,10.5),stat=\"density\",color=\"lightblue\",ax=ax2)\n",
    "ax2.vlines(np.arange(1,10),0,X_pmf,lw=3)\n",
    "plt.ylim(0,1.02)\n",
    "\n",
    "print(\"Wahrschienlichkeits P(3.5 < X <=6)\" + str(X.cdf(9) - X.cdf(2)))\n",
    "print(\"Erwartungswert: \" + str(X.mean()))\n",
    "print(\"Standardabweichung: \"+ str(X.std()))\n",
    "print(\"70%-Quantil: \" + str(X.ppf(0.70)))\n",
    "plt.show()"
   ]
  },
  {
   "cell_type": "markdown",
   "id": "e32faaea-8dc1-4f3c-a5d4-4193e2481d36",
   "metadata": {},
   "source": [
    "### <span style=\"color:rgb(160,0,86)\">Die Bernoulli Verteilung</span>\n",
    "\n",
    "- Eine Zufallsvariable $\\,\\pmb{X}\\,$ mit Werten aus der Menge $\\{0,1\\}$ hat eine **Bernoulli Verteilung** mit: $$P(X=1)=p \\;\\,\\text{ und }\\,\\; P(X=0)=1-p$$\n",
    "- Wenn eine *diskrete* Zufallsvariable $X$ **Bernoulli** verteilt ist, schreiben wir $$X\\sim \\mathsf{Ber}(p)\\;.$$\n",
    "- In **SciPy** heisst diese Zufallsvariable **bernoulli( )** und sie hat einen Parameter <tt>p</tt>.\n",
    "- ***Zum Beispiel*** ein Wurf mit einer gefälschten Münze."
   ]
  },
  {
   "cell_type": "code",
   "execution_count": null,
   "id": "15519874-2bff-4bf3-8b47-e49d1fb353c6",
   "metadata": {},
   "outputs": [],
   "source": [
    "import matplotlib.pyplot as plt\n",
    "import numpy as np\n",
    "import seaborn as sns\n",
    "from scipy.stats import bernoulli\n",
    "\n",
    "#Zufallsvariable definieren\n",
    "X = bernoulli(p=0.8)\n",
    "\n",
    "#Cumulative Distribution Function\n",
    "x = np.linspace(-0.1,1.1,200)\n",
    "X_cdf = X.cdf(x)\n",
    "\n",
    "#Probability Mass Function\n",
    "X_pmf = X.pmf(np.array([0,1]))\n",
    "\n",
    "#5000 zufällige Werte ziehen:\n",
    "sample = X.rvs(size=5000)\n",
    "\n",
    "fig = plt.figure(figsize=(10,5))\n",
    "\n",
    "ax1 = fig.add_subplot(1,2,1)\n",
    "ax1.plot(x,X_cdf,lw=3)\n",
    "plt.ylim(0,1.02)\n",
    "ax1.hlines(0.75,-0.1,1.1,color=\"red\",linestyle=\"dashed\")\n",
    "\n",
    "ax2 = fig.add_subplot(1,2,2)\n",
    "sns.histplot(sample,bins=np.arange(-0.5,2.5),stat=\"density\",color=\"lightblue\",ax=ax2)\n",
    "ax2.vlines(np.array([0,1]),0,X_pmf,lw=3)\n",
    "ax2 = plt.ylim(0,1.02)\n",
    "\n",
    "plt.show()"
   ]
  },
  {
   "cell_type": "markdown",
   "id": "d2bf4d6f-8d97-4a3a-af47-175b5e5f4ddc",
   "metadata": {},
   "source": [
    "Das **0.75-Quantil** $\\,\\pmb{x_{0.75}}\\,$ ist:"
   ]
  },
  {
   "cell_type": "code",
   "execution_count": null,
   "id": "672157f9-f4fd-4873-b089-c82906b2dc90",
   "metadata": {},
   "outputs": [],
   "source": [
    "X.ppf(0.75)"
   ]
  },
  {
   "cell_type": "markdown",
   "id": "9bb2bac2-91c5-4187-a3fb-e2745987a156",
   "metadata": {},
   "source": [
    "Der **Erwartungswert** $\\,\\pmb{\\mu}\\,$ ist:"
   ]
  },
  {
   "cell_type": "code",
   "execution_count": null,
   "id": "e359fc56-e6b9-4d6b-bb0a-015522a3a6f1",
   "metadata": {},
   "outputs": [],
   "source": [
    "X.mean()"
   ]
  },
  {
   "cell_type": "markdown",
   "id": "aa46c319-2c7d-4a58-b216-a0063d4d2171",
   "metadata": {},
   "source": [
    "Die **Varianz** $\\,\\pmb{\\sigma^2}\\,$ ist:"
   ]
  },
  {
   "cell_type": "code",
   "execution_count": null,
   "id": "3cb9d143-3caf-4389-8fd6-8f91e84d718c",
   "metadata": {},
   "outputs": [],
   "source": [
    "X.var()"
   ]
  },
  {
   "cell_type": "markdown",
   "id": "9f40163f-1e7e-4bd5-b66c-ccadee004a81",
   "metadata": {},
   "source": [
    "Die **Standardabweichung** $\\,\\pmb{\\sigma}\\,$ ist:"
   ]
  },
  {
   "cell_type": "code",
   "execution_count": null,
   "id": "ad73cb17-a2be-43f7-a938-94acd2a7f180",
   "metadata": {},
   "outputs": [],
   "source": [
    "X.std()"
   ]
  },
  {
   "cell_type": "markdown",
   "id": "197739e7-8f4d-4ea7-b967-58f18d8d3e3b",
   "metadata": {},
   "source": [
    "### <span style=\"color:rgb(160,0,86)\">Aufgabe 2</span>\n",
    "Definieren Sie eine Zufallsvariable $X$, die mit $p=0.3$ Bernoulli verteilt ist.\n",
    "- Zeichen Sie die Wahrscheinlichkeitsverteiung und die kumulative Wahrscheinlichkeitsverteilung.\n",
    "- Bestimmen Sie den Erwartungswert $\\mu$, die Standardabweichung $\\sigma$ und das 70\\%-Quantil.\n",
    "- Berechnen Sie in Abhängigkeit von $p$ formal den Erwartungswert $\\mu$, die Standardabweichung $\\sigma$. \n",
    "- Suchen Sie typische Beispiele für Zufallsvariablen, die Bernoulli verteilt sind.\n",
    " "
   ]
  },
  {
   "cell_type": "code",
   "execution_count": 61,
   "id": "67f56c25-1445-47a8-a77d-ff949346753b",
   "metadata": {},
   "outputs": [
    {
     "name": "stdout",
     "output_type": "stream",
     "text": [
      "Erwartungswert: 0.3\n",
      "Standardabweichung: 0.458257569495584\n",
      "70%-Quantil: 0.0\n",
      "Abhängigkeit: 0.25099800796022265\n"
     ]
    },
    {
     "data": {
      "image/png": "[encoded data removed]",
      "text/plain": [
       "<Figure size 1000x500 with 2 Axes>"
      ]
     },
     "metadata": {},
     "output_type": "display_data"
    }
   ],
   "source": [
    "import matplotlib.pyplot as plt\n",
    "import numpy as np\n",
    "import seaborn as sns\n",
    "import math\n",
    "from scipy.stats import bernoulli\n",
    "\n",
    "#Zufallsvariable definieren\n",
    "X = bernoulli(p=0.3)\n",
    "\n",
    "#Cumulative Distribution Function\n",
    "x = np.linspace(-0.1,1.1,200)\n",
    "X_cdf = X.cdf(x)\n",
    "\n",
    "#Probability Mass Function\n",
    "X_pmf = X.pmf(np.array([0,1]))\n",
    "\n",
    "#5000 zufällige Werte ziehen:\n",
    "sample = X.rvs(size=5000)\n",
    "\n",
    "fig = plt.figure(figsize=(10,5))\n",
    "\n",
    "ax1 = fig.add_subplot(1,2,1)\n",
    "ax1.plot(x,X_cdf,lw=3)\n",
    "plt.ylim(0,1.02)\n",
    "ax1.hlines(0.7,-0.1,1.1,color=\"red\",linestyle=\"dashed\")\n",
    "\n",
    "ax2 = fig.add_subplot(1,2,2)\n",
    "sns.histplot(sample,bins=np.arange(-0.5,2.5),stat=\"density\",color=\"lightblue\",ax=ax2)\n",
    "ax2.vlines(np.array([0,1]),0,X_pmf,lw=3)\n",
    "ax2 = plt.ylim(0,1.02)\n",
    "\n",
    "print(\"Erwartungswert: \" + str(X.mean()))\n",
    "print(\"Standardabweichung: \"+ str(X.std()))\n",
    "print(\"70%-Quantil: \" + str(X.ppf(0.70)))\n",
    "print(\"Abhängigkeit: \" + str(0.3* math.sqrt(1-0.3)))\n",
    "\n",
    "plt.show()"
   ]
  },
  {
   "cell_type": "markdown",
   "id": "ea78ea3e-538c-460c-ad8a-77a027697ebc",
   "metadata": {},
   "source": [
    "### <span style=\"color:rgb(160,0,86)\">Die Binomial Verteilung</span>\n",
    "\n",
    "- Eine Zufallsvariable $\\,\\pmb{X}\\,$ mit Werten aus der Menge $\\{0,1,\\ldots,n\\}$ hat eine **Bernoulli Verteilung** mit: $$P(X=k)=\\binom{n}{k}\\cdot p^k\\cdot(1-p)^{n-k}$$\n",
    "- Wenn eine *diskrete* Zufallsvariable $X$ **Binomial** verteilt ist, schreiben wir $$X\\sim \\mathsf{Bin}(p,n)\\;.$$\n",
    "- In **SciPy** heisst diese Zufallsvariable **binom( )** und sie hat zwei Parameter <tt>n</tt> und <tt>p</tt>.\n",
    "- ***Zum Beispiel*** die Anzahl Köpfe bei $n$ Würfen mit einer gefälschten Münze."
   ]
  },
  {
   "cell_type": "code",
   "execution_count": 52,
   "id": "2f39562c-9a5a-4ebd-99d3-863edc89d29b",
   "metadata": {},
   "outputs": [
    {
     "data": {
      "image/png": "[encoded data removed]",
      "text/plain": [
       "<Figure size 1000x500 with 2 Axes>"
      ]
     },
     "metadata": {},
     "output_type": "display_data"
    }
   ],
   "source": [
    "import matplotlib.pyplot as plt\n",
    "import numpy as np\n",
    "import seaborn as sns\n",
    "from scipy.stats import binom\n",
    "\n",
    "#Zufallsvariable definieren\n",
    "X = binom(p=0.7,n=8)\n",
    "\n",
    "#Cumulative Distribution Function\n",
    "x = np.linspace(-0.1,8.1,200)\n",
    "X_cdf = X.cdf(x)\n",
    "\n",
    "#Probability Mass Function\n",
    "X_pmf = X.pmf(np.arange(0,9))\n",
    "\n",
    "#5000 zufällige Werte ziehen:\n",
    "sample = X.rvs(size=5000)\n",
    "\n",
    "fig = plt.figure(figsize=(10,5))\n",
    "\n",
    "ax1 = fig.add_subplot(1,2,1)\n",
    "ax1.plot(x,X_cdf,lw=3)\n",
    "plt.ylim(0,1.02)\n",
    "ax1.hlines(0.75,-0.1,8.1,color=\"red\",linestyle=\"dashed\")\n",
    "\n",
    "ax2 = fig.add_subplot(1,2,2)\n",
    "sns.histplot(sample,bins=np.arange(-0.5,9.5),stat=\"density\",color=\"lightblue\",ax=ax2)\n",
    "ax2.vlines(np.arange(0,9),0,X_pmf,lw=3)\n",
    "ax2 = plt.ylim(0,1.02)\n",
    "\n",
    "plt.show()"
   ]
  },
  {
   "cell_type": "markdown",
   "id": "295221ca-db08-4895-910c-1e0375bd0bef",
   "metadata": {},
   "source": [
    "Das **0.75-Quantil** $\\,\\pmb{x_{0.75}}\\,$ ist:"
   ]
  },
  {
   "cell_type": "code",
   "execution_count": null,
   "id": "c58e4c50-2956-42fb-b8f0-466784d99a3c",
   "metadata": {},
   "outputs": [],
   "source": [
    "X.ppf(0.75)"
   ]
  },
  {
   "cell_type": "markdown",
   "id": "91f45eaf-96ac-4907-955a-5c00cad4b2ca",
   "metadata": {},
   "source": [
    "Der **Erwartungswert** $\\,\\pmb{\\mu}\\,$ ist:"
   ]
  },
  {
   "cell_type": "code",
   "execution_count": null,
   "id": "2f352315-ade7-4d68-bc17-4aeef29b75b3",
   "metadata": {},
   "outputs": [],
   "source": [
    "X.mean()"
   ]
  },
  {
   "cell_type": "markdown",
   "id": "15d90d92-cd2a-4bb3-96bc-58d375def906",
   "metadata": {},
   "source": [
    "Die **Varianz** $\\,\\pmb{\\sigma^2}\\,$ ist:"
   ]
  },
  {
   "cell_type": "code",
   "execution_count": null,
   "id": "1e592bee-d6d0-49b6-b929-e1375ff80854",
   "metadata": {},
   "outputs": [],
   "source": [
    "X.var()"
   ]
  },
  {
   "cell_type": "markdown",
   "id": "44ec1cc7-a58c-44ef-b914-8d0d16fcd040",
   "metadata": {},
   "source": [
    "Die **Standardabweichung** $\\,\\pmb{\\sigma}\\,$ ist:"
   ]
  },
  {
   "cell_type": "code",
   "execution_count": null,
   "id": "4632ff27-798b-43e4-855d-87ac8d401e3e",
   "metadata": {},
   "outputs": [],
   "source": [
    "X.std()"
   ]
  },
  {
   "cell_type": "markdown",
   "id": "a7970178-dd5b-475a-be8a-4386273a11ed",
   "metadata": {},
   "source": [
    "Die **Wahrscheinlichkeit** $\\,\\pmb{P(2<X<5)}\\,$ ist:"
   ]
  },
  {
   "cell_type": "code",
   "execution_count": null,
   "id": "80fc7c9b-02d9-4d9f-bd32-f957df3a31c2",
   "metadata": {},
   "outputs": [],
   "source": [
    "# Mit pmf:\n",
    "X.pmf(3) + X.pmf(4) "
   ]
  },
  {
   "cell_type": "code",
   "execution_count": null,
   "id": "86f44f22-0761-46e8-9cbc-0e31da994d57",
   "metadata": {},
   "outputs": [],
   "source": [
    "# Mit cdf:\n",
    "X.cdf(4) - X.cdf(2)"
   ]
  },
  {
   "cell_type": "markdown",
   "id": "24696aa9-a7f2-4c96-aada-93ec70957202",
   "metadata": {},
   "source": [
    "### <span style=\"color:rgb(160,0,86)\">Aufgabe 3</span>\n",
    "Definieren Sie eine Zufallsvariable $X$, die mit $p=0.75$ und $n=12$ Binomial verteilt ist.\n",
    "- Zeichen Sie die Wahrscheinlichkeitsverteiung und die kumulative Wahrscheinlichkeitsverteilung.\n",
    "- Bestimmen Sie den Erwartungswert $\\mu$, die Standardabweichung $\\sigma$ und das 70\\%-Quantil.\n",
    "- Wie gross ist die Wahrscheinlichkeit $P(3\\leqslant X \\leqslant 9)$? \n",
    "- Suchen Sie typische Beispiele für Zufallsvariablen, die Binomial verteilt sind."
   ]
  },
  {
   "cell_type": "code",
   "execution_count": 60,
   "id": "c1191cba-6ddd-4ae4-ae68-e352295384bf",
   "metadata": {},
   "outputs": [
    {
     "name": "stdout",
     "output_type": "stream",
     "text": [
      "Erwartungswert: 9.0\n",
      "Standardabweichung: 1.5\n",
      "70%-Quantil: 10.0\n"
     ]
    },
    {
     "data": {
      "image/png": "[encoded data removed]",
      "text/plain": [
       "<Figure size 1000x500 with 2 Axes>"
      ]
     },
     "metadata": {},
     "output_type": "display_data"
    }
   ],
   "source": [
    "import matplotlib.pyplot as plt\n",
    "import numpy as np\n",
    "import seaborn as sns\n",
    "from scipy.stats import binom\n",
    "\n",
    "#Zufallsvariable definieren\n",
    "X = binom(p=0.75,n=12)\n",
    "\n",
    "#Cumulative Distribution Function\n",
    "x = np.linspace(3,12,200)\n",
    "X_cdf = X.cdf(x)\n",
    "\n",
    "#Probability Mass Function\n",
    "X_pmf = X.pmf(np.arange(3,10))\n",
    "\n",
    "#5000 zufällige Werte ziehen:\n",
    "sample = X.rvs(size=5000)\n",
    "\n",
    "fig = plt.figure(figsize=(10,5))\n",
    "\n",
    "ax1 = fig.add_subplot(1,2,1)\n",
    "ax1.plot(x,X_cdf,lw=3)\n",
    "plt.ylim(0,1.02)\n",
    "ax1.hlines(0.7,-0.1,12.1,color=\"red\",linestyle=\"dashed\")\n",
    "\n",
    "ax2 = fig.add_subplot(1,2,2)\n",
    "sns.histplot(sample,bins=np.arange(2.5,9.6),stat=\"density\",color=\"lightblue\",ax=ax2)\n",
    "ax2.vlines(np.arange(3,10),0,X_pmf,lw=3)\n",
    "ax2 = plt.ylim(0,1.02)\n",
    "\n",
    "print(\"Erwartungswert: \" + str(X.mean()))\n",
    "print(\"Standardabweichung: \"+ str(X.std()))\n",
    "print(\"70%-Quantil: \" + str(X.ppf(0.70)))\n",
    "\n",
    "plt.show()"
   ]
  },
  {
   "cell_type": "markdown",
   "id": "c0ac0dbe-52b8-45ce-81d4-d5edced38850",
   "metadata": {},
   "source": [
    "### <span style=\"color:rgb(160,0,86)\">Die Geometrische Verteilung</span>\n",
    "\n",
    "- Eine Zufallsvariable $\\,\\pmb{X}\\,$ mit Werten aus der Menge $\\mathbb{N}_0=\\{0,1,2,\\ldots\\}$ hat eine **Geometrische Verteilung** mit: $$P(X=k)=(1-p)^{k-1}\\cdot p$$\n",
    "- Wenn eine *diskrete* Zufallsvariable $X$ **Geometrisch** verteilt ist, schreiben wir $$X\\sim \\mathsf{Geo}(p)\\;.$$\n",
    "- In **SciPy** heisst diese Zufallsvariable **geom( )** und sie hat einen Parameter <tt>p</tt>.\n",
    "- ***Zum Beispiel*** die Anzahl Würfe mit einer gefälschten Münze, bis zum ersten Mal Kopf erscheint."
   ]
  },
  {
   "cell_type": "code",
   "execution_count": 64,
   "id": "5739e5a8-6468-456a-8ea9-ddab248f6be3",
   "metadata": {},
   "outputs": [
    {
     "data": {
      "image/png": "[encoded data removed]",
      "text/plain": [
       "<Figure size 1000x500 with 2 Axes>"
      ]
     },
     "metadata": {},
     "output_type": "display_data"
    }
   ],
   "source": [
    "import matplotlib.pyplot as plt\n",
    "import numpy as np\n",
    "import seaborn as sns\n",
    "from scipy.stats import geom\n",
    "\n",
    "#Zufallsvariable definieren\n",
    "X = geom(p=0.7)\n",
    "\n",
    "#Cumulative Distribution Function\n",
    "x = np.linspace(-0.1,8.1,200)\n",
    "X_cdf = X.cdf(x)\n",
    "\n",
    "#Probability Mass Function\n",
    "X_pmf = X.pmf(np.arange(0,9))\n",
    "\n",
    "#5000 zufällige Werte ziehen:\n",
    "sample = X.rvs(size=5000)\n",
    "\n",
    "fig = plt.figure(figsize=(10,5))\n",
    "\n",
    "ax1 = fig.add_subplot(1,2,1)\n",
    "ax1.plot(x,X_cdf,lw=3)\n",
    "plt.ylim(0,1.02)\n",
    "ax1.hlines(0.75,-0.1,8.1,color=\"red\",linestyle=\"dashed\")\n",
    "\n",
    "ax2 = fig.add_subplot(1,2,2)\n",
    "sns.histplot(sample,bins=np.arange(-0.5,9.5),stat=\"density\",color=\"lightblue\",ax=ax2)\n",
    "ax2.vlines(np.arange(0,9),0,X_pmf,lw=3)\n",
    "ax2 = plt.ylim(0,1.02)\n",
    "\n",
    "plt.show()"
   ]
  },
  {
   "cell_type": "markdown",
   "id": "29d72d10-b5b5-458f-ad7a-c579a8d8c719",
   "metadata": {},
   "source": [
    "Das **0.75-Quantil** $\\,\\pmb{x_{0.75}}\\,$ ist:"
   ]
  },
  {
   "cell_type": "code",
   "execution_count": null,
   "id": "ba9401c7-0cfc-4fba-ab19-d38b95acf478",
   "metadata": {},
   "outputs": [],
   "source": [
    "X.ppf(0.75)"
   ]
  },
  {
   "cell_type": "markdown",
   "id": "9cff4ada-6fae-4509-8122-d35012283052",
   "metadata": {},
   "source": [
    "Der **Erwartungswert** $\\,\\pmb{\\mu}\\,$ ist:"
   ]
  },
  {
   "cell_type": "code",
   "execution_count": null,
   "id": "5322f46c-51a9-4969-8cec-2bf3ea0b4198",
   "metadata": {},
   "outputs": [],
   "source": [
    "X.mean()"
   ]
  },
  {
   "cell_type": "markdown",
   "id": "726108aa-8fce-454d-8ea3-90115cea82b1",
   "metadata": {},
   "source": [
    "Die **Varianz** $\\,\\pmb{\\sigma^2}\\,$ ist:\n"
   ]
  },
  {
   "cell_type": "code",
   "execution_count": null,
   "id": "a399e6c0-c0cd-43d5-b9db-256cb8404e8f",
   "metadata": {},
   "outputs": [],
   "source": [
    "X.var()"
   ]
  },
  {
   "cell_type": "markdown",
   "id": "65dbb338-2d0c-42ec-b2be-b12b8a362b79",
   "metadata": {},
   "source": [
    "Die **Standardabweichung** $\\,\\pmb{\\sigma}\\,$ ist:"
   ]
  },
  {
   "cell_type": "code",
   "execution_count": null,
   "id": "ee84a3d4-6699-40bd-88a9-31b4387f991d",
   "metadata": {},
   "outputs": [],
   "source": [
    "X.std()"
   ]
  },
  {
   "cell_type": "markdown",
   "id": "7c1b312e-3fdc-48c0-99a2-0d359c430c6b",
   "metadata": {},
   "source": [
    "Die **Wahrscheinlichkeit** $\\,\\pmb{P(2<X<5)}\\,$ ist:"
   ]
  },
  {
   "cell_type": "code",
   "execution_count": null,
   "id": "a7e05a16-fb5f-40e2-bdef-0c0c229085df",
   "metadata": {},
   "outputs": [],
   "source": [
    "# Mit pmf:\n",
    "X.pmf(3) + X.pmf(4)"
   ]
  },
  {
   "cell_type": "code",
   "execution_count": null,
   "id": "8cf31f11-8c7e-4f5d-92e1-d73c8a0f6b9f",
   "metadata": {},
   "outputs": [],
   "source": [
    "# Mit cdf:\n",
    "X.cdf(4) - X.cdf(2)"
   ]
  },
  {
   "cell_type": "markdown",
   "id": "7c5be5a7-73cc-4eeb-af23-bb80b2febf79",
   "metadata": {},
   "source": [
    "### <span style=\"color:rgb(160,0,86)\">Aufgabe 4</span>\n",
    "Definieren Sie eine Zufallsvariable $X$, die mit $p=0.4$ Geometrisch verteilt ist.\n",
    "- Zeichen Sie die Wahrscheinlichkeitsverteiung und die kumulative Wahrscheinlichkeitsverteilung.\n",
    "- Bestimmen Sie den Erwartungswert $\\mu$, die Standardabweichung $\\sigma$ und das 70\\%-Quantil.\n",
    "- Wie gross ist die Wahrscheinlichkeit $P(X \\geqslant 5)$? \n",
    "- Suchen Sie typische Beispiele für Zufallsvariablen, die Geometrisch verteilt sind."
   ]
  },
  {
   "cell_type": "code",
   "execution_count": 70,
   "id": "47e7c16a-22b6-4135-becc-8589e7fa1378",
   "metadata": {},
   "outputs": [
    {
     "name": "stdout",
     "output_type": "stream",
     "text": [
      "Erwartungswert: 2.5\n",
      "Standardabweichung: 1.9364916731037083\n",
      "70%-Quantil: 3.0\n",
      "Wahrscheinlichkeit P (X >= 5)?:0.12959999999999994\n"
     ]
    },
    {
     "data": {
      "image/png": "[encoded data removed]",
      "text/plain": [
       "<Figure size 1000x500 with 2 Axes>"
      ]
     },
     "metadata": {},
     "output_type": "display_data"
    }
   ],
   "source": [
    "import matplotlib.pyplot as plt\n",
    "import numpy as np\n",
    "import seaborn as sns\n",
    "from scipy.stats import geom\n",
    "\n",
    "#Zufallsvariable definieren\n",
    "X = geom(p=0.4)\n",
    "\n",
    "#Cumulative Distribution Function\n",
    "x = np.linspace(-0.1,15.1,200)\n",
    "X_cdf = X.cdf(x)\n",
    "\n",
    "#Probability Mass Function\n",
    "X_pmf = X.pmf(np.arange(0,9))\n",
    "\n",
    "#5000 zufällige Werte ziehen:\n",
    "sample = X.rvs(size=5000)\n",
    "\n",
    "fig = plt.figure(figsize=(10,5))\n",
    "\n",
    "ax1 = fig.add_subplot(1,2,1)\n",
    "ax1.plot(x,X_cdf,lw=3)\n",
    "plt.ylim(0,1.02)\n",
    "ax1.hlines(0.7,-0.1,8.1,color=\"red\",linestyle=\"dashed\")\n",
    "\n",
    "ax2 = fig.add_subplot(1,2,2)\n",
    "sns.histplot(sample,bins=np.arange(-0.5,9.5),stat=\"density\",color=\"lightblue\",ax=ax2)\n",
    "ax2.vlines(np.arange(0,9),0,X_pmf,lw=3)\n",
    "ax2 = plt.ylim(0,1.02)\n",
    "\n",
    "print(\"Erwartungswert: \" + str(X.mean()))\n",
    "print(\"Standardabweichung: \"+ str(X.std()))\n",
    "print(\"70%-Quantil: \" + str(X.ppf(0.70)))\n",
    "print(\"Wahrscheinlichkeit P (X >= 5)?:\" + str(1 - X.cdf(4)))\n",
    "\n",
    "plt.show()"
   ]
  },
  {
   "cell_type": "markdown",
   "id": "df6638aa-1eef-4aa7-a576-6f61108d5db9",
   "metadata": {},
   "source": [
    "### <span style=\"color:rgb(160,0,86)\">Die Poisson Verteilung</span>\n",
    "\n",
    "- Eine Zufallsvariable $\\,\\pmb{X}\\,$ mit Werten aus der Menge $\\mathbb{N}_0=\\{0,1,2,\\ldots\\}$ hat eine **Poisson Verteilung** mit: $$P(X=k)=e^{-\\mu}\\cdot\\frac{\\mu^k}{k!}$$\n",
    "- Wenn eine *diskrete* Zufallsvariable $X$ **Poisson** verteilt ist, schreiben wir $$X\\sim \\mathsf{Poi}(\\mu)\\;.$$\n",
    "- In **SciPy** heisst diese Zufallsvariable **poisson( )** und sie hat einen Parameter <tt>$\\mu$</tt>.\n",
    "- ***Zum Beispiel*** die Anzahl Anrufe pro Stunde in einem Call-Center.\n"
   ]
  },
  {
   "cell_type": "code",
   "execution_count": null,
   "id": "bf3e40ed-ae28-40c2-a153-ffe06c774c0a",
   "metadata": {},
   "outputs": [],
   "source": [
    "import matplotlib.pyplot as plt\n",
    "import numpy as np\n",
    "import seaborn as sns\n",
    "from scipy.stats import poisson\n",
    "\n",
    "#Zufallsvariable definieren\n",
    "X = poisson(mu=2)\n",
    "\n",
    "#Cumulative Distribution Function\n",
    "x = np.linspace(-0.1,8.1,200)\n",
    "X_cdf = X.cdf(x)\n",
    "\n",
    "#Probability Mass Function\n",
    "X_pmf = X.pmf(np.arange(0,9))\n",
    "\n",
    "#5000 zufällige Werte ziehen:\n",
    "sample = X.rvs(size=5000)\n",
    "\n",
    "fig = plt.figure(figsize=(10,5))\n",
    "\n",
    "ax1 = fig.add_subplot(1,2,1)\n",
    "ax1.plot(x,X_cdf,lw=3)\n",
    "plt.ylim(0,1.02)\n",
    "ax1.hlines(0.75,-0.1,8.1,color=\"red\",linestyle=\"dashed\")\n",
    "\n",
    "ax2 = fig.add_subplot(1,2,2)\n",
    "sns.histplot(sample,bins=np.arange(-0.5,9.5),stat=\"density\",color=\"lightblue\",ax=ax2)\n",
    "ax2.vlines(np.arange(0,9),0,X_pmf,lw=3)\n",
    "plt.ylim(0,1.02)\n",
    "\n",
    "plt.show()"
   ]
  },
  {
   "cell_type": "markdown",
   "id": "f000f2c2-7609-4b81-b7a8-35a0b1ccb71f",
   "metadata": {},
   "source": [
    "Das **0.75-Quantil** $\\,\\pmb{x_{0.75}}\\,$ ist:\n"
   ]
  },
  {
   "cell_type": "code",
   "execution_count": null,
   "id": "5673fc83-4795-4e18-8312-05957f0ac0fd",
   "metadata": {},
   "outputs": [],
   "source": [
    "X.ppf(0.75)"
   ]
  },
  {
   "cell_type": "markdown",
   "id": "3b80ed93-069a-4944-ba15-698733466ff8",
   "metadata": {},
   "source": [
    "Der **Erwartungswert** $\\,\\pmb{\\mu}\\,$ ist:"
   ]
  },
  {
   "cell_type": "code",
   "execution_count": null,
   "id": "0377769a-5759-49e2-bad1-5d75cfb243cb",
   "metadata": {},
   "outputs": [],
   "source": [
    "X.mean() # ist gleich dem Parameter mu"
   ]
  },
  {
   "cell_type": "markdown",
   "id": "a97f66a0-6d77-4831-8c9d-6e3431d7801e",
   "metadata": {},
   "source": [
    "Die **Varianz** $\\,\\pmb{\\sigma^2}\\,$ ist:"
   ]
  },
  {
   "cell_type": "code",
   "execution_count": null,
   "id": "1b682992-6a6f-4667-a7a6-37352b1ee56d",
   "metadata": {},
   "outputs": [],
   "source": [
    "X.var() # ist gleich dem Parameter mu"
   ]
  },
  {
   "cell_type": "markdown",
   "id": "992a7c23-c841-4b32-9dea-b3a743675f1a",
   "metadata": {},
   "source": [
    "Die **Standardabweichung** $\\,\\pmb{\\sigma}\\,$ ist:"
   ]
  },
  {
   "cell_type": "code",
   "execution_count": null,
   "id": "60a4373d-3507-4a87-b42f-f531f0188891",
   "metadata": {},
   "outputs": [],
   "source": [
    "X.std()"
   ]
  },
  {
   "cell_type": "markdown",
   "id": "07fd9e29-55db-4018-8b52-74e3d9770f3d",
   "metadata": {},
   "source": [
    "Die **Wahrscheinlichkeit** $\\,\\pmb{P(2<X<5)}\\,$ ist:"
   ]
  },
  {
   "cell_type": "code",
   "execution_count": null,
   "id": "ef048278-345e-4204-8ca4-b542efb4d6a6",
   "metadata": {},
   "outputs": [],
   "source": [
    "# Mit pmf:\n",
    "X.pmf(3) + X.pmf(4)"
   ]
  },
  {
   "cell_type": "code",
   "execution_count": null,
   "id": "593107b6-4aa8-4f65-ba09-2ba346c12b6d",
   "metadata": {},
   "outputs": [],
   "source": [
    "# Mit cdf:\n",
    "X.cdf(4) - X.cdf(2)"
   ]
  },
  {
   "cell_type": "markdown",
   "id": "2abc6cd2-9d08-4c0e-881a-8ba5b1621e6d",
   "metadata": {},
   "source": [
    "### <span style=\"color:rgb(160,0,86)\">Aufgabe 5</span>\n",
    "Definieren Sie eine Zufallsvariable $X$, die mit $\\mu=4.25$ Poisson verteilt ist.\n",
    "- Zeichen Sie die Wahrscheinlichkeitsverteiung und die kumulative Wahrscheinlichkeitsverteilung.\n",
    "- Bestimmen Sie den Erwartungswert $\\mu$, die Standardabweichung $\\sigma$ und das 70\\%-Quantil.\n",
    "- Wie gross ist die Wahrscheinlichkeit $P(X \\geqslant 5)$? \n",
    "- Suchen Sie typische Beispiele für Zufallsvariablen, die Poisson verteilt sind."
   ]
  },
  {
   "cell_type": "code",
   "execution_count": 81,
   "id": "f9cd7134-11d3-4850-8b74-17fe50cfe814",
   "metadata": {},
   "outputs": [
    {
     "name": "stdout",
     "output_type": "stream",
     "text": [
      "Erwartungswert: 4.25\n",
      "Standardabweichung: 2.0615528128088303\n",
      "70%-Quantil: 5.0\n",
      "Wahrscheinlichkeit P (X >= 5)?:0.419881686272238\n"
     ]
    },
    {
     "data": {
      "image/png": "[encoded data removed]",
      "text/plain": [
       "<Figure size 1000x500 with 2 Axes>"
      ]
     },
     "metadata": {},
     "output_type": "display_data"
    }
   ],
   "source": [
    "import matplotlib.pyplot as plt\n",
    "import numpy as np\n",
    "import seaborn as sns\n",
    "from scipy.stats import poisson\n",
    "\n",
    "#Zufallsvariable definieren\n",
    "X = poisson(mu=4.25)\n",
    "\n",
    "#Cumulative Distribution Function\n",
    "x = np.linspace(-0.1,12.1,200)\n",
    "X_cdf = X.cdf(x)\n",
    "\n",
    "#Probability Mass Function\n",
    "X_pmf = X.pmf(np.arange(0,12))\n",
    "\n",
    "#5000 zufällige Werte ziehen:\n",
    "sample = X.rvs(size=5000)\n",
    "\n",
    "fig = plt.figure(figsize=(10,5))\n",
    "\n",
    "ax1 = fig.add_subplot(1,2,1)\n",
    "ax1.plot(x,X_cdf,lw=3)\n",
    "plt.ylim(0,1.02)\n",
    "ax1.hlines(0.7,-0.1,12.1,color=\"red\",linestyle=\"dashed\")\n",
    "\n",
    "ax2 = fig.add_subplot(1,2,2)\n",
    "sns.histplot(sample,bins=np.arange(-0.5,12.5),stat=\"density\",color=\"lightblue\",ax=ax2)\n",
    "ax2.vlines(np.arange(0,12),0,X_pmf,lw=3)\n",
    "plt.ylim(0,1.02)\n",
    "\n",
    "print(\"Erwartungswert: \" + str(X.mean()))\n",
    "print(\"Standardabweichung: \"+ str(X.std()))\n",
    "print(\"70%-Quantil: \" + str(X.ppf(0.70)))\n",
    "print(\"Wahrscheinlichkeit P (X >= 5)?:\" + str(1 - X.cdf(4)))\n",
    "\n",
    "plt.show()"
   ]
  },
  {
   "cell_type": "markdown",
   "id": "78515455-a36b-4883-8403-ddcfa2d1c0e5",
   "metadata": {},
   "source": [
    "### <span style=\"color:rgb(160,0,86)\">Die Hypergeometrische Verteilung</span>\n",
    "\n",
    "- Eine Zufallsvariable $\\,\\pmb{X}\\,$ mit zulässigen Werten aus der Menge $\\mathbb{N}_0=\\{0,1,2,\\ldots\\}$ hat eine **Hypergeometrische Verteilung** mit: $$P(X=k)=\\frac{\\binom{n}{k}\\cdot\\binom{M-n}{N-k}}{\\binom{M}{N}}$$\n",
    "- Wenn eine *diskrete* Zufallsvariable $X$ **Hypergeometrisch** verteilt ist, schreiben wir $$X\\sim \\mathsf{HypG}(M,n,N)\\;.$$\n",
    "- In **SciPy** heisst diese Zufallsvariable **hypergeom( )** und sie hat drei Parameter <tt>M</tt>, <tt>n</tt> und <tt>N</tt>.\n",
    "- ***Zum Beispiel*** die Anzahl weisse Kugeln in einer Auswahl von $N$ Kugeln. Diese $N$ Kugeln werden aus einer Urne mit insgesamt $M$ Kugeln gezogen, von denen total $n$ weiss sind."
   ]
  },
  {
   "cell_type": "code",
   "execution_count": 28,
   "id": "67d2d4a9-e5e7-48a5-8ba1-4053190c2da3",
   "metadata": {},
   "outputs": [
    {
     "data": {
      "image/png": "[encoded data removed]",
      "text/plain": [
       "<Figure size 1000x500 with 2 Axes>"
      ]
     },
     "metadata": {},
     "output_type": "display_data"
    }
   ],
   "source": [
    "import matplotlib.pyplot as plt\n",
    "import numpy as np\n",
    "import seaborn as sns\n",
    "from scipy.stats import hypergeom\n",
    "\n",
    "#Zufallsvariable definieren\n",
    "# 20 Kugeln, davon 4 weiss und 16 schwarz, 8 Kugeln werden zufällig gezogen\n",
    "X = hypergeom(M=20,n=4,N=8) \n",
    "\n",
    "#Cumulative Distribution Function\n",
    "x = np.arange(0,5)\n",
    "X_cdf = X.cdf(x)\n",
    "\n",
    "#Probability Mass Function\n",
    "X_pmf = X.pmf(np.arange(0,5))\n",
    "\n",
    "# 5000 zufällige Werte ziehen\n",
    "sample = X.rvs(size=5000)\n",
    "\n",
    "fig = plt.figure(figsize=(10,5))\n",
    "\n",
    "ax1 = fig.add_subplot(1,2,1)\n",
    "ax1.stairs(X_cdf,orientation=\"vertical\",lw=3)\n",
    "plt.ylim(0,1.02)\n",
    "plt.xlim(-0.1,4.1)\n",
    "ax1.hlines(0.75,-0.1,4.1,color=\"red\",linestyle=\"dashed\")\n",
    "\n",
    "ax2 = fig.add_subplot(1,2,2)\n",
    "sns.histplot(sample,bins=np.arange(-0.5,5.5),stat=\"density\",color=\"lightblue\",ax=ax2)\n",
    "ax2.vlines(np.array([0,1,2,3,4]),0,X_pmf,lw=3)\n",
    "plt.ylim(0,1.02)\n",
    "\n",
    "plt.show()"
   ]
  },
  {
   "cell_type": "markdown",
   "id": "c9712eb8-e3b3-4985-b991-fa32df38b626",
   "metadata": {},
   "source": [
    "Das **0.75-Quantil** $\\,\\pmb{x_{0.75}}\\,$ ist:"
   ]
  },
  {
   "cell_type": "code",
   "execution_count": null,
   "id": "a024ac3a-c94d-4815-9669-16232e5f6f89",
   "metadata": {},
   "outputs": [],
   "source": [
    "X.ppf(0.75)"
   ]
  },
  {
   "cell_type": "markdown",
   "id": "d7e2b270-2183-4315-8106-2f58a45923b1",
   "metadata": {},
   "source": [
    "Der **Erwartungswert** $\\,\\pmb{\\mu}\\,$ ist:"
   ]
  },
  {
   "cell_type": "code",
   "execution_count": null,
   "id": "606464b9-5cbb-4cae-a0d9-b9923b9be492",
   "metadata": {},
   "outputs": [],
   "source": [
    "X.mean()"
   ]
  },
  {
   "cell_type": "markdown",
   "id": "b9366a4d-53c0-4032-953e-dc20363acd02",
   "metadata": {},
   "source": [
    "Die **Varianz** $\\,\\pmb{\\sigma^2}\\,$ ist:"
   ]
  },
  {
   "cell_type": "code",
   "execution_count": null,
   "id": "e81fb2f9-2e74-46c4-9420-9419edd6c6d6",
   "metadata": {},
   "outputs": [],
   "source": [
    "X.var()"
   ]
  },
  {
   "cell_type": "markdown",
   "id": "e88e2205-0bf5-446c-9eef-99ec35060775",
   "metadata": {},
   "source": [
    "Die **Standardabweichung** $\\,\\pmb{\\sigma}\\,$ ist:"
   ]
  },
  {
   "cell_type": "code",
   "execution_count": null,
   "id": "2b72f8a8-8ed7-4ce5-8ecc-a0ac418d213a",
   "metadata": {},
   "outputs": [],
   "source": [
    "X.std()"
   ]
  },
  {
   "cell_type": "markdown",
   "id": "2b534950-ca85-411c-b275-818763d26ab4",
   "metadata": {},
   "source": [
    "Die **Wahrscheinlichkeit** $\\,\\pmb{P(2<X<5)}\\,$ ist:"
   ]
  },
  {
   "cell_type": "code",
   "execution_count": null,
   "id": "5dae92b8-a966-439b-bfd9-42eec0059e35",
   "metadata": {},
   "outputs": [],
   "source": [
    "# Mit pmf:\n",
    "X.pmf(3) + X.pmf(4)"
   ]
  },
  {
   "cell_type": "code",
   "execution_count": null,
   "id": "1b35d070-4aee-4984-bc52-a5b8de312580",
   "metadata": {},
   "outputs": [],
   "source": [
    "# Mit cdf:\n",
    "X.cdf(4) - X.cdf(2)"
   ]
  },
  {
   "cell_type": "markdown",
   "id": "d0f84cec-3d27-4180-a593-a6dbdfdf7707",
   "metadata": {},
   "source": [
    "### <span style=\"color:rgb(160,0,86)\">Aufgabe 6</span>\n",
    "Definieren Sie eine Zufallsvariable $X$, die mit $M=50$, $n=6$, $N=30$ Hypergeometrisch verteilt ist.\n",
    "- Zeichen Sie die Wahrscheinlichkeitsverteiung und die kumulative Wahrscheinlichkeitsverteilung.\n",
    "- Bestimmen Sie den Erwartungswert $\\mu$, die Standardabweichung $\\sigma$ und das 70\\%-Quantil.\n",
    "- Wie gross ist die Wahrscheinlichkeit $P(X \\leqslant 2)$? \n",
    "- Suchen Sie typische Beispiele für Zufallsvariablen, die Hypergeometrisch verteilt sind."
   ]
  },
  {
   "cell_type": "code",
   "execution_count": null,
   "id": "2862e656-6f6c-4709-a75c-256cbecbd351",
   "metadata": {},
   "outputs": [
    {
     "name": "stdout",
     "output_type": "stream",
     "text": [
      "Erwartungswert: 3.6\n",
      "Standardabweichung: 1.1371284995504227\n",
      "70%-Quantil: 4.0\n",
      "Wahrscheinlichkeit P (X >= 5)?:0.16433857539315452\n"
     ]
    },
    {
     "data": {
      "image/png": "[encoded data removed]",
      "text/plain": [
       "<Figure size 1000x500 with 2 Axes>"
      ]
     },
     "metadata": {},
     "output_type": "display_data"
    }
   ],
   "source": [
    "import matplotlib.pyplot as plt\n",
    "import numpy as np\n",
    "import seaborn as sns\n",
    "from scipy.stats import hypergeom\n",
    "\n",
    "#Zufallsvariable definieren\n",
    "# 20 Kugeln, davon 4 weiss und 16 schwarz, 8 Kugeln werden zufällig gezogen\n",
    "X = hypergeom(M=50,n=6,N=30) \n",
    "\n",
    "#Cumulative Distribution Function\n",
    "x = np.arange(0,7)\n",
    "X_cdf = X.cdf(x)\n",
    "\n",
    "#Probability Mass Function\n",
    "X_pmf = X.pmf(np.arange(0,7))\n",
    "\n",
    "# 5000 zufällige Werte ziehen\n",
    "sample = X.rvs(size=5000)\n",
    "\n",
    "fig = plt.figure(figsize=(10,5))\n",
    "\n",
    "ax1 = fig.add_subplot(1,2,1)\n",
    "ax1.stairs(X_cdf,orientation=\"vertical\",lw=3)\n",
    "plt.ylim(0,1.02)\n",
    "plt.xlim(-0.1,6.1)\n",
    "ax1.hlines(0.7,-0.1,6.1,color=\"red\",linestyle=\"dashed\")\n",
    "\n",
    "ax2 = fig.add_subplot(1,2,2)\n",
    "sns.histplot(sample,bins=np.arange(-0.5,7),stat=\"density\",color=\"lightblue\",ax=ax2)\n",
    "ax2.vlines(np.array([0,1,2,3,4,5,6]),0,X_pmf,lw=3)\n",
    "plt.ylim(0,1.02)\n",
    "\n",
    "print(\"Erwartungswert: \" + str(X.mean()))\n",
    "print(\"Standardabweichung: \"+ str(X.std()))\n",
    "print(\"70%-Quantil: \" + str(X.ppf(0.70)))\n",
    "print(\"Wahrscheinlichkeit P (X <= 5)?:\" + str(X.cdf(2)))\n",
    "\n",
    "plt.show()"
   ]
  },
  {
   "cell_type": "markdown",
   "id": "0a152247-81da-4aa5-a6f1-e3a53ad053b7",
   "metadata": {},
   "source": [
    "### <span style=\"color:rgb(160,0,86)\">Die stetige uniforme Verteilung</span>\n",
    "\n",
    "- Eine Zufallsvariable $\\,\\pmb{X}\\,$ mit Werten aus dem Intervall $[\\texttt{loc},\\texttt{loc}+\\texttt{scale}]$ hat eine **stetige uniforme Verteilung** mit: $$P(X\\leqslant x)=\\int\\limits_{\\texttt{loc}}^{x}\\frac{1}{\\texttt{scale}}\\,dt$$\n",
    "- Wenn ein Zufallsvariable $X$ **stetig uniform** verteilt ist, schreiben wir $$X\\sim \\mathsf{Uni}(\\text{loc},\\text{scale})\\;.$$\n",
    "- In **SciPy** heisst diese Zufallsvariable **uniform( )** und sie hat zwei Parameter <tt>loc</tt> und <tt>scale</tt>.\n",
    "- ***Zum Beispiel*** zufällig eine reelle Zahl zwischen Null und Eins wählen.\n"
   ]
  },
  {
   "cell_type": "code",
   "execution_count": null,
   "id": "030384eb-4778-407c-bb1f-f22222930b18",
   "metadata": {},
   "outputs": [
    {
     "data": {
      "image/png": "[encoded data removed]",
      "text/plain": [
       "<Figure size 1000x500 with 2 Axes>"
      ]
     },
     "metadata": {},
     "output_type": "display_data"
    }
   ],
   "source": [
    "import matplotlib.pyplot as plt\n",
    "import numpy as np\n",
    "import seaborn as sns\n",
    "from scipy.stats import uniform\n",
    "\n",
    "#Zufallsvariable definieren\n",
    "X = uniform(loc=0,scale=5)\n",
    "\n",
    "#Cumulative Distribution Function\n",
    "x = np.linspace(-0.1,5.1,200)\n",
    "X_cdf = X.cdf(x)\n",
    "\n",
    "#Probability Density Function\n",
    "X_pdf = X.pdf(x)\n",
    "\n",
    "#5000 zufällige Werte (statt pmf bei diskreten Zufallsvariablen)\n",
    "sample = X.rvs(size=5000)\n",
    "\n",
    "fig = plt.figure(figsize=(10,5))\n",
    "\n",
    "ax1 = fig.add_subplot(1,2,1)\n",
    "ax1.plot(x,X_cdf,lw=3)\n",
    "plt.ylim(0,1.02)\n",
    "ax1.hlines(0.75,-0.1,5.1,color=\"red\",linestyle=\"dashed\")\n",
    "\n",
    "ax2 = fig.add_subplot(1,2,2)\n",
    "sns.histplot(sample,stat=\"density\",color=\"lightblue\",ax=ax2)\n",
    "ax2.plot(x,X_pdf,lw=3)\n",
    "plt.ylim(0,1.02)\n",
    "\n",
    "plt.show()"
   ]
  },
  {
   "cell_type": "markdown",
   "id": "5d8bbea9-f09b-4fd7-a196-2d68d63fab5b",
   "metadata": {},
   "source": [
    "Das **0.75-Quantil** $\\,\\pmb{x_{0.75}}\\,$ ist:"
   ]
  },
  {
   "cell_type": "code",
   "execution_count": 23,
   "id": "39ef4874-b0d4-436a-a971-dd1857a04fa8",
   "metadata": {},
   "outputs": [
    {
     "data": {
      "text/plain": [
       "np.float64(3.75)"
      ]
     },
     "execution_count": 23,
     "metadata": {},
     "output_type": "execute_result"
    }
   ],
   "source": [
    "X.ppf(0.75)"
   ]
  },
  {
   "cell_type": "markdown",
   "id": "34869ccc-9018-4eaf-aa97-24353c0bc5db",
   "metadata": {},
   "source": [
    "Der **Erwartungswert** $\\,\\pmb{\\mu}\\,$ ist:\n"
   ]
  },
  {
   "cell_type": "code",
   "execution_count": 24,
   "id": "89d4be46-aa73-44c6-9f71-29fa51c70952",
   "metadata": {},
   "outputs": [
    {
     "data": {
      "text/plain": [
       "np.float64(2.5)"
      ]
     },
     "execution_count": 24,
     "metadata": {},
     "output_type": "execute_result"
    }
   ],
   "source": [
    "X.mean()"
   ]
  },
  {
   "cell_type": "markdown",
   "id": "b28ba5ec-6af9-438c-993f-80a118cbed1b",
   "metadata": {},
   "source": [
    "Die **Varianz** $\\,\\pmb{\\sigma^2}\\,$ ist:\n"
   ]
  },
  {
   "cell_type": "code",
   "execution_count": null,
   "id": "36099ffc-4a09-4c0a-83d1-fc2acfdec371",
   "metadata": {},
   "outputs": [],
   "source": [
    "X.var()"
   ]
  },
  {
   "cell_type": "markdown",
   "id": "2d7e3c40-baf0-49db-a608-989c62ec2bde",
   "metadata": {},
   "source": [
    "Die **Standardabweichung** $\\,\\pmb{\\sigma}\\,$ ist:\n"
   ]
  },
  {
   "cell_type": "code",
   "execution_count": null,
   "id": "4b8400b5-60b1-43cf-a38b-3048a3370986",
   "metadata": {},
   "outputs": [],
   "source": [
    "X.std()"
   ]
  },
  {
   "cell_type": "markdown",
   "id": "d2b47348-f0ab-4769-9c78-ffd6d15db927",
   "metadata": {},
   "source": [
    "Die **Wahrscheinlichkeit** $\\,\\pmb{P(2<X<5)}\\,$ ist:"
   ]
  },
  {
   "cell_type": "code",
   "execution_count": null,
   "id": "8dc06dbe-3a94-41fc-8232-36da4cb496b6",
   "metadata": {},
   "outputs": [],
   "source": [
    "# Nur mit cdf:\n",
    "X.cdf(5) - X.cdf(2)"
   ]
  },
  {
   "cell_type": "markdown",
   "id": "f8e38559-ba6d-4b92-acda-21860ea52090",
   "metadata": {},
   "source": [
    "### <span style=\"color:rgb(160,0,86)\">Aufgabe 7</span>\n",
    "Definieren Sie eine Zufallsvariable $X$, die auf dem Intervall $[3,7]$ stetig uniform verteilt ist.\n",
    "- Zeichen Sie die Wahrscheinlichkeitsverteiung und die kumulative Wahrscheinlichkeitsverteilung.\n",
    "- Bestimmen Sie den Erwartungswert $\\mu$, die Standardabweichung $\\sigma$ und das 70\\%-Quantil.\n",
    "- Wie gross ist die Wahrscheinlichkeit $P(X \\leqslant 4.33)$? \n",
    "- Suchen Sie typische Beispiele für Zufallsvariablen, die stetig uniform verteilt sind."
   ]
  },
  {
   "cell_type": "code",
   "execution_count": null,
   "id": "c593face-ea65-4376-b849-41aed5b8bc1c",
   "metadata": {},
   "outputs": [
    {
     "name": "stdout",
     "output_type": "stream",
     "text": [
      "Erwartungswert: 6.5\n",
      "Standardabweichung: 2.0207259421636903\n",
      "70%-Quantil: 7.8999999999999995\n",
      "Wahrscheinlichkeit P (X >= 5)?:0.19\n"
     ]
    },
    {
     "data": {
      "image/png": "[encoded data removed]",
      "text/plain": [
       "<Figure size 1000x500 with 2 Axes>"
      ]
     },
     "metadata": {},
     "output_type": "display_data"
    }
   ],
   "source": [
    "import matplotlib.pyplot as plt\n",
    "import numpy as np\n",
    "import seaborn as sns\n",
    "from scipy.stats import uniform\n",
    "\n",
    "#Zufallsvariable definieren\n",
    "X = uniform(loc=3,scale=7)\n",
    "\n",
    "#Cumulative Distribution Function\n",
    "x = np.linspace(-0.1,10.1,200)\n",
    "X_cdf = X.cdf(x)\n",
    "\n",
    "#Probability Density Function\n",
    "X_pdf = X.pdf(x)\n",
    "\n",
    "#5000 zufällige Werte (statt pmf bei diskreten Zufallsvariablen)\n",
    "sample = X.rvs(size=5000)\n",
    "\n",
    "fig = plt.figure(figsize=(10,5))\n",
    "\n",
    "ax1 = fig.add_subplot(1,2,1)\n",
    "ax1.plot(x,X_cdf,lw=3)\n",
    "plt.ylim(0,1.02)\n",
    "ax1.hlines(0.7,-0.1,10.1,color=\"red\",linestyle=\"dashed\")\n",
    "\n",
    "ax2 = fig.add_subplot(1,2,2)\n",
    "sns.histplot(sample,stat=\"density\",color=\"lightblue\",ax=ax2)\n",
    "ax2.plot(x,X_pdf,lw=3)\n",
    "plt.ylim(0,1.02)\n",
    "\n",
    "print(\"Erwartungswert: \" + str(X.mean()))\n",
    "print(\"Standardabweichung: \"+ str(X.std()))\n",
    "print(\"70%-Quantil: \" + str(X.ppf(0.70)))\n",
    "print(\"Wahrscheinlichkeit P (X <= 4.33)?:\" + str(X.cdf(4.33)))\n",
    "\n",
    "plt.show()"
   ]
  },
  {
   "cell_type": "markdown",
   "id": "fa255cd3-4cfc-4df1-8bcd-dd48653b7e98",
   "metadata": {},
   "source": [
    "### <span style=\"color:rgb(160,0,86)\">Die Exponentialverteilung</span>\n",
    "\n",
    "- Eine Zufallsvariable $\\,\\pmb{X}\\,$ mit Werten aus dem Intervall $[\\texttt{loc},\\infty)$ hat eine **Exponentialverteilung** mit: $$P(X\\leqslant x)=\\int\\limits_{\\texttt{loc}}^{x}\\frac{1}{\\texttt{scale}}\\cdot e^{-\\frac{t-\\texttt{loc}}{\\texttt{scale}}}\\,dt$$\n",
    "- Wenn ein *stetige* Zufallsvariable $X$ **Expenential** verteilt ist, schreiben wir $$X\\sim \\mathsf{Exp}(\\text{loc},\\text{scale})\\;.$$\n",
    "- In **SciPy** heisst diese Zufallsvariable **expon( )** und sie hat zwei Parameter <tt>loc</tt> und <tt>scale</tt>.\n",
    "- ***Zum Beispiel*** die Lebensdauer einer Glühbirne"
   ]
  },
  {
   "cell_type": "code",
   "execution_count": null,
   "id": "989aba1e-7b18-49e7-9a39-dc59026650db",
   "metadata": {},
   "outputs": [],
   "source": [
    "import matplotlib.pyplot as plt\n",
    "import numpy as np\n",
    "import seaborn as sns\n",
    "from scipy.stats import expon\n",
    "\n",
    "#Zufallsvariable definieren\n",
    "X = expon(loc=1,scale=2)\n",
    "\n",
    "#Cumulative Distribution Function\n",
    "x = np.linspace(-0.1,15.1,200)\n",
    "X_cdf = X.cdf(x)\n",
    "\n",
    "#Probability Density Function\n",
    "X_pdf = X.pdf(x)\n",
    "\n",
    "#5000 zufällige Werte\n",
    "sample = X.rvs(size=5000)\n",
    "\n",
    "fig = plt.figure(figsize=(10,5))\n",
    "\n",
    "ax1 = fig.add_subplot(1,2,1)\n",
    "ax1.plot(x,X_cdf,lw=3)\n",
    "plt.ylim(0,1.02)\n",
    "ax1.hlines(0.75,-0.1,15.1,color=\"red\",linestyle=\"dashed\")\n",
    "\n",
    "ax2 = fig.add_subplot(1,2,2)\n",
    "sns.histplot(sample,stat=\"density\",color=\"lightblue\",ax=ax2)\n",
    "ax2.plot(x,X_pdf,lw=3)\n",
    "plt.ylim(0,1.02)\n",
    "\n",
    "plt.show()"
   ]
  },
  {
   "cell_type": "markdown",
   "id": "0f3fd9c2-5c81-4b77-8cbd-d8b2dc1f5a56",
   "metadata": {},
   "source": [
    "Das **0.75-Quantil** $\\,\\pmb{x_{0.75}}\\,$ ist:"
   ]
  },
  {
   "cell_type": "code",
   "execution_count": null,
   "id": "47dfe7a6-060e-41f4-9d3e-59a929424ce7",
   "metadata": {},
   "outputs": [],
   "source": [
    "X.ppf(0.75)"
   ]
  },
  {
   "cell_type": "markdown",
   "id": "cd327a9c-8a1f-4a04-89bc-98f48468572e",
   "metadata": {},
   "source": [
    "Der **Erwartungswert** $\\,\\pmb{\\mu}\\,$ ist:"
   ]
  },
  {
   "cell_type": "code",
   "execution_count": null,
   "id": "b7e034b3-6106-4ca0-a49f-78d4af5793d6",
   "metadata": {},
   "outputs": [],
   "source": [
    "X.mean()"
   ]
  },
  {
   "cell_type": "markdown",
   "id": "102972d0-91e4-41f1-bfa1-feb63480d339",
   "metadata": {},
   "source": [
    "Die **Varianz** $\\,\\pmb{\\sigma^2}\\,$ ist:"
   ]
  },
  {
   "cell_type": "code",
   "execution_count": null,
   "id": "6a20da18-77ea-4f30-92ed-ab1cdc75818b",
   "metadata": {},
   "outputs": [],
   "source": [
    "X.var()"
   ]
  },
  {
   "cell_type": "markdown",
   "id": "e9dac44f-bc19-46bc-9ba1-86d656624a8f",
   "metadata": {},
   "source": [
    "Die **Standardabweichung** $\\,\\pmb{\\sigma}\\,$ ist:\n"
   ]
  },
  {
   "cell_type": "code",
   "execution_count": null,
   "id": "44ce50cf-4e89-44e9-985e-49343d45327d",
   "metadata": {},
   "outputs": [],
   "source": [
    "X.std()"
   ]
  },
  {
   "cell_type": "markdown",
   "id": "dbeec9bf-e00f-440e-8be7-7c83ef112dd3",
   "metadata": {},
   "source": [
    "Die **Wahrscheinlichkeit** $\\,\\pmb{P(2<X<5)}\\,$ ist:"
   ]
  },
  {
   "cell_type": "code",
   "execution_count": null,
   "id": "51d29831-e3c0-4a49-a3df-0310692df873",
   "metadata": {},
   "outputs": [],
   "source": [
    "# Nur mit cdf:\n",
    "X.cdf(5)- X.cdf(2)"
   ]
  },
  {
   "cell_type": "markdown",
   "id": "5aefdd70-0bc9-4443-ae19-2d63734cb60a",
   "metadata": {},
   "source": [
    "### <span style=\"color:rgb(160,0,86)\">Aufgabe 8</span>\n",
    "Definieren Sie eine Zufallsvariable $X$, die mit $\\text{loc}=2$ und $\\text{scale}=5$ Exponential verteilt ist.\n",
    "- Zeichen Sie die Wahrscheinlichkeitsverteiung und die kumulative Wahrscheinlichkeitsverteilung.\n",
    "- Bestimmen Sie den Erwartungswert $\\mu$, die Standardabweichung $\\sigma$ und das 70\\%-Quantil.\n",
    "- Wie gross ist die Wahrscheinlichkeit $P(X \\leqslant 6)$? \n",
    "- Suchen Sie typische Beispiele für Zufallsvariablen, die stetig uniform verteilt sind."
   ]
  },
  {
   "cell_type": "code",
   "execution_count": 103,
   "id": "6b3bb616-fa64-4b2e-980c-a219eea76736",
   "metadata": {},
   "outputs": [
    {
     "name": "stdout",
     "output_type": "stream",
     "text": [
      "Erwartungswert: 7.0\n",
      "Standardabweichung: 5.0\n",
      "70%-Quantil: 8.01986402162968\n",
      "Wahrscheinlichkeit P (X <= 6)?:0.5506710358827784\n"
     ]
    },
    {
     "data": {
      "image/png": "[encoded data removed]",
      "text/plain": [
       "<Figure size 1000x500 with 2 Axes>"
      ]
     },
     "metadata": {},
     "output_type": "display_data"
    }
   ],
   "source": [
    "import matplotlib.pyplot as plt\n",
    "import numpy as np\n",
    "import seaborn as sns\n",
    "from scipy.stats import expon\n",
    "\n",
    "#Zufallsvariable definieren\n",
    "X = expon(loc=2,scale=5)\n",
    "\n",
    "#Cumulative Distribution Function\n",
    "x = np.linspace(-0.1,30.1,200)\n",
    "X_cdf = X.cdf(x)\n",
    "\n",
    "#Probability Density Function\n",
    "X_pdf = X.pdf(x)\n",
    "\n",
    "#5000 zufällige Werte\n",
    "sample = X.rvs(size=5000)\n",
    "\n",
    "fig = plt.figure(figsize=(10,5))\n",
    "\n",
    "ax1 = fig.add_subplot(1,2,1)\n",
    "ax1.plot(x,X_cdf,lw=3)\n",
    "plt.ylim(0,1.02)\n",
    "ax1.hlines(0.7,-0.1,30.1,color=\"red\",linestyle=\"dashed\")\n",
    "\n",
    "ax2 = fig.add_subplot(1,2,2)\n",
    "sns.histplot(sample,stat=\"density\",color=\"lightblue\",ax=ax2)\n",
    "ax2.plot(x,X_pdf,lw=3)\n",
    "plt.ylim(0,1.02)\n",
    "\n",
    "print(\"Erwartungswert: \" + str(X.mean()))\n",
    "print(\"Standardabweichung: \"+ str(X.std()))\n",
    "print(\"70%-Quantil: \" + str(X.ppf(0.70)))\n",
    "print(\"Wahrscheinlichkeit P (X <= 6)?:\" + str(X.cdf(6)))\n",
    "\n",
    "plt.show()"
   ]
  },
  {
   "cell_type": "markdown",
   "id": "f740f778-9406-48b6-8c6f-a3ed159f7682",
   "metadata": {},
   "source": [
    "### <span style=\"color:rgb(160,0,86)\">Die Normalverteilung</span>\n",
    "\n",
    "- Eine Zufallsvariable $\\,\\pmb{X}\\,$ mit Werten aus $\\mathbb{R}$ hat eine **Normalverteilung** mit: $$P(X\\leqslant x)=\\int\\limits_{-\\infty}^{x}\\frac{1}{\\texttt{scale}\\cdot\\sqrt{2\\pi}}\\cdot e^{-\\frac{(t-\\texttt{loc})^2}{2\\,\\cdot\\,\\texttt{scale}^2}}\\,dt$$\n",
    "- Wenn ein *stetige* Zufallsvariable $X$ **normal** verteilt ist, schreiben wir $$X\\sim \\mathsf{Norm}(\\text{loc},\\text{scale})\\;.$$\n",
    "- In **SciPy** heisst diese Zufallsvariable **norm( )** und sie hat zwei Parameter <tt>loc</tt> und <tt>scale</tt>.\n",
    "- ***Zum Beispiel*** die Körpergrösse von Menschen."
   ]
  },
  {
   "cell_type": "code",
   "execution_count": null,
   "id": "d682ad63-a1cf-4986-aa5c-a5c9972adb0c",
   "metadata": {},
   "outputs": [],
   "source": [
    "import matplotlib.pyplot as plt\n",
    "import numpy as np\n",
    "import seaborn as sns\n",
    "from scipy.stats import norm\n",
    "\n",
    "#Zufallsvariable definieren\n",
    "X = norm(loc=3,scale=1.5)\n",
    "\n",
    "#Cumulative Distribution Function\n",
    "x = np.linspace(-3.1,12.1,200)\n",
    "X_cdf = X.cdf(x)\n",
    "\n",
    "#Probability Density Function\n",
    "X_pdf = X.pdf(x)\n",
    "\n",
    "#5000 zufällige Werte\n",
    "sample = X.rvs(size=5000)\n",
    "\n",
    "fig = plt.figure(figsize=(10,5))\n",
    "\n",
    "ax1 = fig.add_subplot(1,2,1)\n",
    "ax1.plot(x,X_cdf,lw=3)\n",
    "plt.ylim(0,1.02)\n",
    "ax1.hlines(0.75,-3.1,12.1,color=\"red\",linestyle=\"dashed\")\n",
    "\n",
    "ax2 = fig.add_subplot(1,2,2)\n",
    "sns.histplot(sample,stat=\"density\",color=\"lightblue\",ax=ax2)\n",
    "ax2.plot(x,X_pdf,lw=3)\n",
    "plt.ylim(0,1.02)\n",
    "\n",
    "plt.show()"
   ]
  },
  {
   "cell_type": "markdown",
   "id": "43f9ee70-013c-44ac-8602-c312b76673c6",
   "metadata": {},
   "source": [
    "Das **0.75-Quantil** $\\,\\pmb{x_{0.75}}\\,$ ist:"
   ]
  },
  {
   "cell_type": "code",
   "execution_count": null,
   "id": "272f9b90-5f82-4c3a-a3a9-2c9810c15f17",
   "metadata": {},
   "outputs": [],
   "source": [
    "X.ppf(0.75)"
   ]
  },
  {
   "cell_type": "markdown",
   "id": "f1e18a62-5679-488b-87b2-4bf992931ece",
   "metadata": {},
   "source": [
    "Der **Erwartungswert** $\\,\\pmb{\\mu}\\,$ ist:"
   ]
  },
  {
   "cell_type": "code",
   "execution_count": null,
   "id": "4e3ead4b-2b87-473d-a33a-b3adfc5ae52a",
   "metadata": {},
   "outputs": [],
   "source": [
    "X.mean()"
   ]
  },
  {
   "cell_type": "markdown",
   "id": "74a27d69-aea7-489e-a242-0a5d54015137",
   "metadata": {},
   "source": [
    "Die **Varianz** $\\,\\pmb{\\sigma^2}\\,$ ist:"
   ]
  },
  {
   "cell_type": "code",
   "execution_count": null,
   "id": "5078e8c5-e350-456d-b4e8-4b5114038b5e",
   "metadata": {},
   "outputs": [],
   "source": [
    "X.var()"
   ]
  },
  {
   "cell_type": "markdown",
   "id": "463915ce-555d-4411-a1af-efb42b4c4b1b",
   "metadata": {},
   "source": [
    "Die **Standardabweichung** $\\,\\pmb{\\sigma}\\,$ ist:"
   ]
  },
  {
   "cell_type": "code",
   "execution_count": null,
   "id": "d55fd53e-5b46-4d25-be57-5204e9a1153d",
   "metadata": {},
   "outputs": [],
   "source": [
    "X.std()"
   ]
  },
  {
   "cell_type": "markdown",
   "id": "14b4cde8-07ef-419f-b160-d896a21c6f17",
   "metadata": {},
   "source": [
    "Die **Wahrscheinlichkeit** $\\,\\pmb{P(2<X<5)}\\,$ ist:"
   ]
  },
  {
   "cell_type": "code",
   "execution_count": null,
   "id": "0978f3ec-6978-44ab-abcf-cb2e1e15b8dc",
   "metadata": {},
   "outputs": [],
   "source": [
    "# Nur mit cdf:\n",
    "X.cdf(5) - X.cdf(2)"
   ]
  },
  {
   "cell_type": "markdown",
   "id": "c733d591-d5e9-4e16-a872-f19af9afb0cb",
   "metadata": {},
   "source": [
    "### <span style=\"color:rgb(160,0,86)\">Aufgabe 9</span>\n",
    "Definieren Sie eine Zufallsvariable $X$, die mit $\\text{loc}=-3$ und $\\text{scale}=3.5$ Normal verteilt ist.\n",
    "- Zeichen Sie die Wahrscheinlichkeitsverteiung und die kumulative Wahrscheinlichkeitsverteilung.\n",
    "- Sie verändern die Parameter $\\text{loc}$ und $\\text{scale}$ die Wahrscheinlichkeitsverteilung? \n",
    "- Bestimmen Sie den Erwartungswert $\\mu$, die Standardabweichung $\\sigma$ und das 70\\%-Quantil.\n",
    "- Wie gross ist die Wahrscheinlichkeit $P(-4\\leqslant X \\leqslant -1)$? \n",
    "- Suchen Sie typische Beispiele für Zufallsvariablen, die stetig uniform verteilt sind."
   ]
  },
  {
   "cell_type": "code",
   "execution_count": 112,
   "id": "1528b131-f566-4002-8800-84d6d65c5dea",
   "metadata": {},
   "outputs": [
    {
     "name": "stdout",
     "output_type": "stream",
     "text": [
      "Erwartungswert: -3.0\n",
      "Standardabweichung: 3.5\n",
      "70%-Quantil: -1.1645982055218576\n",
      "Wahrscheinlichkeit P(-4 <= X <= -1)?:0.3285969358033314\n"
     ]
    },
    {
     "data": {
      "image/png": "[encoded data removed]",
      "text/plain": [
       "<Figure size 1000x500 with 2 Axes>"
      ]
     },
     "metadata": {},
     "output_type": "display_data"
    }
   ],
   "source": [
    "import matplotlib.pyplot as plt\n",
    "import numpy as np\n",
    "import seaborn as sns\n",
    "from scipy.stats import norm\n",
    "\n",
    "#Zufallsvariable definieren\n",
    "X = norm(loc=-3,scale=3.5)\n",
    "\n",
    "#Cumulative Distribution Function\n",
    "x = np.linspace(-3.1,8.1,200)\n",
    "X_cdf = X.cdf(x)\n",
    "\n",
    "#Probability Density Function\n",
    "X_pdf = X.pdf(x)\n",
    "\n",
    "#5000 zufällige Werte\n",
    "sample = X.rvs(size=5000)\n",
    "\n",
    "fig = plt.figure(figsize=(10,5))\n",
    "\n",
    "ax1 = fig.add_subplot(1,2,1)\n",
    "ax1.plot(x,X_cdf,lw=3)\n",
    "plt.ylim(0,1.02)\n",
    "ax1.hlines(0.7,-3.1,8.1,color=\"red\",linestyle=\"dashed\")\n",
    "\n",
    "ax2 = fig.add_subplot(1,2,2)\n",
    "sns.histplot(sample,stat=\"density\",color=\"lightblue\",ax=ax2)\n",
    "ax2.plot(x,X_pdf,lw=3)\n",
    "plt.ylim(0,1.02)\n",
    "\n",
    "print(\"Erwartungswert: \" + str(X.mean()))\n",
    "print(\"Standardabweichung: \"+ str(X.std()))\n",
    "print(\"70%-Quantil: \" + str(X.ppf(0.70)))\n",
    "print(\"Wahrscheinlichkeit P(-4 <= X <= -1)?:\" + str(X.cdf(-1) - X.cdf(-4)))\n",
    "\n",
    "plt.show()"
   ]
  },
  {
   "cell_type": "markdown",
   "id": "afc58872-4e9b-44ca-97e9-2b7c5f4e62f7",
   "metadata": {},
   "source": [
    "![HSLU](Bilder/LogoHSLU.png)"
   ]
  }
 ],
 "metadata": {
  "kernelspec": {
   "display_name": "Python 3 (ipykernel)",
   "language": "python",
   "name": "python3"
  },
  "language_info": {
   "codemirror_mode": {
    "name": "ipython",
    "version": 3
   },
   "file_extension": ".py",
   "mimetype": "text/x-python",
   "name": "python",
   "nbconvert_exporter": "python",
   "pygments_lexer": "ipython3",
   "version": "3.13.7"
  }
 },
 "nbformat": 4,
 "nbformat_minor": 5
}
