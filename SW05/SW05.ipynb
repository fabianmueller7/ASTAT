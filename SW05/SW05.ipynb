{
 "cells": [
  {
   "cell_type": "markdown",
   "id": "f8edfe32-7c29-46a2-939f-a0d3f4e6fa2b",
   "metadata": {},
   "source": [
    "# <span style=\"color:rgb(160,0,86)\">Stichproben</span>\n",
    "\n",
    "***"
   ]
  },
  {
   "cell_type": "markdown",
   "id": "efc2b411-5d0c-45cd-a36d-deb3a678be0e",
   "metadata": {},
   "source": [
    "## <span style=\"color:rgb(160,0,86)\">Lernziele</span>\n",
    "\n",
    "- Sie wissen was eine **Zufallsstichprobe** ist und kennen ihre Bedeutung.\n",
    "- Sie können einfache **binomial verteilte Modelle** berechnen und mit Daten vergleichen.\n",
    "- Sie verstehen die Problematik der **Stichprobenverzerrung** und der **Auswahlverzerrung**.  \n",
    "- Sie kennen den Unterschied zwischen der **Datenverteilung** der **Stichprobenverteilung**.  \n",
    "\n",
    "***"
   ]
  },
  {
   "cell_type": "markdown",
   "id": "e1aeb5b2-eafa-4db1-b3d5-9b13de1f83fe",
   "metadata": {},
   "source": [
    "### <span style=\"color:rgb(160,0,86)\">Was ist eine Stichprobe?</span>\n",
    "\n",
    "Bei einer statistischen Analyse möchte man Aussagen zu einer **Grundgesamtheit** oder **Population** von statistischen Einheiten machen, deren Merkmale einer bestimmten *theoretischen* Verteilung folgen. \n",
    "$$\\begin{array}{c|cccc}\n",
    "&\\text{Merkmal A}&\\text{Merkmal B}&\\text{Merkmal C}&\\cdots\\\\ \\hline \\text{Einheit 1}&a_1&b_1&c_1&\\cdots\\\\\n",
    "\\text{Einheit 2}&a_2&b_2&c_2&\\cdots\\\\\n",
    "\\text{Einheit 3}&a_3&b_3&c_3&\\cdots\\\\\n",
    "\\text{Einheit 4}&a_4&b_4&c_4&\\cdots\\\\\n",
    "\\text{Einheit 5}&a_5&b_5&c_5&\\cdots\\\\\n",
    "\\vdots&\\vdots&\\vdots&\\vdots&\\end{array}$$\n",
    "Hätten wir die Daten zu allen Einheiten, könnten wir die **relativen Häufigkeiten** der Werte zu jedem Merkmal bestimmen und eine Analyse machen. Diese Verteilung ist aber im Allgemeinen nicht bekannt. Alles was uns zur Verfügung steht, sind die Daten, die wir aus einer **Stichprobe** erhalten. \n",
    "$$\\begin{array}{c|cccc}\n",
    "&\\text{Merkmal A}&\\text{Merkmal B}&\\text{Merkmal C}&\\cdots\\\\ \\hline \\textcolor{lightgray}{\\text{Einheit 1}}&\\textcolor{lightgray}{a_1}&\\textcolor{lightgray}{b_1}&\\textcolor{lightgray}{c_1}&\\textcolor{lightgray}{\\cdots}\\\\\n",
    "\\text{Einheit 2}&a_2&b_2&c_2&\\cdots\\\\\n",
    "\\textcolor{lightgray}{\\text{Einheit 3}}&\\textcolor{lightgray}{a_3}&\\textcolor{lightgray}{b_3}&\\textcolor{lightgray}{c_3}&\\textcolor{lightgray}{\\cdots}\\\\\n",
    "\\textcolor{lightgray}{\\text{Einheit 4}}&\\textcolor{lightgray}{a_4}&\\textcolor{lightgray}{b_4}&\\textcolor{lightgray}{c_4}&\\textcolor{lightgray}{\\cdots}\\\\\n",
    "\\text{Einheit 5}&a_5&b_5&c_5&\\cdots\\\\\n",
    "\\vdots&\\vdots&\\vdots&\\vdots&\\end{array}$$\n",
    "\n",
    "Wir kennen also die ***empirische* Verteilung** der Werte zu jedem Merkmal in der Stichprobe. Damit wir aus der Stichprobe etwas über die Gesamtheit sagen können, ist entscheident, mit welchen Verfahren wir so eine Stichprobe ziehen. \n",
    "\n",
    "<span style=\"color:rgb(160,0,86)\">***Definition:***</span>\n",
    "Eine **Stichprobe** ist eine Teilmenge von Daten aus einem grösseren Datensatz, der sogenannten **Grundgesamtheit**. Die Grundgesamtheit ist ein grosser, definierter, aber manchmal theoretischer oder imaginärer Datensatz."
   ]
  },
  {
   "cell_type": "markdown",
   "id": "386dc389-082a-4c66-9fb3-ab6168173ecb",
   "metadata": {},
   "source": [
    "<center>\n",
    "<img src=\"Bilder/Grundgesamtheit-Stichprobe.png\" width=\"55%\" />\n",
    "</center>"
   ]
  },
  {
   "cell_type": "markdown",
   "id": "6cb66838-d2c9-4d28-a2d5-47d966769e59",
   "metadata": {},
   "source": [
    "### <span style=\"color:rgb(160,0,86)\">Können wir Grundgesamtheit modellieren?</span>\n",
    "\n",
    "In speziellen Situationen, etwa wenn ***Daten aus einem physikalischen Prozess*** generiert werden, können wir mit **strengen Annahmen** und **theoretischen Überlegungen** die Verteilung der Grundgesamtheit beschreiben: \n",
    "\n",
    "Wenn zum Beispiel Daten mit einen binären Zufallsprozess, der $n$ mal unabhängig voneinander Werte wie *Kopf* oder *Zahl*, *klicken* oder *nicht klicken*, *Betrug* oder *kein Betrug* etc. erzeut, dann ist die Anzahl *Kopf*, *klicken* oder *Betrug* **binomial verteilt**. \n",
    "\n",
    "<span style=\"color:rgb(160,0,86)\">***Merksatz:***</span> Wenn wir ein **theoretisches Modell für die Grundgesamtheit** haben, können wir **Erkenntnisse** gewinnen, indem wir unser **Wissen** über die Grundgesamtheit nutzen.\n",
    "\n",
    "<span style=\"color:rgb(160,0,86)\">***Beispiel:***</span> Werfen wir **10 mal eine gezinkte Münze**, bei der *Kopf* mit Wahrscheinlichkeit $65\\%$ erscheint:"
   ]
  },
  {
   "cell_type": "code",
   "execution_count": 1,
   "id": "15615ed7-323d-4179-8d18-43fd2b3339cb",
   "metadata": {},
   "outputs": [
    {
     "name": "stdout",
     "output_type": "stream",
     "text": [
      "[0 0 1 1 1 0 1 1 1 1]\n"
     ]
    }
   ],
   "source": [
    "from scipy.stats import bernoulli\n",
    "\n",
    "X = bernoulli(p=0.65)\n",
    "experiment = X.rvs(size=10) \n",
    "\n",
    "print(experiment)"
   ]
  },
  {
   "cell_type": "markdown",
   "id": "ddf991e8-7b1f-4a61-901f-6ca0f40b3860",
   "metadata": {},
   "source": [
    "Nun zählen wir, **wie oft Kopf** vorkommt und wiederholen diesen Prozess 15 mal. Damit erzeugen wir eine Stichprobe mit 15 statistischen Einheiten zum Merkmal ***Anzahl Kopf***: "
   ]
  },
  {
   "cell_type": "code",
   "execution_count": 2,
   "id": "e2e58b72-1767-47a9-96ab-68da82a4dd39",
   "metadata": {},
   "outputs": [
    {
     "data": {
      "text/plain": [
       "[np.int64(5),\n",
       " np.int64(7),\n",
       " np.int64(7),\n",
       " np.int64(6),\n",
       " np.int64(8),\n",
       " np.int64(6),\n",
       " np.int64(6),\n",
       " np.int64(10),\n",
       " np.int64(9),\n",
       " np.int64(9),\n",
       " np.int64(4),\n",
       " np.int64(5),\n",
       " np.int64(7),\n",
       " np.int64(6),\n",
       " np.int64(7)]"
      ]
     },
     "execution_count": 2,
     "metadata": {},
     "output_type": "execute_result"
    }
   ],
   "source": [
    "stichprobe = [sum(X.rvs(size=10)) for _ in range(15)]\n",
    "stichprobe"
   ]
  },
  {
   "cell_type": "markdown",
   "id": "71b5450e-918e-4ac2-9466-3524f03c93a1",
   "metadata": {},
   "source": [
    "In einem Dichtediagramm können wir die **empirische Verteilung** der ***Anzahl Kopf*** darstellen: "
   ]
  },
  {
   "cell_type": "code",
   "execution_count": 3,
   "id": "dd634a07-76cb-42d7-8186-09263f12ea77",
   "metadata": {},
   "outputs": [
    {
     "data": {
      "image/png": "[encoded data removed]",
      "text/plain": [
       "<Figure size 600x500 with 1 Axes>"
      ]
     },
     "metadata": {},
     "output_type": "display_data"
    }
   ],
   "source": [
    "import matplotlib.pyplot as plt\n",
    "import numpy as np\n",
    "import seaborn as sns\n",
    "\n",
    "fig = plt.figure(figsize=(6,5))\n",
    "\n",
    "axi = fig.add_subplot(1,1,1)\n",
    "sns.histplot(stichprobe,\n",
    "             bins=np.arange(-0.5,11.5),\n",
    "             stat=\"density\",\n",
    "             color=\"red\",\n",
    "             ax = axi)\n",
    "axi = plt.ylim(0,0.5)\n",
    "axi = plt.title(\"15 Experimente\", fontsize=13, pad=10)\n",
    "axi = plt.xlabel(\"Anzahl Kopf bei 10 Würfen\")\n",
    "axi = plt.ylabel(\"Dichte\")\n",
    "\n",
    "plt.show()"
   ]
  },
  {
   "cell_type": "markdown",
   "id": "9396dab5-b7b0-47ce-b096-197ed1751c44",
   "metadata": {},
   "source": [
    "Wenn wir eine Stichprobe mit 100000 Einheiten erzeugen, erkennen wir die **theoretische Verteilung der Grundgesamtheit**:"
   ]
  },
  {
   "cell_type": "code",
   "execution_count": 4,
   "id": "2fa9e3a0-da4f-48f1-afcb-e1511f17b88b",
   "metadata": {},
   "outputs": [
    {
     "data": {
      "image/png": "[encoded data removed]",
      "text/plain": [
       "<Figure size 600x500 with 1 Axes>"
      ]
     },
     "metadata": {},
     "output_type": "display_data"
    }
   ],
   "source": [
    "import matplotlib.pyplot as plt\n",
    "import numpy as np\n",
    "import seaborn as sns\n",
    "\n",
    "stichprobenUmfang = 100000\n",
    "stichprobe = [sum(X.rvs(size=10)) for _ in range(stichprobenUmfang)]\n",
    "\n",
    "fig = plt.figure(figsize=(6,5))\n",
    "\n",
    "axi = fig.add_subplot(1,1,1)\n",
    "\n",
    "sns.histplot(stichprobe,\n",
    "             bins=np.arange(-0.5,11.5),\n",
    "             stat=\"density\",\n",
    "             color=\"red\",\n",
    "             ax = axi)\n",
    "\n",
    "axi = plt.ylim(0,0.5)\n",
    "axi = plt.title(\"100000 Experimente\", fontsize=13, pad=10)\n",
    "axi = plt.xlabel(\"Anzahl Kopf bei 10 Würfen\")\n",
    "axi = plt.ylabel(\"Dichte\")\n",
    "\n",
    "plt.show()"
   ]
  },
  {
   "cell_type": "markdown",
   "id": "dfa24ba7-5a2a-46e5-9c23-211522965089",
   "metadata": {},
   "source": [
    "Mathematisch können wir zeigen, dass die ***Anzahl Kopf in 10 Würfen*** einer **Binomial Verteilung** folgt. Für alle $\\,\\pmb{k\\in\\{0,1,2,\\ldots,10\\}}\\,$ gilt:\n",
    "\n",
    "$$\\begin{align*}P(\\texttt{k-mal Kopf bei 10 Würfen})\\rule{0cm}{2cm} & \\;\\;=\\;  \n",
    "   \\left\\{\\begin{array}{l} \\texttt{Anzahl Möglichkeiten}\\\\\n",
    "                           \\texttt{bei genau k Positionen}\\\\ \n",
    "                           \\texttt{Kopf zu haben} \\end{array}\\right\\}\n",
    "   \\cdot 0.65^k \\cdot 0.35^{10-k} \\\\\n",
    "   \\rule{0cm}{2cm}\n",
    "   & \\;\\;=\\; \\binom{10}{k}\\cdot 0.65^k \\cdot 0.35^{10-k}\\end{align*}$$\n",
    "\n",
    "\n",
    "Die ***Anzahl Kopf in 10 Würfen*** ist also in der Tat $\\,\\pmb{\\mathsf{Bin}(0.65,10)}\\,\\rule{0cm}{1.5cm}$**-Verteilt**. \n",
    "\n",
    "Aus dem Modul **scipy.stats** können wir eine Zufallsvariable $\\,\\pmb{X}\\,$ mit dieser Binomialverteiliung laden:  "
   ]
  },
  {
   "cell_type": "code",
   "execution_count": 5,
   "id": "c9b834d0-679d-459d-9c91-2c0fa18c914f",
   "metadata": {},
   "outputs": [],
   "source": [
    "from scipy.stats import binom\n",
    "\n",
    "X = binom(p=0.65,n=10)"
   ]
  },
  {
   "cell_type": "markdown",
   "id": "9589b266-2a4e-4109-97ff-31b6e6c01e15",
   "metadata": {},
   "source": [
    "Wir zeichnen nun diese **theoretische Verteilung der Grundgesamtheit** zusätzlich zu den **100000 Stichproben** oben: "
   ]
  },
  {
   "cell_type": "code",
   "execution_count": 6,
   "id": "ad847686-d966-430a-86ae-e9bbcf1aa208",
   "metadata": {},
   "outputs": [
    {
     "data": {
      "image/png": "[encoded data removed]",
      "text/plain": [
       "<Figure size 600x500 with 1 Axes>"
      ]
     },
     "metadata": {},
     "output_type": "display_data"
    }
   ],
   "source": [
    "fig = plt.figure(figsize=(6,5))\n",
    "\n",
    "axi = fig.add_subplot(1,1,1)\n",
    "\n",
    "sns.histplot(stichprobe,\n",
    "             bins=np.arange(-0.5,11.5),\n",
    "             stat=\"density\",\n",
    "             color=\"red\",\n",
    "             ax = axi)\n",
    "axi = plt.vlines(np.arange(0,11),\n",
    "                 0, X.pmf(np.arange(0,11)),\n",
    "                 lw=3,\n",
    "                 color=\"blue\")\n",
    "\n",
    "axi = plt.ylim(0,0.5)\n",
    "axi = plt.title(\"100000 Experimente und theoretische Verteilung\", fontsize=13, pad=10)\n",
    "axi = plt.xlabel(\"Anzahl Kopf bei 10 Würfen\")\n",
    "axi = plt.ylabel(\"Dichte\")\n",
    "\n",
    "plt.show()"
   ]
  },
  {
   "cell_type": "markdown",
   "id": "7c09944d-a77a-44e3-965b-17c4520de8dc",
   "metadata": {},
   "source": [
    "Wenn uns zum Beispiel die ***mittlere Anzahl Kopf bei 10 Würfen*** interessiert, können wir nun diese Anzahl aus \n",
    "- der ***empirischen* Verteilung** der Stichprobe oder\n",
    "- aus der ***theoretischen* Verteilung** der Grundgesamtheit\n",
    "\n",
    "berechnen:"
   ]
  },
  {
   "cell_type": "code",
   "execution_count": 7,
   "id": "43d9fd02-591a-4ce4-8e34-b7d8e08637a2",
   "metadata": {},
   "outputs": [
    {
     "name": "stdout",
     "output_type": "stream",
     "text": [
      "Arithmetisches Mittel der Stichprobe: 6.49806\n",
      "Erwartungswert der theoretischen Verteilung: 6.5\n"
     ]
    }
   ],
   "source": [
    "#aus der empirischen Verteilung:\n",
    "mittelwert = sum(stichprobe)/stichprobenUmfang\n",
    "\n",
    "#aus der theoretischen Verteilung:\n",
    "erwartungswert = X.mean()\n",
    "\n",
    "print(\"Arithmetisches Mittel der Stichprobe:\",mittelwert)\n",
    "print(\"Erwartungswert der theoretischen Verteilung:\",erwartungswert)"
   ]
  },
  {
   "cell_type": "markdown",
   "id": "78865641-76eb-471d-ad43-e81ae3ccd1ad",
   "metadata": {},
   "source": [
    "### <span style=\"color:rgb(160,0,86)\">Aufgabe 1</span>\n",
    "Auf einer Webseite gibt es 20 *Elemente mit Werbung* auf die User klicken können. Nehmen  wir an, dass ein User bei einem Besuch jedes Element mit einer Wahrscheinlichkeit von $p=0.33$ anklickt.\n",
    "- Erzeugen Sie mit einer Bernoulli verteilten Zufallsvariablen eine Stichprobe für 200000 Besuche und stellen Sie die empirische Verteilung der **Anzahl Klicks pro Besuch** graphisch dar.\n",
    "- Zeichnen Sie unter diesen Annahmen auch die theoretische Verteilung der Grundgesamtheit in die gleiche Figur.\n",
    "- Vergleichen Sie die mittlere Anzahl Klicks pro Besuch in der Stichprobe mit dem Erwartungswert."
   ]
  },
  {
   "cell_type": "code",
   "execution_count": 33,
   "id": "7fd4aaec-eb40-468d-8e10-3b6df5c83ea3",
   "metadata": {},
   "outputs": [
    {
     "data": {
      "image/png": "[encoded data removed]",
      "text/plain": [
       "<Figure size 600x500 with 1 Axes>"
      ]
     },
     "metadata": {},
     "output_type": "display_data"
    }
   ],
   "source": [
    "import matplotlib.pyplot as plt\n",
    "import numpy as np\n",
    "import seaborn as sns\n",
    "\n",
    "#Zahlen generieren\n",
    "from scipy.stats import binom\n",
    "\n",
    "X = bernoulli(p=0.33)\n",
    "stichprobenUmfang = 200000\n",
    "stichprobe = [sum(X.rvs(size=20)) for _ in range(stichprobenUmfang)]\n",
    "stichprobe\n",
    "\n",
    "#Plot\n",
    "fig = plt.figure(figsize=(6,5))\n",
    "\n",
    "axi = fig.add_subplot(1,1,1)\n",
    "sns.histplot(stichprobe,\n",
    "            bins=np.arange(-0.5,20.5),\n",
    "             stat=\"density\",\n",
    "             color=\"red\",\n",
    "             ax = axi)\n",
    "axi = plt.title(\"Experimente\", fontsize=13, pad=10)\n",
    "axi = plt.xlabel(\"Anzahl Angeklicke Werbungen bei 20 Werbungen\")\n",
    "axi = plt.ylabel(\"Dichte\")"
   ]
  },
  {
   "cell_type": "markdown",
   "id": "5f8b2328-ddb3-4662-b5bc-94f349009578",
   "metadata": {},
   "source": [
    "### <span style=\"color:rgb(160,0,86)\">Aufgabe 2</span>\n",
    "Ein grosses Rechenzentrum betreibt 50 Server. Die Wahrscheinlichkeit, dass ein Server an einem Tag ausfällt, beträgt $2\\%$.\n",
    "- Erzeugen Sie mit einer Bernoulli verteilten Zufallsvariablen eine Stichprobe von 5 Jahren und stellen Sie die empirische Verteilung der **Anzahl Ausfälle pro Tag** graphisch dar.\n",
    "- Zeichnen Sie unter diesen Annahmen auch die theoretische Verteilung der Grundgesamtheit in die gleiche Figur.\n",
    "- Vergleichen Sie die mittlere Anzahl Ausfälle pro Tag in der Stichprobe mit dem Erwartungswert."
   ]
  },
  {
   "cell_type": "code",
   "execution_count": 40,
   "id": "7076db41-d38b-4431-a2df-66df4a14d3cb",
   "metadata": {},
   "outputs": [
    {
     "data": {
      "image/png": "[encoded data removed]",
      "text/plain": [
       "<Figure size 600x500 with 1 Axes>"
      ]
     },
     "metadata": {},
     "output_type": "display_data"
    }
   ],
   "source": [
    "import matplotlib.pyplot as plt\n",
    "import numpy as np\n",
    "import seaborn as sns\n",
    "\n",
    "#Zahlen generieren\n",
    "from scipy.stats import binom\n",
    "\n",
    "X = bernoulli(p=0.02)\n",
    "stichprobenUmfang = 1825 #Tage\n",
    "stichprobe = [sum(X.rvs(size=50)) for _ in range(stichprobenUmfang)]\n",
    "stichprobe\n",
    "\n",
    "#Plot\n",
    "fig = plt.figure(figsize=(6,5))\n",
    "\n",
    "axi = fig.add_subplot(1,1,1)\n",
    "sns.histplot(stichprobe,\n",
    "            bins=np.arange(-0.5,10.5),\n",
    "             stat=\"count\",\n",
    "             color=\"red\",\n",
    "             ax = axi)\n",
    "axi = plt.title(\"Experimente\", fontsize=13, pad=10)\n",
    "axi = plt.xlabel(\"Anzahl Angeklicke Werbungen bei 20 Werbungen\")\n",
    "axi = plt.ylabel(\"Dichte\")"
   ]
  },
  {
   "cell_type": "markdown",
   "id": "b0d5683c-bcff-4301-8198-0ebf56a8be89",
   "metadata": {},
   "source": [
    "***\n",
    "\n",
    "### <span style=\"color:rgb(160,0,86)\">Was sind Zufallsstichproben?</span>"
   ]
  },
  {
   "cell_type": "markdown",
   "id": "d68cf73a-5509-4506-a5f1-5810f3482f8b",
   "metadata": {},
   "source": [
    "In den **Datenwissenschaften** machen wir uns selten Gedanken über solche theoretischen Eigenschaften der Verteilungen in der Grundgesamtheit.\n",
    "\n",
    "Stattdessen fokusieren wir uns auf die **Stichprobenziehungsverfahren** und konzentrieren uns auf die **zur Verfügung stehenden Daten**. \n",
    "\n",
    "- Es wäre oft gar nicht möglich die theoretischen Verteilungen in der Grundgesamtheit zu berechnen."
   ]
  },
  {
   "cell_type": "markdown",
   "id": "1d9bbfd2-52c4-4ec7-b1bd-3d9c9f519097",
   "metadata": {},
   "source": [
    "Damit wir aus einer Stichprobe **verlässliche Schätzungen** zur Lage und Streuung der Daten in der Grundgesamtheit machen können, ist das **Stichprobenziehungsverfahren** von entscheidender Bedeutung."
   ]
  },
  {
   "cell_type": "markdown",
   "id": "fa0339d2-2916-4643-a5cb-cd9038286015",
   "metadata": {},
   "source": [
    "<span style=\"color:rgb(160,0,86)\">***Definition:***</span> \n",
    "Bei einem Zufallsstichprobenverfahren hat ***jede verfügbare Einheit*** der Grundgesamtheit bei jeder Ziehung ***die gleiche Chance***, in die Stichprobe aufgenommen zu werden. Die daraus resultierende Stichprobe wird als **einfache Zufallsstichprobe** bezeichnet. \n",
    "\n",
    "Die Stichprobenziehung kann\n",
    "- **mit Zurücklegen** erfolgen, die Einheiten werden nach jeder Ziehung wieder in die Grundgesamtheit aufgenommen, damit sie in Zukunft erneut ausgewählt werden können.\n",
    "- **ohne Zurücklegen** erfolgen, die Einheiten werden nach jeder Ziehung nicht wieder in die Grundgesamtheit aufgenommen, damit stehen die einmal ausgewählten Einheiten für künftige Ziehungen nicht mehr zur Verfügung.\n",
    "<br>\n",
    "\n",
    "Bei der Erstellung einer Schätzung auf der Grundlage einer Stichprobe ist die **Datenqualität** wichtig: \n",
    "- ***Vollständigkeit*** <br>\n",
    "  Alle relevanten Werte müssen vorhanden sein – es dürfen keine wichtigen Daten fehlen. Wenn wir zum Beispiel das *durchschnittliche Einkommen* von Angestellten schätzen wollen, aber in der Stichprobe fehlen für 30% der Personen die Einkommenseinträge, dann ist die Schätzung möglicherweise verzerrt. Es könnte sein, dass gerade die Personen mit hohem Einkommen eher keine Angabe machen. <br>\n",
    "  <span style=\"color:rgb(160,0,86)\">***Merksatz:***</span> Fehlende Daten können zu falschen Schlüssen führen, selbst wenn die vorhandenen Daten korrekt sind.\n",
    "- ***Konsistenz des Formats*** <br>\n",
    "  Alle Daten sollten im gleichen Format oder Einheit vorliegen. Wenn wir zum Beispiel die durchschnittliche *Gesamtnote des Ausbildungsabschlusses* von Angestellen schätzen wollen, aber die Angaben aus unterschiedlichen Notenskalen gemacht werden (Bestnote 1 versus Bestnote 6), dann können wir keine durchschnittliche Note schätzen. <br>\n",
    "  <span style=\"color:rgb(160,0,86)\">***Merksatz:***</span> Formatfehler sind tückisch, weil sie nicht immer sofort auffallen, aber Schätzungen massiv verfälschen.\n",
    "- ***Sauberkeit und Genauigkeit der einzelnen Datenpunkte*** <br>\n",
    "  Einzelne Werte sollen plausibel und korrekt sein (keine Tippfehler, Ausreisser oder Messfehler). Wenn zum Beispiel beim Merkmal *Alter* ein Wert <tt>\"250\"</tt> statt <tt>\"25\"</tt>, verfälscht dieser einzelne Fehler bei kleinen Stichproben den Mittelwert deutlich.<br>\n",
    "  <span style=\"color:rgb(160,0,86)\">***Merksatz:***</span> Ein einzelner fehlerhafter Datenpunkt kann eine ganze Schätzung kippen.\n",
    "  \n",
    "In der Statistik sagen wir, dass eine Stichprobe **repräsentativ** sein muss.\n",
    "\n",
    "<span style=\"color:rgb(160,0,86)\">***Definition:***</span> \n",
    "Eine Stichprobe heisst ***repräsentativ***, wenn ihre statistischen Merkmale (Lage, Streuung, Häufigkeiten) die entsprechenden Merkmale der Grundgesamtheit möglichst gut widerspiegeln.\n",
    "\n",
    "<span style=\"color:rgb(160,0,86)\">***Merksatz:***</span> Eine Stichprobe ist repräsentativ, wenn sie die Grundgesamtheit **unverzerrt** abbildet und keine **systematische Über**- oder **Unterrepräsentation** bestimmter Teilgruppen enthält."
   ]
  },
  {
   "cell_type": "markdown",
   "id": "cacf7677-4811-4129-98cf-b43f7bbfa4c0",
   "metadata": {},
   "source": [
    "#### <span style=\"color:rgb(160,0,86)\">Beispiele: Das \"Literary Digest Disaster\" von 1936</span>\n",
    "\n",
    "Der demokratische Amtsinhaber ***Franklin D. Roosevelt*** steht kurz vor dem Ende seiner ersten Amtszeit und muss sein Mandat gegen den republikanischen Herausforderer ***Alfred M. Landon***, den Gouverneur von Kansas, verteidigen. \n",
    "\n",
    "<center>\n",
    "<img src=\"Bilder/Kandidaten.png\" width=\"45%\" />\n",
    "</center>\n",
    "\n",
    "Zu dieser Zeit erfreut sich das wöchentlich erscheinende Magazin ***Literary Digest*** einer grossen Popularität. Die Herausgeber des Digest können angesichts der Wahl auf eine erstaunliche Erfolgsserie zurückblicken: Mit Hilfe von ***Meinungsumfragen*** war es nämlich gelungen, die Sieger der Präsidentschaftswahlen von 1916, 1920, 1924, 1928 und 1932 korrekt vorherzusagen. \n",
    "\n",
    "<center>\n",
    "<img src=\"Bilder/LD.png\" width=\"55%\" />\n",
    "</center>\n",
    "\n",
    "Auch für 1936 plante das Magazin wieder eine grossangelegte Wahlbefragung – und dieses Jahr wollte man alles bisher dagewesene übertreffen und den Wahlausgang mit der **grössten Wählerbefragung aller Zeiten** noch genauer vorhersagen.\n",
    "\n",
    "Die bisherigen Digest-Wahlumfragen basierten auf Quasi-Vollerhebungen unter der Leserschaft des Magazins. Als Publikation, die keinem politischen Lager zugeordnet werden konnte, besass der Digest Leser sowohl unter den Anhängern der Republikaner wie auch der Demokraten – und natürlich der unpolitischen Mehrheit. Einige Monate vor der Wahl lagen einer bestimmten Ausgabe des Digest ***Stimmzettel*** im Postkartenformat bei, auf denen ein Kandidat angekreuzt werden konnte und die anschliessend zum Verlag zurückgeschickt wurden. Auf diese Weise führte das Magazin quasi eine Vollerhebung unter der eigenen Leserschaft durch, wobei natürlich längst nicht jeder teilnahm.\n",
    "\n",
    "**Die grösste Stichprobe der US-Wahlforschung**\n",
    "\n",
    "Für 1936 hatte man sich vorgenommen, die Genauigkeit der bisherigen Befragungen dadurch zu übertreffen, dass man eine deutlich vergrösserte Stichprobe zog. Das bisherige Verfahren mit den beiliegenden Stimmzetteln wurde durch eine der ***ersten Telefonbefragungen*** überhaupt ergänzt, basierend auf einer **Zufallsauswahl anhand des Telefonregisters** sowie des KfZ-Registers. Postalische und telefonische Befragung erreichten insgesamt **mehr als 10 Millionen** wahlberechtigte Amerikaner, von denen sich etwa 2.3 Millionen an der Stimmabgabe beteiligten – eine Stichprobe bisher unerreichten Umfangs (immerhin ein knappes Viertel der 45.6 Millionen späteren Wähler), von der man annahm, dass sie zu einer hochpäzisen Prognose des Wahlausgangs führen würde.\n",
    "\n",
    "<center>\n",
    "<img src=\"Bilder/LDOktober1936.png\" width=\"65%\" />\n",
    "</center>\n",
    "\n",
    "Auf der Basis dieser Ergebnisse prognostizierte der Literary Digest einen Erdrutschsieg für den Republikaner Landon und titelte: <tt>\"Landon in a Landslide!\"</tt>.\n",
    "\n",
    "Tatsächlich erhielt jedoch bekanntlich Roosevelt das Mandat für eine zweite Amtszeit. Und das mit einem enormen Vorsprung: Lediglich in zwei Bundesstaaten – Vermont und Massachusetts – konnte Landon die Wahl für sich entscheiden – einer der deutlichsten Wahlsiege der US-Geschichte. Insgesamt konnte Roosevelt 61% der Wählerstimmen und ganze 98% der „Wahlmänner” auf sich vereinen.\n",
    "\n",
    "<center>\n",
    "<img src=\"Bilder/PrognoseLD.png\" width=\"90%\" />\n",
    "</center>\n",
    "\n",
    "Die Blamage für das Magazin und der Riss in der eigenen Glaubwürdigkeit waren so gewaltig, dass die Leserschaft in den Folgejahren rapide abnahm und der Literary Digest schliesslich eingestellt werden musste. \n",
    "\n",
    "**Übrigens:** 1936 gelangte auch ein späterer Pionier der Markt- und Meinungsforschung zu erstem Ruhm. Der junge George Gallup (Begründer der *Gallup-Umfrage*) konnte ***anhand einer wesentlich kleineren Sichprobe*** - er führte alle zwei Wochen Umfragen unter nur 2000 Personen durch -  einen Sieg Roosevelts korrekt voraussagen, ganz im Gegensatz zu den Statistikern des Digest. \n",
    "\n",
    "<center>\n",
    "<img src=\"Bilder/Gallup.png\" width=\"40%\" />\n",
    "</center>\n",
    "\n",
    "Doch wie konnte es zu dieser geradezu unfassbar schlechten Wahlprognose, dieser bis dato **grössten Blamage der Wahlforschung** kommen?\n",
    "\n",
    "Im wesentlichen sind zwei Verzerrungseffekte für die enorme Abweichung des vorhergesagten vom tatsächlichen Wahlergebnis verantwortlich. \n",
    "1. Bei der Planung der Telefonbefragung wurde tatsächlich ausser Acht gelassen, dass ***Telefone*** 1936 noch längst ***nicht flächendeckend verfügbar*** waren und sich ***das Merkmal Telefoninhaber*** keineswegs zufällig in der Gesamtbevölkerung verteilte. Der Grossteil aller Anschlüsse befand sich in einkommensstarken Haushalten, die traditionell dem konservativ-republikanischen Lager zuneigen. <br> Ähnliches gilt für das ***KfZ-Register***, denn auch die Mehrheit der Automobilinhaber stammte 1936 noch aus einkommensstarken Schichten. Trotzdem fand **keine Gewichtung der Ergebnisse** statt, um den überproportionalen Anteil republikanischer Wähler auszugleichen, so dass sich die Verzerrung (Bias) im Auswahlverfahren auf das Endergebnis auswirken konnte. <br>\n",
    "Als Erkenntnis aus diesem, ersten Fehler ist demnach festzuhalten, dass <span style=\"color:rgb(160,0,86)\">**auch eine korrekt durchgeführte Zufallsauswahl nicht zu einer brauchbaren Stichprobe führt, wenn sie aus einer Teilmenge der Grundgesamtheit entnommen wird, in der hinsichtlich der untersuchten Merkmale keine Strukturäquivalenz zur Grundgesamtheit besteht**</span> – wie eben bei den Telefonverwendern und den Wahlberechtigten. <br> **Dieses Problem ist dank der Online-Marktforschung heute wieder hochaktuell** (Panelrekrutierung).\n",
    "\n",
    "2. Die zweite Verzerrung trat im Bereich der schriftlichen Befragung auf. Der überwiegende Anteil der 10 Millionen angesprochenen Wahlberechtigten wurde über die Stimmzettel erreicht, doch ***nur etwas mehr als 20% der Angesprochenen beteiligten sich auch an der Stimmabgabe***. Da das **Merkmal Motivation zur Teilnahme** in der Regel nicht zufällig in einer beliebigen Gruppe von angesprochenen Personen verteilt ist, sondern mit anderen Merkmalen zusammenhängt, ist dadurch, dass die **Probanden selbst entscheiden, ob sie zur Stichprobe gehören**, eine Verzerrung zu erwarten. <span style=\"color:rgb(160,0,86)\">**Die Stichprobe bildet sich in solchen Fällen gewissermassen selbst, ein Vorgang, der als Selbstselektion bezeichnet wird und der in der Regel zu starken Verzerrungen führt**</span>."
   ]
  },
  {
   "cell_type": "markdown",
   "id": "35a92623-750d-4970-b504-aa676033fc1a",
   "metadata": {},
   "source": [
    "***\n",
    "\n",
    "### <span style=\"color:rgb(160,0,86)\">Was ist eine Stichprobenverzerrung?</span>\n",
    "\n",
    "<span style=\"color:rgb(160,0,86)\">***Merksatz:***</span> Eine ***Verzerrung der Stichprobe*** liegt vor, wenn der Unterschied \n",
    "-  bedeutsam ist und\n",
    "-  davon ausgegangen werden kann, dass er ***auch bei anderen Stichproben bestehen bleibt***, die auf gleiche Weise erhoben werden.\n",
    "\n",
    "Die Bewertungen von Restaurants, Hotels, Cafés usw., die sie auf Social-Media-Websites lesen, sind zum Beispiel anfällig für Verzerrungen, da die Personen, die sie abgeben, nicht zufällig ausgewählt werden, sondern selbst die Initiative zum Schreiben ergriffen haben. \n",
    "\n",
    "- Dies führt zu einer **Verzerrung durch Selbstselektion**.\n",
    "\n",
    "Die Personen, die motiviert sind, Bewertungen zu schreiben, sind möglicherweise diejenigen, die schlechte Erfahrungen gemacht haben, die mit der Einrichtung in Verbindung stehen oder die einfach eine andere Art von Person sind als diejenigen, die keine Bewertungen schreiben. \n",
    "\n",
    "<span style=\"color:rgb(160,0,86)\">***Bemerkung:***</span> Beachten sie, dass Stichproben mit Selbstselektion zwar unzuverlässige Indikatoren für die tatsächliche Situation sein können, dass sie aber zuverlässig sein können, wenn man einfach einen Betrieb **mit einem ähnlichen vergleicht**, weil allenfalls derselbe Selbstselektionsbias für beide gelten.\n",
    "\n",
    "<span style=\"color:rgb(160,0,86)\">***Definition:***</span> \n",
    "Eine **statistische Verzerrung (Bias)**  bezieht sich auf ***systematische Mess- oder Stichprobenfehler***, die durch das Mess- oder Stichprobenverfahren verursacht werden. \n",
    "\n",
    "Eine wichtige Unterscheidung sollte zwischen ***Fehlern aufgrund*** \n",
    "- **des Zufalls** und\n",
    "- **von Verzerrungen**\n",
    "getroffen werden.\n",
    "\n",
    "Betrachten wir den physikalischen Prozess eines Gewehrs, das auf ein Ziel schiesst. Es wird nicht jedes Mal der Mittelpunkt des Ziels getroffen. \n",
    "\n",
    "- Auch bei einem ***unverzerrten Prozess*** gibt es Fehler, aber diese sind zufällig und tendieren nicht stark in eine Richtung.\n",
    "- Ergebnisse zeigen eine ***Verzerrung***, wenn es immer noch zufällige Fehler gibt, aber die Schüsse zum Beispiel dazu neigen, in einen anderen Quadranten zu fallen.\n",
    "\n",
    "<center>\n",
    "<img src=\"Bilder/Bias.png\" width=\"55%\" />\n",
    "</center>\n",
    "\n",
    "Verzerrungen treten in verschiedenen Formen auf und können **beobachtbar** oder **unsichtbar** sein. \n",
    "\n",
    "Wenn ein Ergebnis auf eine Verzerrung hindeutet (etwa bezüglich eines Referenzwertes oder tatsächliche Werte), ist dies häufig ein Indikator dafür, dass ein statistisches oder maschinelles Lernmodell ***falsch spezifiziert*** wurde oder ***ein wichtiges Merkmal nicht berücksichtigt wurde***."
   ]
  },
  {
   "cell_type": "markdown",
   "id": "d19ede3c-720d-4ffc-8b60-2dc2745eac04",
   "metadata": {},
   "source": [
    "***\n",
    "\n",
    "### <span style=\"color:rgb(160,0,86)\">Was ist eine Auswahlverzerrung?</span>\n",
    "\n",
    "<span style=\"color:rgb(160,0,86)\">***Merksatz:***</span>  Wenn man eine ***Behauptung*** aufstellt und dann ein ***gut konzipiertes Experiment*** durchführt, um sie zu testen, kann man sich auf die Schlussfolgerung verlassen. \n",
    "\n",
    "**Das ist jedoch oft nicht der Fall!** \n",
    "\n",
    "<span style=\"color:rgb(160,0,86)\">***Definition:***</span> \n",
    "Unter **Auswahlverzerrung** versteht man die ***bewusste oder unbewusste Auswahl von Daten*** in einer Weise, die zu einer irreführenden oder flüchtigen Schlussfolgerung führt.\n",
    "\n",
    "- Häufig betrachtet man die verfügbaren Daten und versucht, Muster zu erkennen. Aber ist das Muster echt oder nur das Produkt von **Datenschnüffelei**?\n",
    "- Wenn Daten ausgiebig durchforstet werden, bis etwas Interessantes zum Vorschein kommt, besteht die Gefahr einer Auswahlverzerrung. \n",
    "\n",
    "Es gibt ein Sprichwort unter Statistikern: <span style=\"color:rgb(160,0,86)\">***Wenn man die Daten lange genug quält, werden sie früher oder später gestehen.***</span>\n",
    "\n",
    "Anhand des **folgenden Beispiels** lässt der ***Unterschied zwischen einem Phänomen*** verdeutlichen, das man \n",
    "1. <span style=\"color:rgb(160,0,86)\">***nachweisen kann***</span>, wenn man eine Behauptung **mit Hilfe eines Experiments** testet. \n",
    "2. <span style=\"color:rgb(160,0,86)\">***entdeckt***</span>, wenn man die **verfügbaren Daten durchsichtet**. \n",
    "\n",
    "#### <span style=\"color:rgb(160,0,86)\">Beispiel: Ein Gedankenexperiment zu besonderer Begabung</span>\n",
    "1. Stellen wir uns vor, jemand erzählt uns, dass sie eine Münze werfen kann, so dass sie bei den nächsten 10 Würfen Kopf zeigt. Wir fordern sie heraus! Das enspricht einem statistischen Versuch. Sie wirft die Münze 10 Mal und alle Würfe landen auf Kopf. Offensichtlich schreiben wir ihr eine besondere Begabung zu - die Wahrscheinlichkeit, dass 10 Münzwürfe zufällig Kopf ergeben, liegt bei 1 zu 1000. \n",
    "2. Stellen wir uns nun vor, dass ein Stadionsprecher die 20000 Zuschauer auffordert, zehnmal eine Münze zu werfen und sich bei einem Platzanweiser zu melden, wenn sie zehnmal hintereinander Kopf bekommen. Die Wahrscheinlichkeit, dass jemand im Stadion 10 Mal Kopf erhält, ist extrem hoch - mehr als 99%! (es ist 1 minus der Wahrscheinlichkeit, dass niemand 10 Mal Kopf erhält). Die nachträgliche Auswahl einer Person im Stadion, die 10 Köpfe erhalten hat, deutet also nicht auf ein besonderes Talent hin - es ist höchstwahrscheinlich Glück. \n",
    "\n",
    "Da die ***wiederholte Überprüfung grosser Datensätze*** ein zentraler Bestandteil in der Datenwissenschaft ist, muss man sich über Auswahlverzerrungen Gedanken machen. \n",
    "\n",
    "Eine für Datenwissenschaftler besonders besorgniserregende Form der Verzerrung ist das, was John Elder (Gründer von Elder Research, einem angesehenen Data-Mining-Beratungsunternehmen) den ***vast search effect*** nennt.\n",
    "- Wenn man wiederholt verschiedene Fragen an einen grossen Datensatz stellt, ***wird man zwangsläufig etwas Interessantes finden***. \n",
    "\n",
    "<span style=\"color:rgb(160,0,86)\">***Wichtige Frage:***</span> Ist das Ergebnis, das wir gefunden haben, ***wirklich interessant***, oder handelt es sich um einen ***zufälligen Ausreisser***?\n",
    "\n",
    "Zu den **typischen Formen von Auswahlverzerrungen** in der Statistik gehören neben dem ***vast search effect*** auch ***nicht zufällige Stichproben***: \n",
    "- das ***Herausgreifen von Daten*** oder die Auswahl von Zeitintervallen,\n",
    "die einen bestimmten statistischen Effekt verstärken,\n",
    "- das ***Abbrechen eines Experiments***, wenn die Ergebnisse *interessant* aussehen."
   ]
  },
  {
   "cell_type": "markdown",
   "id": "5cbfbdfd-aea3-4bef-8a2d-e24df284c6a5",
   "metadata": {},
   "source": [
    "***\n",
    "\n",
    "### <span style=\"color:rgb(160,0,86)\">Wie erreichen wir repräsentative Stichproben?</span>\n",
    "\n",
    "Um das Problem der Stichprobenverzerrung zu vermeiden, das den *Literary-Digest* dazu veranlasste, Landon gegenüber Roosevelt zu bevorzugen, entschied sich George Gallup für wissenschaftlichere Methoden, um eine für die amerikanische Wählerschaft repräsentative Stichprobe zu erhalten. \n",
    "\n",
    "Heute gibt es eine Vielzahl von Methoden, um **Repräsentativität** zu erreichen, aber das Herzstück all dieser Methoden ist die Zufallsstichprobe.\n",
    "\n",
    "Zufallsstichproben zu erhalten ist nicht immer einfach. Die ***richtige Definition einer zugänglichen Population*** ist entscheidend. \n",
    "\n",
    "#### <span style=\"color:rgb(160,0,86)\">Beispiele:</span>\n",
    "Nehmen wir an, wir wollen ein repräsentatives Profil von Kunden erstellen und müssen eine Pilotkundenbefragung durchführen. Die Umfrage muss repräsentativ sein, ist aber arbeitsintensiv. Zunächst müssen wir definieren, **wer ein Kunde ist**. Wir könnten etwa alle Kundendatensätze auswählen, bei denen der Kaufbetrag grösser Null ist. Es stellen sich weitere Fragen:\n",
    "- Schliessen wir alle früheren Kunden ein?\n",
    "- Schliessen wir Rückerstattungen ein?\n",
    "- Interne Testkäufe?\n",
    "- Sowohl Rechnungssteller als auch Kunde?\n",
    "\n",
    "Als nächstes müssen wir ein **Stichprobenverfahren** festlegen. Es könnte lauten: \n",
    "- *Wir Wählen 100 Kunden nach dem Zufallsprinzip aus*.\n",
    "\n",
    "Wenn es sich um eine **Stichprobe aus einem Datenstrom** handelt, etwa Kundentransaktionen in Echtzeit oder Web-Besucher, können **zeitliche Erwägungen** wichtig sein: \n",
    "- unterscheidet sich ein Web-Besucher um 10 Uhr morgens an einem Wochentag von einem Web-Besucher um 22 Uhr an einem Wochenende?\n",
    "\n",
    "\n",
    "Oft wird eine **geschichtete Stichprobe** verwendet, um sicherzustellen, dass alle wichtigen Teilgruppen der Grundgesamtheit angemessen vertreten sind.\n",
    "\n",
    "<span style=\"color:rgb(160,0,86)\">***Definition:***</span>\n",
    "Bei geschichteten Stichproben wird die Grundgesamtheit in Schichten eingeteilt, und ***aus jeder Schicht werden Zufallsstichproben gezogen***. \n",
    "\n",
    "#### <span style=\"color:rgb(160,0,86)\">Beispiele:</span>\n",
    "Wenn Meinungsforscher die Wahlvorlieben von ***Weissen***, ***Schwarzen*** und ***Hispanics*** untersuchen wollen, reicht eine einfache Zufallsstichprobe oft nicht aus. \n",
    "- In einer solchen Stichprobe wären zu wenige Schwarze und Hispanics vertreten.\n",
    "- Deshalb muss man bei einer geschichteten Stichprobe diese Gruppen gezielt stärker berücksichtigen, damit jede Gruppe gross genug in der Stichprobe vertreten ist."
   ]
  },
  {
   "cell_type": "markdown",
   "id": "d7761279-0f3f-4437-97c4-aa44cd53226a",
   "metadata": {},
   "source": [
    "***\n",
    "\n",
    "### <span style=\"color:rgb(160,0,86)\">Was ist der Unterschied zwischen Grösse und Qualität?</span>\n",
    "\n",
    "Wann kommt es auf die Grösse an? In der Ära der grossen Datenmengen ist es manchmal überraschend, ***dass kleiner besser ist***. \n",
    "\n",
    "Die **Zeit** und der **Aufwand**, die für die Stichprobenziehung aufgewendet werden, verringern nicht nur Verzerrungen, sondern ermöglichen auch eine grössere Aufmerksamkeit für die  **Datenqualität**. \n",
    "- So können beispielsweise ***fehlende Daten*** und ***Ausreisser*** nützliche Informationen enthalten.\n",
    "- Das Aufspüren von fehlenden Werten oder die Auswertung von Ausreissern in Millionen von Datensätzen kann ***unerschwinglich teuer*** sein, aber bei einer Stichprobe von mehreren tausend Datensätzen ist dies ***durchaus machbar***.\n",
    "- ***Datenvisualisierung*** und ***manuelle Inspektion*** sind bei einer zu grossen Datenmenge nicht mehr möglich.\n",
    "\n",
    "<span style=\"color:rgb(160,0,86)\">**Wann werden also grosse Datenmengen benötigt?**</span>\n",
    "\n",
    "Das klassische Szenario für den Wert von Big Data ist, wenn die Daten **nicht nur massenhaft** vorliegen, sondern **auch dünn besetzt** sind. \n",
    "\n",
    "Nehmen wir die von Google empfangenen ***Suchanfragen***, bei denen die Spalten **Begriffe** sind, die Zeilen **einzelne Suchanfragen** und die Zellenwerte entweder **0 oder 1** sind, je nachdem, ob eine Anfrage einen Begriff enthält. Ziel ist es, das beste vorausgesagte Suchziel für eine bestimmte Anfrage zu ermitteln. \n",
    "\n",
    "Es gibt mehr als ***150000 Wörter*** in der englischen Sprache, und Google verarbeitet über ***1 Billion Suchanfragen pro Jahr***. Daraus ergibt sich eine riesige Matrix, bei der die **überwiegende Mehrheit der Einträge 0** ist.\n",
    "\n",
    "$$\\begin{array}{c|ccccc}\n",
    "&\\cdots&\\text{Ricky}&\\cdots&\\text{Rotkäppchen}&\\cdots\\\\ \\hline \n",
    "\\text{Suche 1}&\\cdots&0&\\cdots&1&\\cdots\\\\\n",
    "\\text{Suche 2}&0&1&0&1&0\\\\\n",
    "\\text{Suche 3}&\\cdots&0&\\cdots&0&\\cdots\\\\\n",
    "\\vdots&\\vdots&\\vdots&\\vdots&\\vdots&\\vdots\\end{array}$$\n",
    "\n",
    "<span style=\"color:rgb(160,0,86)\">**Dies ist ein echtes Big-Data-Problem!**</span> \n",
    "\n",
    "Nur wenn enorme Datenmengen angehäuft werden, können für die meisten Abfragen effektive Suchergebnisse geliefert werden. Und ***je mehr Daten sich ansammeln, desto besser sind die Ergebnisse***. \n",
    "\n",
    "Bei ***populären Suchbegriffen*** ist dies kein Problem. Für die Handvoll extrem populärer Themen, die zu einem bestimmten Zeitpunkt im Trend liegen, lassen sich recht schnell effektive Daten finden. \n",
    "\n",
    "Der eigentliche Wert der modernen Suchtechnologie liegt in der Fähigkeit, detaillierte und nützliche Ergebnisse ***für eine Vielzahl von Suchanfragen*** zu liefern, auch für solche, die nur mit einer Häufigkeit von, sagen wir, eins zu einer Million auftreten.\n",
    "\n",
    "Nehmen wir die Suchanfrage ***Ricky Ricardo*** *und* ***Rotkäppchen***. \n",
    "- In den Anfängen des Internets hätte diese Suchanfrage wahrscheinlich Ergebnisse zu *Ricky Ricardo*, dem Bandleader der ***Fernsehsendung I Love Lucy***, in der er die Hauptrolle spielte, <span style=\"color:rgb(160,0,86)\">***und***</span> dem ***Kindermärchen Rotkäppchen*** geliefert.\n",
    "- Später, jetzt wo Billionen von Suchanfragen gesammelt wurden, liefert diese Suchanfrage <span style=\"color:rgb(160,0,86)\">***genau die***</span> ***I Love Lucy-Folge***, in der Ricky seinem kleinen Sohn in einer komischen Mischung aus Englisch und Spanisch die Geschichte von Rotkäppchen erzählt.\n",
    "\n",
    "Die Zahl der tatsächlich ***relevanten Datensätze*** - in denen genau diese oder eine sehr ähnliche Suchanfrage vorkommt (zusammen mit den Informationen welcher Link letztendlich angeklickt wurde) - ***muss nur in die Tausende gehen***, um effektiv zu sein. \n",
    "\n",
    "Es werden jedoch ***viele Billionen Datenpunkte*** benötigt, um ***diese relevanten Datensätze*** zu erhalten. Eine **kleine Zufallsstichprobe** ist  **nicht hilfreich**."
   ]
  },
  {
   "cell_type": "markdown",
   "id": "83b7fb11-187f-4e75-9044-d42567a0830e",
   "metadata": {},
   "source": [
    "***\n",
    "\n",
    "### <span style=\"color:rgb(160,0,86)\">Was ist eine Stichprobenverteilung?</span>\n",
    "\n",
    "Der Begriff **Stichprobenverteilung** bezieht sich auf die ***Verteilung eines Stichprobenkennwerts*** (wie Lagemasse, Streumasse oder Häufigkeiten) ***über viele hypothetische Stichproben***, die alle aus derselben Grundgesamtheit gezogen werden.\n",
    "\n",
    "Ein grosser Teil der klassischen Statistik beschäftigt sich damit, von einer Stichprobe auf die Grundgesamtheit zu schliessen.\n",
    "\n",
    "In der Praxis wird eine Stichprobe gezogen, um ***etwas zu messen*** (etwa den Mittelwert eines Merkamls) oder ***zu modellieren*** (zum Beispiel mit einem statistischen Lernverfahren).\n",
    "\n",
    "Da der berechnete Stichprobenkennwert auf einer einzelnen Stichprobe beruht, ist er **zufallsbehaftet**. Er könnte anders ausfallen, wenn wir eine andere Stichprobe ziehen würden.\n",
    "\n",
    "Diese ***zufälligen Unterschiede zwischen Stichproben*** bezeichnet man als **Stichprobenvariabilität**.\n",
    "\n",
    "Wären viele unabhängige Stichproben verfügbar, könnten wir die Verteilung des Stichprobenkennwerts empirisch beobachten und veststellen, wie stark der Mittelwert zwischen Stichproben schwankt.\n",
    "\n",
    "In der Realität steht uns aber meist nur eine einzige Stichprobe zur Verfügung, weshalb wir die Stichprobenverteilung theoretisch (durch Simulation oder mathematische Modelle) beschreiben.\n",
    "\n",
    "<span style=\"color:rgb(160,0,86)\">**Wichtig:**</span> Man muss klar unterscheiden zwischen der\n",
    "- **Datenverteilung** (Verteilung der einzelnen Beobachtungen in einer Stichprobe) und\n",
    "- **Stichprobenverteilung** (Verteilung eines Kennwerts über viele mögliche Stichproben).\n",
    "\n",
    "Die ***Stichprobenverteilung*** eines Datenkennwerts ist in der Regel ***glatter*** und näherungsweise ***glockenförmig*** (normalverteilt) als die Datenverteilung selbst.\n",
    "\n",
    "<span style=\"color:rgb(160,0,86)\">**Zudem gilt:**</span> Je grösser die Stichprobe, desto enger (präziser) ist die Verteilung der Stichprobenstatistik.\n",
    "\n",
    "Dieses Prinzip wird im Folgenden am Beispiel der ***Jahreseinkommen von Kreditantragstellern*** bei **Lending Club** veranschaulicht.\n"
   ]
  },
  {
   "cell_type": "markdown",
   "id": "f6bfec03-3244-4083-ac86-e471567b0313",
   "metadata": {},
   "source": [
    "### <span style=\"color:rgb(160,0,86)\">Aufgabe 3</span>\n",
    "\n",
    "Laden Sie die Datei *loans_income.csv* im Ordner Daten und nehmen Sie drei **Zufallsstichproben** aus diesen Daten: \n",
    "\n",
    "1) Stichprobe $\\pmb{A}$ von **1000 Werten**,\n",
    "2) eine Stichprobe $\\pmb{B}$ von **1000 Mittelwerten von 5 Werten** und\n",
    "3) eine Stichprobe $\\pmb{C}$ von **1000 Mittelwerten von 20 Werten**.\n",
    "\n",
    "Zeichnen Sie dann ein Dichtediagramm für jede Stichprobe. Was fällt auf? Zeichnen Sie eine **Normalverteilung** in das Dichtediagramm der Stichprobe $\\pmb{B}$ und $\\pmb{C}$, die möglichst gut zu den Stichprobevariablen passt. "
   ]
  },
  {
   "cell_type": "code",
   "execution_count": null,
   "id": "73dd09c2-3496-45a2-ac92-afefe38cac11",
   "metadata": {},
   "outputs": [],
   "source": []
  },
  {
   "cell_type": "markdown",
   "id": "afc58872-4e9b-44ca-97e9-2b7c5f4e62f7",
   "metadata": {},
   "source": [
    "![HSLU](Bilder/LogoHSLU.png)"
   ]
  }
 ],
 "metadata": {
  "kernelspec": {
   "display_name": "Python 3 (ipykernel)",
   "language": "python",
   "name": "python3"
  },
  "language_info": {
   "codemirror_mode": {
    "name": "ipython",
    "version": 3
   },
   "file_extension": ".py",
   "mimetype": "text/x-python",
   "name": "python",
   "nbconvert_exporter": "python",
   "pygments_lexer": "ipython3",
   "version": "3.13.7"
  }
 },
 "nbformat": 4,
 "nbformat_minor": 5
}
